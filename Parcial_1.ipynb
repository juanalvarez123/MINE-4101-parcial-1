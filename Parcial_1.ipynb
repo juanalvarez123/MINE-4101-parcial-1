{
  "nbformat": 4,
  "nbformat_minor": 0,
  "metadata": {
    "colab": {
      "provenance": [],
      "toc_visible": true,
      "collapsed_sections": []
    },
    "kernelspec": {
      "name": "python3",
      "display_name": "Python 3"
    },
    "language_info": {
      "name": "python"
    }
  },
  "cells": [
    {
      "cell_type": "markdown",
      "source": [
        "# MINE-4101: Parcial 1\n",
        "\n",
        "Juan Sebastian Alvarez Eraso\n",
        "\n",
        "Código: 201822427"
      ],
      "metadata": {
        "id": "TZS-BtPpqO6F"
      }
    },
    {
      "cell_type": "markdown",
      "source": [
        "*“Al entregar la solución de este parcial, yo, Juan Sebastian Alvarez Eraso con código 201822427 me comprometo a no conversar durante el desarrollo de este examen con ninguna persona que no sea el profesor del curso, sobre aspectos relacionados con el parcial; tampoco utilizaré algún medio de comunicación por voz, texto o intercambio de archivos, para consultar o compartir con otros, información sobre el tema del parcial. Soy consciente y acepto las consecuencias que acarreará para mi desempeño académico cometer fraude en este parcial“*"
      ],
      "metadata": {
        "id": "uHdPmteAqcNk"
      }
    },
    {
      "cell_type": "markdown",
      "source": [
        "# Diccionario de datos"
      ],
      "metadata": {
        "id": "yLXP1sigsUIB"
      }
    },
    {
      "cell_type": "markdown",
      "source": [
        "id: Identificador del inmueble\n",
        "\n",
        "neighbourhood group: Localidad o distrito en el que se encuentra el inmueble\n",
        "\n",
        "neighbourhood:& Barrio en el que se encuentra el inmueble\n",
        "\n",
        "lat: Geolocalización del inmueble\n",
        "\n",
        "long: Geolocalización del inmueble\n",
        "\n",
        "country: País en el que se encuentra el inmueble\n",
        "\n",
        "instant_bookable: Indicador de si es posible realizar reserva directamente en la plataforma\n",
        "\n",
        "cancellation_policy: Política de cancelación de la reserva\n",
        "\n",
        "room type: Tipo de inmueble\n",
        "\n",
        "construction year: Año de construcción del inmueble\n",
        "\n",
        "price: Precio por noche del inmueble\n",
        "\n",
        "service fee: Costo del servicio el cual debe ser cancelado al dejar el inmueble\n",
        "\n",
        "minimum nights: Cantidad mínima de noches que el inmueble puede ser reservado\n",
        "\n",
        "availability 365: Disponibilidad total en días durante el último año\n",
        "\n",
        "number of reviews: Total de comentarios del inmueble\n",
        "\n",
        "review rate number: Calificación promedio dada al inmueble"
      ],
      "metadata": {
        "id": "CIkb6fbvsXfD"
      }
    },
    {
      "cell_type": "markdown",
      "source": [
        "# Configuración inicial"
      ],
      "metadata": {
        "id": "G4RgKOOqqZhk"
      }
    },
    {
      "cell_type": "code",
      "source": [
        "# Setup\n",
        "RUTA_DEL_DATASET_HISTORY = 'https://raw.githubusercontent.com/juanalvarez123/MINE-4101-parcial-1/main/Datasets/losalpes_history.csv'\n",
        "RUTA_DEL_DATASET_NEW = 'https://raw.githubusercontent.com/juanalvarez123/MINE-4101-parcial-1/main/Datasets/losalpes_new.csv'\n",
        "\n",
        "import pandas as pd\n",
        "import warnings\n",
        "import matplotlib.pyplot as plt\n",
        "\n",
        "# Configuración de pandas para extender el número de filas y columnas en la visualización\n",
        "pd.set_option('display.max_rows', 100)\n",
        "pd.set_option('display.max_columns', 100)\n",
        "# Deshabilitar warnings\n",
        "pd.options.mode.chained_assignment = None\n",
        "warnings.simplefilter(action='ignore', category=FutureWarning)\n",
        "\n",
        "!pip install pylev"
      ],
      "metadata": {
        "id": "YGjlFQ8tqZN4",
        "colab": {
          "base_uri": "https://localhost:8080/"
        },
        "outputId": "e5be01ab-7c4f-44ac-cc0f-845d09a3963b"
      },
      "execution_count": 1,
      "outputs": [
        {
          "output_type": "stream",
          "name": "stdout",
          "text": [
            "Looking in indexes: https://pypi.org/simple, https://us-python.pkg.dev/colab-wheels/public/simple/\n",
            "Requirement already satisfied: pylev in /usr/local/lib/python3.7/dist-packages (1.4.0)\n"
          ]
        }
      ]
    },
    {
      "cell_type": "code",
      "source": [
        "# Cargar los datasets\n",
        "df = pd.read_csv(RUTA_DEL_DATASET_HISTORY)\n",
        "df_new_tmp = pd.read_csv(RUTA_DEL_DATASET_NEW)\n",
        "\n",
        "df.head(5)"
      ],
      "metadata": {
        "colab": {
          "base_uri": "https://localhost:8080/",
          "height": 392
        },
        "id": "o3nLBxQoqxk1",
        "outputId": "99908973-e1c7-49a4-83c4-1d05881d2d64"
      },
      "execution_count": 2,
      "outputs": [
        {
          "output_type": "execute_result",
          "data": {
            "text/plain": [
              "         id neighbourhood group       neighbourhood       lat      long  \\\n",
              "0  48540006           Manhattan      Hell's Kitchen  40.76212 -73.98820   \n",
              "1  35079903           Manhattan             Midtown  40.74623 -73.98499   \n",
              "2  50681273           Manhattan     Upper West Side  40.78859 -73.97568   \n",
              "3  13039267           Manhattan  Financial District  40.70817 -74.00511   \n",
              "4   8998640           Manhattan     Lower East Side  40.72130 -73.98900   \n",
              "\n",
              "         country instant_bookable cancellation_policy        room type  \\\n",
              "0  United States             True              strict  Entire home/apt   \n",
              "1  United States             True            flexible       Hotel room   \n",
              "2  United States            False            flexible     Private room   \n",
              "3  United States            False              strict     Private room   \n",
              "4  United States             True            moderate  Entire home/apt   \n",
              "\n",
              "   construction year  price service fee  minimum nights  availability 365  \\\n",
              "0             2011.0  $ 851       $ 170             4.0             199.0   \n",
              "1             2021.0  $ 466        $ 93             1.0             161.0   \n",
              "2             2004.0  $ 874       $ 175            14.0               0.0   \n",
              "3             2012.0  $ 813       $ 163             1.0               0.0   \n",
              "4             2007.0  $ 326        $ 65             4.0             301.0   \n",
              "\n",
              "   number of reviews  review rate number  \n",
              "0              112.0                 1.0  \n",
              "1               13.0                 5.0  \n",
              "2                1.0                 2.0  \n",
              "3                5.0                 3.0  \n",
              "4                9.0                 3.0  "
            ],
            "text/html": [
              "\n",
              "  <div id=\"df-0ea50e69-794a-4b06-bdc7-cdf66dcdda99\">\n",
              "    <div class=\"colab-df-container\">\n",
              "      <div>\n",
              "<style scoped>\n",
              "    .dataframe tbody tr th:only-of-type {\n",
              "        vertical-align: middle;\n",
              "    }\n",
              "\n",
              "    .dataframe tbody tr th {\n",
              "        vertical-align: top;\n",
              "    }\n",
              "\n",
              "    .dataframe thead th {\n",
              "        text-align: right;\n",
              "    }\n",
              "</style>\n",
              "<table border=\"1\" class=\"dataframe\">\n",
              "  <thead>\n",
              "    <tr style=\"text-align: right;\">\n",
              "      <th></th>\n",
              "      <th>id</th>\n",
              "      <th>neighbourhood group</th>\n",
              "      <th>neighbourhood</th>\n",
              "      <th>lat</th>\n",
              "      <th>long</th>\n",
              "      <th>country</th>\n",
              "      <th>instant_bookable</th>\n",
              "      <th>cancellation_policy</th>\n",
              "      <th>room type</th>\n",
              "      <th>construction year</th>\n",
              "      <th>price</th>\n",
              "      <th>service fee</th>\n",
              "      <th>minimum nights</th>\n",
              "      <th>availability 365</th>\n",
              "      <th>number of reviews</th>\n",
              "      <th>review rate number</th>\n",
              "    </tr>\n",
              "  </thead>\n",
              "  <tbody>\n",
              "    <tr>\n",
              "      <th>0</th>\n",
              "      <td>48540006</td>\n",
              "      <td>Manhattan</td>\n",
              "      <td>Hell's Kitchen</td>\n",
              "      <td>40.76212</td>\n",
              "      <td>-73.98820</td>\n",
              "      <td>United States</td>\n",
              "      <td>True</td>\n",
              "      <td>strict</td>\n",
              "      <td>Entire home/apt</td>\n",
              "      <td>2011.0</td>\n",
              "      <td>$ 851</td>\n",
              "      <td>$ 170</td>\n",
              "      <td>4.0</td>\n",
              "      <td>199.0</td>\n",
              "      <td>112.0</td>\n",
              "      <td>1.0</td>\n",
              "    </tr>\n",
              "    <tr>\n",
              "      <th>1</th>\n",
              "      <td>35079903</td>\n",
              "      <td>Manhattan</td>\n",
              "      <td>Midtown</td>\n",
              "      <td>40.74623</td>\n",
              "      <td>-73.98499</td>\n",
              "      <td>United States</td>\n",
              "      <td>True</td>\n",
              "      <td>flexible</td>\n",
              "      <td>Hotel room</td>\n",
              "      <td>2021.0</td>\n",
              "      <td>$ 466</td>\n",
              "      <td>$ 93</td>\n",
              "      <td>1.0</td>\n",
              "      <td>161.0</td>\n",
              "      <td>13.0</td>\n",
              "      <td>5.0</td>\n",
              "    </tr>\n",
              "    <tr>\n",
              "      <th>2</th>\n",
              "      <td>50681273</td>\n",
              "      <td>Manhattan</td>\n",
              "      <td>Upper West Side</td>\n",
              "      <td>40.78859</td>\n",
              "      <td>-73.97568</td>\n",
              "      <td>United States</td>\n",
              "      <td>False</td>\n",
              "      <td>flexible</td>\n",
              "      <td>Private room</td>\n",
              "      <td>2004.0</td>\n",
              "      <td>$ 874</td>\n",
              "      <td>$ 175</td>\n",
              "      <td>14.0</td>\n",
              "      <td>0.0</td>\n",
              "      <td>1.0</td>\n",
              "      <td>2.0</td>\n",
              "    </tr>\n",
              "    <tr>\n",
              "      <th>3</th>\n",
              "      <td>13039267</td>\n",
              "      <td>Manhattan</td>\n",
              "      <td>Financial District</td>\n",
              "      <td>40.70817</td>\n",
              "      <td>-74.00511</td>\n",
              "      <td>United States</td>\n",
              "      <td>False</td>\n",
              "      <td>strict</td>\n",
              "      <td>Private room</td>\n",
              "      <td>2012.0</td>\n",
              "      <td>$ 813</td>\n",
              "      <td>$ 163</td>\n",
              "      <td>1.0</td>\n",
              "      <td>0.0</td>\n",
              "      <td>5.0</td>\n",
              "      <td>3.0</td>\n",
              "    </tr>\n",
              "    <tr>\n",
              "      <th>4</th>\n",
              "      <td>8998640</td>\n",
              "      <td>Manhattan</td>\n",
              "      <td>Lower East Side</td>\n",
              "      <td>40.72130</td>\n",
              "      <td>-73.98900</td>\n",
              "      <td>United States</td>\n",
              "      <td>True</td>\n",
              "      <td>moderate</td>\n",
              "      <td>Entire home/apt</td>\n",
              "      <td>2007.0</td>\n",
              "      <td>$ 326</td>\n",
              "      <td>$ 65</td>\n",
              "      <td>4.0</td>\n",
              "      <td>301.0</td>\n",
              "      <td>9.0</td>\n",
              "      <td>3.0</td>\n",
              "    </tr>\n",
              "  </tbody>\n",
              "</table>\n",
              "</div>\n",
              "      <button class=\"colab-df-convert\" onclick=\"convertToInteractive('df-0ea50e69-794a-4b06-bdc7-cdf66dcdda99')\"\n",
              "              title=\"Convert this dataframe to an interactive table.\"\n",
              "              style=\"display:none;\">\n",
              "        \n",
              "  <svg xmlns=\"http://www.w3.org/2000/svg\" height=\"24px\"viewBox=\"0 0 24 24\"\n",
              "       width=\"24px\">\n",
              "    <path d=\"M0 0h24v24H0V0z\" fill=\"none\"/>\n",
              "    <path d=\"M18.56 5.44l.94 2.06.94-2.06 2.06-.94-2.06-.94-.94-2.06-.94 2.06-2.06.94zm-11 1L8.5 8.5l.94-2.06 2.06-.94-2.06-.94L8.5 2.5l-.94 2.06-2.06.94zm10 10l.94 2.06.94-2.06 2.06-.94-2.06-.94-.94-2.06-.94 2.06-2.06.94z\"/><path d=\"M17.41 7.96l-1.37-1.37c-.4-.4-.92-.59-1.43-.59-.52 0-1.04.2-1.43.59L10.3 9.45l-7.72 7.72c-.78.78-.78 2.05 0 2.83L4 21.41c.39.39.9.59 1.41.59.51 0 1.02-.2 1.41-.59l7.78-7.78 2.81-2.81c.8-.78.8-2.07 0-2.86zM5.41 20L4 18.59l7.72-7.72 1.47 1.35L5.41 20z\"/>\n",
              "  </svg>\n",
              "      </button>\n",
              "      \n",
              "  <style>\n",
              "    .colab-df-container {\n",
              "      display:flex;\n",
              "      flex-wrap:wrap;\n",
              "      gap: 12px;\n",
              "    }\n",
              "\n",
              "    .colab-df-convert {\n",
              "      background-color: #E8F0FE;\n",
              "      border: none;\n",
              "      border-radius: 50%;\n",
              "      cursor: pointer;\n",
              "      display: none;\n",
              "      fill: #1967D2;\n",
              "      height: 32px;\n",
              "      padding: 0 0 0 0;\n",
              "      width: 32px;\n",
              "    }\n",
              "\n",
              "    .colab-df-convert:hover {\n",
              "      background-color: #E2EBFA;\n",
              "      box-shadow: 0px 1px 2px rgba(60, 64, 67, 0.3), 0px 1px 3px 1px rgba(60, 64, 67, 0.15);\n",
              "      fill: #174EA6;\n",
              "    }\n",
              "\n",
              "    [theme=dark] .colab-df-convert {\n",
              "      background-color: #3B4455;\n",
              "      fill: #D2E3FC;\n",
              "    }\n",
              "\n",
              "    [theme=dark] .colab-df-convert:hover {\n",
              "      background-color: #434B5C;\n",
              "      box-shadow: 0px 1px 3px 1px rgba(0, 0, 0, 0.15);\n",
              "      filter: drop-shadow(0px 1px 2px rgba(0, 0, 0, 0.3));\n",
              "      fill: #FFFFFF;\n",
              "    }\n",
              "  </style>\n",
              "\n",
              "      <script>\n",
              "        const buttonEl =\n",
              "          document.querySelector('#df-0ea50e69-794a-4b06-bdc7-cdf66dcdda99 button.colab-df-convert');\n",
              "        buttonEl.style.display =\n",
              "          google.colab.kernel.accessAllowed ? 'block' : 'none';\n",
              "\n",
              "        async function convertToInteractive(key) {\n",
              "          const element = document.querySelector('#df-0ea50e69-794a-4b06-bdc7-cdf66dcdda99');\n",
              "          const dataTable =\n",
              "            await google.colab.kernel.invokeFunction('convertToInteractive',\n",
              "                                                     [key], {});\n",
              "          if (!dataTable) return;\n",
              "\n",
              "          const docLinkHtml = 'Like what you see? Visit the ' +\n",
              "            '<a target=\"_blank\" href=https://colab.research.google.com/notebooks/data_table.ipynb>data table notebook</a>'\n",
              "            + ' to learn more about interactive tables.';\n",
              "          element.innerHTML = '';\n",
              "          dataTable['output_type'] = 'display_data';\n",
              "          await google.colab.output.renderOutput(dataTable, element);\n",
              "          const docLink = document.createElement('div');\n",
              "          docLink.innerHTML = docLinkHtml;\n",
              "          element.appendChild(docLink);\n",
              "        }\n",
              "      </script>\n",
              "    </div>\n",
              "  </div>\n",
              "  "
            ]
          },
          "metadata": {},
          "execution_count": 2
        }
      ]
    },
    {
      "cell_type": "code",
      "source": [
        "# Muestro la cantidad de registros y de columnas del dataset history\n",
        "df.shape"
      ],
      "metadata": {
        "colab": {
          "base_uri": "https://localhost:8080/"
        },
        "id": "4QjpZQ5HrzAr",
        "outputId": "607e7871-7eba-491a-9a6f-e3ddb3043cba"
      },
      "execution_count": 3,
      "outputs": [
        {
          "output_type": "execute_result",
          "data": {
            "text/plain": [
              "(102083, 16)"
            ]
          },
          "metadata": {},
          "execution_count": 3
        }
      ]
    },
    {
      "cell_type": "code",
      "source": [
        "# Muestro los tipos de datos del dataset history\n",
        "df.dtypes"
      ],
      "metadata": {
        "colab": {
          "base_uri": "https://localhost:8080/"
        },
        "id": "6tnos2hjsDdq",
        "outputId": "36948186-d197-4fb6-cae9-38b4e03ee34a"
      },
      "execution_count": 4,
      "outputs": [
        {
          "output_type": "execute_result",
          "data": {
            "text/plain": [
              "id                       int64\n",
              "neighbourhood group     object\n",
              "neighbourhood           object\n",
              "lat                    float64\n",
              "long                   float64\n",
              "country                 object\n",
              "instant_bookable        object\n",
              "cancellation_policy     object\n",
              "room type               object\n",
              "construction year      float64\n",
              "price                   object\n",
              "service fee             object\n",
              "minimum nights         float64\n",
              "availability 365       float64\n",
              "number of reviews      float64\n",
              "review rate number     float64\n",
              "dtype: object"
            ]
          },
          "metadata": {},
          "execution_count": 4
        }
      ]
    },
    {
      "cell_type": "code",
      "source": [
        "# Verifico la cantidad de nulos\n",
        "df.isnull().sum()"
      ],
      "metadata": {
        "colab": {
          "base_uri": "https://localhost:8080/"
        },
        "id": "S-xSU1b20-l3",
        "outputId": "918ccc16-8017-4d69-cb12-79beaf82421c"
      },
      "execution_count": 5,
      "outputs": [
        {
          "output_type": "execute_result",
          "data": {
            "text/plain": [
              "id                        0\n",
              "neighbourhood group     620\n",
              "neighbourhood           607\n",
              "lat                     599\n",
              "long                    599\n",
              "country                1116\n",
              "instant_bookable        696\n",
              "cancellation_policy     667\n",
              "room type               591\n",
              "construction year       804\n",
              "price                   838\n",
              "service fee             863\n",
              "minimum nights          994\n",
              "availability 365       1034\n",
              "number of reviews       770\n",
              "review rate number      909\n",
              "dtype: int64"
            ]
          },
          "metadata": {},
          "execution_count": 5
        }
      ]
    },
    {
      "cell_type": "markdown",
      "source": [
        "Hay muchos nulos, se debe hacer un tratamiento para estos datos."
      ],
      "metadata": {
        "id": "AjNUyDYhmWTF"
      }
    },
    {
      "cell_type": "markdown",
      "source": [
        "# Limpieza y preparación de los datos"
      ],
      "metadata": {
        "id": "siHwjsy4r_l9"
      }
    },
    {
      "cell_type": "code",
      "source": [
        "# Ver los valores únicos para las ciudades (\"neighbourhood group\")\n",
        "df['neighbourhood group'].unique()"
      ],
      "metadata": {
        "colab": {
          "base_uri": "https://localhost:8080/"
        },
        "id": "N3WdgMr83zld",
        "outputId": "f73fb35f-2411-4492-897f-2dca2bb7e1ba"
      },
      "execution_count": 6,
      "outputs": [
        {
          "output_type": "execute_result",
          "data": {
            "text/plain": [
              "array(['Manhattan', 'Brooklyn', 'Queens', 'Bronx', 'Staten Island', nan,\n",
              "       'Quens', 'Manattan', 'Broolkyn', 'Manhatan', 'brookln', 'manhatan'],\n",
              "      dtype=object)"
            ]
          },
          "metadata": {},
          "execution_count": 6
        }
      ]
    },
    {
      "cell_type": "markdown",
      "source": [
        "Hay valores como \"Manhattan\" y \"Manhatan\" que hacen referencia al mismo \"neighbourhood group\"."
      ],
      "metadata": {
        "id": "dPz8HU2X39TM"
      }
    },
    {
      "cell_type": "code",
      "source": [
        "# Reviso los valores únicos de la columna \"country\"\n",
        "df['country'].unique()"
      ],
      "metadata": {
        "colab": {
          "base_uri": "https://localhost:8080/"
        },
        "id": "HciP9XeYvW1x",
        "outputId": "8e2a9de7-7818-47e2-c929-120214489720"
      },
      "execution_count": 7,
      "outputs": [
        {
          "output_type": "execute_result",
          "data": {
            "text/plain": [
              "array(['United States', nan, 'United States of America'], dtype=object)"
            ]
          },
          "metadata": {},
          "execution_count": 7
        }
      ]
    },
    {
      "cell_type": "markdown",
      "source": [
        "Hay varios valores, pero todos correspoden con \"United States\" como país."
      ],
      "metadata": {
        "id": "614Odu20vfOe"
      }
    },
    {
      "cell_type": "code",
      "source": [
        "# Reviso los valores únicos de \"room type\"\n",
        "df['room type'].unique()"
      ],
      "metadata": {
        "colab": {
          "base_uri": "https://localhost:8080/"
        },
        "id": "1Hk7QPg91fJH",
        "outputId": "c011fe2f-af23-4d0e-e222-5f24dc7e833d"
      },
      "execution_count": 8,
      "outputs": [
        {
          "output_type": "execute_result",
          "data": {
            "text/plain": [
              "array(['Entire home/apt', 'Hotel room', 'Private room', 'Shared room',\n",
              "       nan], dtype=object)"
            ]
          },
          "metadata": {},
          "execution_count": 8
        }
      ]
    },
    {
      "cell_type": "markdown",
      "source": [
        "Hay varios valores pero están correctos, no hace falta unificarlos."
      ],
      "metadata": {
        "id": "8hDehxJ6kR_s"
      }
    },
    {
      "cell_type": "markdown",
      "source": [
        "Revisando los datos he tomado las siguientes desiciones:\n",
        "1. Los valores para \"neighbourhood group\" hay que unificarlos ya que hay algunos con typo errors.\n",
        "2. La columna \"country\" solo tiene el valor de \"United States\", hay más valores pero en realidad solo corresponden a uno, se puede eliminar.\n",
        "3. Transformo los valores de \"instant_bookable\" para trabajar con 0 y 1.\n",
        "4. Corregir los valores y el tipo de dato de \"price\" y de \"service fee\" ya que no son numéricos y además tienen caracteres especiales. Además, llenar los campos nulos con los valores promedio de estos.\n",
        "5. Llenar las columnas \"minimum nights\" y \"availability 365\" con la media de estas columnas.\n",
        "6. En el enunciado del ejercicio se menciona *“La popularidad de un inmueble está dada en términos de la cantidad de comentarios (reviews) que ha obtenido independientemente de su calificación“*, por lo que es posible también eliminar la columna \"review rate number\".\n",
        "7. Eliminar los inmuebles duplicados.\n",
        "8. Trabajar en terminos porcentuales con la columna \"number of reviews\" ya que está dada en cantidad y es más trabajable en terminos porcentuales.\n",
        "\n",
        "Para ejecutar luego del análisis exploratorio:\n",
        "1. El \"id\" del inmueble no aporta nada a la definición del modelo, esa columna se puede eliminar.\n",
        "2. Eliminar todos las filas que contengan valores nulos.\n",
        "3. Dejar por fuera a los outliers.\n",
        "4. Aplico OrdinalEncoder sobre los features categóricos para volverlos cuantitativos."
      ],
      "metadata": {
        "id": "azE_YMcnuFC3"
      }
    },
    {
      "cell_type": "code",
      "source": [
        "# 1. Los valores para \"neighbourhood group\" hay que unificarlos\n",
        "import pylev\n",
        "import numpy as np\n",
        "\n",
        "def get_neighbourhood_group(value):\n",
        "  if pd.isnull(value):\n",
        "    return np.nan\n",
        "\n",
        "  acceptable_distance = 3\n",
        "  if pylev.levenshtein('Manhattan', value) <= acceptable_distance:\n",
        "    return 'Manhattan'\n",
        "  elif pylev.levenshtein('Brooklyn', value) <= acceptable_distance:\n",
        "    return 'Brooklyn'\n",
        "  elif pylev.levenshtein('Queens', value) <= acceptable_distance:\n",
        "    return 'Queens'\n",
        "  elif pylev.levenshtein('Bronx', value) <= acceptable_distance:\n",
        "    return 'Bronx'\n",
        "  elif pylev.levenshtein('Staten Island', value) <= acceptable_distance:\n",
        "    return 'Staten Island'\n",
        "  else:\n",
        "    return value\n",
        "\n",
        "# Aplico la función creada sobre la columna \"neighbourhood group\"\n",
        "df['neighbourhood group'] = df['neighbourhood group'].apply(get_neighbourhood_group)\n",
        "df_new_tmp['neighbourhood group'] = df_new_tmp['neighbourhood group'].apply(get_neighbourhood_group)\n",
        "\n",
        "# Verifico cuales son los valores únicos en la columna \"neighbourhood group\"\n",
        "df['neighbourhood group'].unique()"
      ],
      "metadata": {
        "colab": {
          "base_uri": "https://localhost:8080/"
        },
        "id": "IPbI2iYx4pFg",
        "outputId": "996bf073-3450-4a58-d480-5e856ea729de"
      },
      "execution_count": 9,
      "outputs": [
        {
          "output_type": "execute_result",
          "data": {
            "text/plain": [
              "array(['Manhattan', 'Brooklyn', 'Queens', 'Bronx', 'Staten Island', nan],\n",
              "      dtype=object)"
            ]
          },
          "metadata": {},
          "execution_count": 9
        }
      ]
    },
    {
      "cell_type": "code",
      "source": [
        "# 2. La columna \"country\" solo tiene el valor de \"United States\", se puede eliminar.\n",
        "df.drop('country', axis=1, inplace=True)\n",
        "df_new_tmp.drop('country', axis=1, inplace=True)\n",
        "\n",
        "# Verifico la cantidad de columnas, deberían ser 15 ahora\n",
        "df.shape"
      ],
      "metadata": {
        "id": "--MstCLVwIBF",
        "colab": {
          "base_uri": "https://localhost:8080/"
        },
        "outputId": "8504ca3a-324b-4db3-c9f9-c2f81aabb12e"
      },
      "execution_count": 10,
      "outputs": [
        {
          "output_type": "execute_result",
          "data": {
            "text/plain": [
              "(102083, 15)"
            ]
          },
          "metadata": {},
          "execution_count": 10
        }
      ]
    },
    {
      "cell_type": "code",
      "source": [
        "# 3. Transformo los valores de \"instant_bookable\" para trabajar con 0 y 1\n",
        "df['instant_bookable'] = df['instant_bookable'].apply(lambda x: 1 if x else 0)\n",
        "df_new_tmp['instant_bookable'] = df_new_tmp['instant_bookable'].apply(lambda x: 1 if x else 0)\n",
        "\n",
        "# Verifico que el tipo de dato de \"instant_bookable\" haya cambiado a int\n",
        "df.dtypes"
      ],
      "metadata": {
        "colab": {
          "base_uri": "https://localhost:8080/"
        },
        "id": "EmUiku32KRXP",
        "outputId": "2ab27565-46aa-46b8-b10f-a5b71e23efe7"
      },
      "execution_count": 11,
      "outputs": [
        {
          "output_type": "execute_result",
          "data": {
            "text/plain": [
              "id                       int64\n",
              "neighbourhood group     object\n",
              "neighbourhood           object\n",
              "lat                    float64\n",
              "long                   float64\n",
              "instant_bookable         int64\n",
              "cancellation_policy     object\n",
              "room type               object\n",
              "construction year      float64\n",
              "price                   object\n",
              "service fee             object\n",
              "minimum nights         float64\n",
              "availability 365       float64\n",
              "number of reviews      float64\n",
              "review rate number     float64\n",
              "dtype: object"
            ]
          },
          "metadata": {},
          "execution_count": 11
        }
      ]
    },
    {
      "cell_type": "code",
      "source": [
        "# 4. Corregir los valores y el tipo de dato de \"price\" y de \"service fee\"\n",
        "import numpy as np\n",
        "\n",
        "def fix_number(value):\n",
        "  if pd.isnull(value):\n",
        "    return np.nan\n",
        "  value = value.replace('$', '')\n",
        "  value = value.replace(' ', '')\n",
        "  value = value.replace(',', '.')\n",
        "  return value\n",
        "\n",
        "# En history\n",
        "df['price'] = df['price'].apply(fix_number)\n",
        "df['service fee'] = df['service fee'].apply(fix_number)\n",
        "\n",
        "# En new\n",
        "df_new_tmp['price'] = df_new_tmp['price'].apply(fix_number)\n",
        "df_new_tmp['service fee'] = df_new_tmp['service fee'].apply(fix_number)\n",
        "\n",
        "# Cambio los tipos de datos de las 2 columnas\n",
        "df = df.astype({'price': np.float64,\n",
        "                'service fee': np.float64})\n",
        "df_new_tmp = df_new_tmp.astype({'price': np.float64,\n",
        "                                'service fee': np.float64})\n",
        "\n",
        "# Completo los valores nulos con la media de la columna\n",
        "df.fillna(value={'price': np.nanmean(df['price'], axis=0),\n",
        "                 'service fee': np.nanmean(df['service fee'], axis=0)}, inplace=True)\n",
        "df_new_tmp.fillna(value={'price': np.nanmean(df['price'], axis=0),\n",
        "                         'service fee': np.nanmean(df['service fee'], axis=0)}, inplace=True)\n",
        "\n",
        "# Verifico ahora los tipos de dato de \"price\" y \"service fee\", deben ser float64 \n",
        "df.dtypes"
      ],
      "metadata": {
        "colab": {
          "base_uri": "https://localhost:8080/"
        },
        "id": "KypgZaEFzBgw",
        "outputId": "6a622bc2-4583-420e-e0b0-99e4af181969"
      },
      "execution_count": 12,
      "outputs": [
        {
          "output_type": "execute_result",
          "data": {
            "text/plain": [
              "id                       int64\n",
              "neighbourhood group     object\n",
              "neighbourhood           object\n",
              "lat                    float64\n",
              "long                   float64\n",
              "instant_bookable         int64\n",
              "cancellation_policy     object\n",
              "room type               object\n",
              "construction year      float64\n",
              "price                  float64\n",
              "service fee            float64\n",
              "minimum nights         float64\n",
              "availability 365       float64\n",
              "number of reviews      float64\n",
              "review rate number     float64\n",
              "dtype: object"
            ]
          },
          "metadata": {},
          "execution_count": 12
        }
      ]
    },
    {
      "cell_type": "code",
      "source": [
        "# 5. Llenar las columnas \"minimum nights\" y \"availability 365\" con la media de estas columnas\n",
        "df.fillna(value={'minimum nights': np.nanmean(df['minimum nights'], axis=0),\n",
        "                 'availability 365': np.nanmean(df['availability 365'], axis=0)}, inplace=True)\n",
        "df_new_tmp.fillna(value={'minimum nights': np.nanmean(df['minimum nights'], axis=0),\n",
        "                         'availability 365': np.nanmean(df['availability 365'], axis=0)}, inplace=True)"
      ],
      "metadata": {
        "id": "-TlERrDU9DE7"
      },
      "execution_count": 13,
      "outputs": []
    },
    {
      "cell_type": "code",
      "source": [
        "# 6. Eliminar la columna \"review rate number\"\n",
        "df.drop('review rate number', axis=1, inplace=True)\n",
        "\n",
        "# Verifico la cantidad de columnas, deberían ser 14 ahora\n",
        "df.shape"
      ],
      "metadata": {
        "colab": {
          "base_uri": "https://localhost:8080/"
        },
        "id": "53ogWXqSzNpi",
        "outputId": "77178cbe-ae91-4d07-895a-9b06cf4aa30e"
      },
      "execution_count": 14,
      "outputs": [
        {
          "output_type": "execute_result",
          "data": {
            "text/plain": [
              "(102083, 14)"
            ]
          },
          "metadata": {},
          "execution_count": 14
        }
      ]
    },
    {
      "cell_type": "code",
      "source": [
        "# 7. Eliminar los inmuebles duplicados\n",
        "\n",
        "# Busco los duplicados por \"id\" e imprimo algunos ejemplos\n",
        "duplicates_by_id = df.loc[df['id'].duplicated(keep = False)]\n",
        "duplicates_by_id[duplicates_by_id['id'].isin([35533894, 35578630, 6069793])].sort_values('id', ascending=False).head(10)"
      ],
      "metadata": {
        "colab": {
          "base_uri": "https://localhost:8080/",
          "height": 420
        },
        "id": "i7CSsM-PdCha",
        "outputId": "f3244f7f-f707-4c45-89f5-2340b3854ba3"
      },
      "execution_count": 15,
      "outputs": [
        {
          "output_type": "execute_result",
          "data": {
            "text/plain": [
              "             id neighbourhood group neighbourhood       lat      long  \\\n",
              "424    35578630              Queens       Jamaica  40.69091 -73.79589   \n",
              "43816  35578630              Queens       Jamaica  40.69091 -73.79589   \n",
              "236    35533894           Manhattan       Chelsea  40.74491 -74.00162   \n",
              "21112  35533894           Manhattan       Chelsea  40.74491 -74.00162   \n",
              "443     6069793            Brooklyn      Canarsie  40.64574 -73.90781   \n",
              "78605   6069793            Brooklyn      Canarsie  40.64574 -73.90781   \n",
              "\n",
              "       instant_bookable cancellation_policy        room type  \\\n",
              "424                   0            moderate     Private room   \n",
              "43816                 0            moderate     Private room   \n",
              "236                   1            flexible  Entire home/apt   \n",
              "21112                 1            flexible  Entire home/apt   \n",
              "443                   0            flexible  Entire home/apt   \n",
              "78605                 0            flexible  Entire home/apt   \n",
              "\n",
              "       construction year   price  service fee  minimum nights  \\\n",
              "424               2006.0    1.09        218.0            14.0   \n",
              "43816             2006.0    1.09        218.0            14.0   \n",
              "236               2008.0  112.00         22.0            30.0   \n",
              "21112             2008.0  112.00         22.0            30.0   \n",
              "443               2004.0  203.00         41.0             7.0   \n",
              "78605             2004.0  203.00         41.0             7.0   \n",
              "\n",
              "       availability 365  number of reviews  \n",
              "424               159.0                9.0  \n",
              "43816             159.0                9.0  \n",
              "236               207.0               45.0  \n",
              "21112             207.0               45.0  \n",
              "443                95.0                0.0  \n",
              "78605              95.0                0.0  "
            ],
            "text/html": [
              "\n",
              "  <div id=\"df-113f9568-ac57-44ff-9367-4f2762b7dab4\">\n",
              "    <div class=\"colab-df-container\">\n",
              "      <div>\n",
              "<style scoped>\n",
              "    .dataframe tbody tr th:only-of-type {\n",
              "        vertical-align: middle;\n",
              "    }\n",
              "\n",
              "    .dataframe tbody tr th {\n",
              "        vertical-align: top;\n",
              "    }\n",
              "\n",
              "    .dataframe thead th {\n",
              "        text-align: right;\n",
              "    }\n",
              "</style>\n",
              "<table border=\"1\" class=\"dataframe\">\n",
              "  <thead>\n",
              "    <tr style=\"text-align: right;\">\n",
              "      <th></th>\n",
              "      <th>id</th>\n",
              "      <th>neighbourhood group</th>\n",
              "      <th>neighbourhood</th>\n",
              "      <th>lat</th>\n",
              "      <th>long</th>\n",
              "      <th>instant_bookable</th>\n",
              "      <th>cancellation_policy</th>\n",
              "      <th>room type</th>\n",
              "      <th>construction year</th>\n",
              "      <th>price</th>\n",
              "      <th>service fee</th>\n",
              "      <th>minimum nights</th>\n",
              "      <th>availability 365</th>\n",
              "      <th>number of reviews</th>\n",
              "    </tr>\n",
              "  </thead>\n",
              "  <tbody>\n",
              "    <tr>\n",
              "      <th>424</th>\n",
              "      <td>35578630</td>\n",
              "      <td>Queens</td>\n",
              "      <td>Jamaica</td>\n",
              "      <td>40.69091</td>\n",
              "      <td>-73.79589</td>\n",
              "      <td>0</td>\n",
              "      <td>moderate</td>\n",
              "      <td>Private room</td>\n",
              "      <td>2006.0</td>\n",
              "      <td>1.09</td>\n",
              "      <td>218.0</td>\n",
              "      <td>14.0</td>\n",
              "      <td>159.0</td>\n",
              "      <td>9.0</td>\n",
              "    </tr>\n",
              "    <tr>\n",
              "      <th>43816</th>\n",
              "      <td>35578630</td>\n",
              "      <td>Queens</td>\n",
              "      <td>Jamaica</td>\n",
              "      <td>40.69091</td>\n",
              "      <td>-73.79589</td>\n",
              "      <td>0</td>\n",
              "      <td>moderate</td>\n",
              "      <td>Private room</td>\n",
              "      <td>2006.0</td>\n",
              "      <td>1.09</td>\n",
              "      <td>218.0</td>\n",
              "      <td>14.0</td>\n",
              "      <td>159.0</td>\n",
              "      <td>9.0</td>\n",
              "    </tr>\n",
              "    <tr>\n",
              "      <th>236</th>\n",
              "      <td>35533894</td>\n",
              "      <td>Manhattan</td>\n",
              "      <td>Chelsea</td>\n",
              "      <td>40.74491</td>\n",
              "      <td>-74.00162</td>\n",
              "      <td>1</td>\n",
              "      <td>flexible</td>\n",
              "      <td>Entire home/apt</td>\n",
              "      <td>2008.0</td>\n",
              "      <td>112.00</td>\n",
              "      <td>22.0</td>\n",
              "      <td>30.0</td>\n",
              "      <td>207.0</td>\n",
              "      <td>45.0</td>\n",
              "    </tr>\n",
              "    <tr>\n",
              "      <th>21112</th>\n",
              "      <td>35533894</td>\n",
              "      <td>Manhattan</td>\n",
              "      <td>Chelsea</td>\n",
              "      <td>40.74491</td>\n",
              "      <td>-74.00162</td>\n",
              "      <td>1</td>\n",
              "      <td>flexible</td>\n",
              "      <td>Entire home/apt</td>\n",
              "      <td>2008.0</td>\n",
              "      <td>112.00</td>\n",
              "      <td>22.0</td>\n",
              "      <td>30.0</td>\n",
              "      <td>207.0</td>\n",
              "      <td>45.0</td>\n",
              "    </tr>\n",
              "    <tr>\n",
              "      <th>443</th>\n",
              "      <td>6069793</td>\n",
              "      <td>Brooklyn</td>\n",
              "      <td>Canarsie</td>\n",
              "      <td>40.64574</td>\n",
              "      <td>-73.90781</td>\n",
              "      <td>0</td>\n",
              "      <td>flexible</td>\n",
              "      <td>Entire home/apt</td>\n",
              "      <td>2004.0</td>\n",
              "      <td>203.00</td>\n",
              "      <td>41.0</td>\n",
              "      <td>7.0</td>\n",
              "      <td>95.0</td>\n",
              "      <td>0.0</td>\n",
              "    </tr>\n",
              "    <tr>\n",
              "      <th>78605</th>\n",
              "      <td>6069793</td>\n",
              "      <td>Brooklyn</td>\n",
              "      <td>Canarsie</td>\n",
              "      <td>40.64574</td>\n",
              "      <td>-73.90781</td>\n",
              "      <td>0</td>\n",
              "      <td>flexible</td>\n",
              "      <td>Entire home/apt</td>\n",
              "      <td>2004.0</td>\n",
              "      <td>203.00</td>\n",
              "      <td>41.0</td>\n",
              "      <td>7.0</td>\n",
              "      <td>95.0</td>\n",
              "      <td>0.0</td>\n",
              "    </tr>\n",
              "  </tbody>\n",
              "</table>\n",
              "</div>\n",
              "      <button class=\"colab-df-convert\" onclick=\"convertToInteractive('df-113f9568-ac57-44ff-9367-4f2762b7dab4')\"\n",
              "              title=\"Convert this dataframe to an interactive table.\"\n",
              "              style=\"display:none;\">\n",
              "        \n",
              "  <svg xmlns=\"http://www.w3.org/2000/svg\" height=\"24px\"viewBox=\"0 0 24 24\"\n",
              "       width=\"24px\">\n",
              "    <path d=\"M0 0h24v24H0V0z\" fill=\"none\"/>\n",
              "    <path d=\"M18.56 5.44l.94 2.06.94-2.06 2.06-.94-2.06-.94-.94-2.06-.94 2.06-2.06.94zm-11 1L8.5 8.5l.94-2.06 2.06-.94-2.06-.94L8.5 2.5l-.94 2.06-2.06.94zm10 10l.94 2.06.94-2.06 2.06-.94-2.06-.94-.94-2.06-.94 2.06-2.06.94z\"/><path d=\"M17.41 7.96l-1.37-1.37c-.4-.4-.92-.59-1.43-.59-.52 0-1.04.2-1.43.59L10.3 9.45l-7.72 7.72c-.78.78-.78 2.05 0 2.83L4 21.41c.39.39.9.59 1.41.59.51 0 1.02-.2 1.41-.59l7.78-7.78 2.81-2.81c.8-.78.8-2.07 0-2.86zM5.41 20L4 18.59l7.72-7.72 1.47 1.35L5.41 20z\"/>\n",
              "  </svg>\n",
              "      </button>\n",
              "      \n",
              "  <style>\n",
              "    .colab-df-container {\n",
              "      display:flex;\n",
              "      flex-wrap:wrap;\n",
              "      gap: 12px;\n",
              "    }\n",
              "\n",
              "    .colab-df-convert {\n",
              "      background-color: #E8F0FE;\n",
              "      border: none;\n",
              "      border-radius: 50%;\n",
              "      cursor: pointer;\n",
              "      display: none;\n",
              "      fill: #1967D2;\n",
              "      height: 32px;\n",
              "      padding: 0 0 0 0;\n",
              "      width: 32px;\n",
              "    }\n",
              "\n",
              "    .colab-df-convert:hover {\n",
              "      background-color: #E2EBFA;\n",
              "      box-shadow: 0px 1px 2px rgba(60, 64, 67, 0.3), 0px 1px 3px 1px rgba(60, 64, 67, 0.15);\n",
              "      fill: #174EA6;\n",
              "    }\n",
              "\n",
              "    [theme=dark] .colab-df-convert {\n",
              "      background-color: #3B4455;\n",
              "      fill: #D2E3FC;\n",
              "    }\n",
              "\n",
              "    [theme=dark] .colab-df-convert:hover {\n",
              "      background-color: #434B5C;\n",
              "      box-shadow: 0px 1px 3px 1px rgba(0, 0, 0, 0.15);\n",
              "      filter: drop-shadow(0px 1px 2px rgba(0, 0, 0, 0.3));\n",
              "      fill: #FFFFFF;\n",
              "    }\n",
              "  </style>\n",
              "\n",
              "      <script>\n",
              "        const buttonEl =\n",
              "          document.querySelector('#df-113f9568-ac57-44ff-9367-4f2762b7dab4 button.colab-df-convert');\n",
              "        buttonEl.style.display =\n",
              "          google.colab.kernel.accessAllowed ? 'block' : 'none';\n",
              "\n",
              "        async function convertToInteractive(key) {\n",
              "          const element = document.querySelector('#df-113f9568-ac57-44ff-9367-4f2762b7dab4');\n",
              "          const dataTable =\n",
              "            await google.colab.kernel.invokeFunction('convertToInteractive',\n",
              "                                                     [key], {});\n",
              "          if (!dataTable) return;\n",
              "\n",
              "          const docLinkHtml = 'Like what you see? Visit the ' +\n",
              "            '<a target=\"_blank\" href=https://colab.research.google.com/notebooks/data_table.ipynb>data table notebook</a>'\n",
              "            + ' to learn more about interactive tables.';\n",
              "          element.innerHTML = '';\n",
              "          dataTable['output_type'] = 'display_data';\n",
              "          await google.colab.output.renderOutput(dataTable, element);\n",
              "          const docLink = document.createElement('div');\n",
              "          docLink.innerHTML = docLinkHtml;\n",
              "          element.appendChild(docLink);\n",
              "        }\n",
              "      </script>\n",
              "    </div>\n",
              "  </div>\n",
              "  "
            ]
          },
          "metadata": {},
          "execution_count": 15
        }
      ]
    },
    {
      "cell_type": "markdown",
      "source": [
        "Con estos 3 ejemplos se puede observar que hacen referencia a los mismos registros, solo buscándolos por 'id, se pueden eliminar."
      ],
      "metadata": {
        "id": "q2oOaFjqqT98"
      }
    },
    {
      "cell_type": "code",
      "source": [
        "# Elimino SOLO los duplicados, me interesa contar con los inmuebles únicos\n",
        "df.drop_duplicates(subset = ['id'], keep='last', inplace=True)\n",
        "df_new_tmp.drop_duplicates(subset = ['id'], keep='last', inplace=True)"
      ],
      "metadata": {
        "id": "r1ZCd0zJq1DB"
      },
      "execution_count": 16,
      "outputs": []
    },
    {
      "cell_type": "code",
      "source": [
        "# 8. Trabajar en terminos porcentuales con la columna \"number of reviews\"\n",
        "max_number_or_reviews = df['number of reviews'].max()\n",
        "\n",
        "df['number of reviews'] = df['number of reviews'].apply(lambda x: x * 100 / max_number_or_reviews)\n",
        "\n",
        "# Imprimo el mínimo y el máximo de valores para \"number of reviews\", debería ir de 0 a 100\n",
        "min_number_or_reviews = df['number of reviews'].min()\n",
        "max_number_or_reviews = df['number of reviews'].max()\n",
        "print(f'Rango en \"number of reviews\": De {min_number_or_reviews} a {max_number_or_reviews}')"
      ],
      "metadata": {
        "colab": {
          "base_uri": "https://localhost:8080/"
        },
        "id": "8TouPp6mhsr2",
        "outputId": "dc29037c-d921-4a56-829b-848322c4a873"
      },
      "execution_count": 17,
      "outputs": [
        {
          "output_type": "stream",
          "name": "stdout",
          "text": [
            "Rango en \"number of reviews\": De 0.0 a 100.0\n"
          ]
        }
      ]
    },
    {
      "cell_type": "markdown",
      "source": [
        "# Análisis exploratorio"
      ],
      "metadata": {
        "id": "9CyzGBDM7LaI"
      }
    },
    {
      "cell_type": "code",
      "source": [
        "# Cuál es la ciudad con más inmuebles publicados?\n",
        "most_rooms_city = df.groupby(['neighbourhood group']).agg({'id': 'count'})\n",
        "most_rooms_city.rename(columns={'id': 'count'}, inplace=True)\n",
        "most_rooms_city = most_rooms_city.sort_values('count', ascending=False).head(10)\n",
        "most_rooms_city.sort_values('count', ascending=True, inplace=True)\n",
        "\n",
        "most_rooms_city['count'].plot(kind='barh', colormap='jet', title='Top 10 de ciudades con más inmuebles')\n",
        "plt.xlabel('Cantidad de inmuebles')\n",
        "plt.ylabel('Ciudad')\n",
        "plt.show()"
      ],
      "metadata": {
        "colab": {
          "base_uri": "https://localhost:8080/",
          "height": 295
        },
        "id": "nt-3vPzW7YK7",
        "outputId": "ace6fcfb-f533-485e-843e-d08897bbbbce"
      },
      "execution_count": 18,
      "outputs": [
        {
          "output_type": "display_data",
          "data": {
            "text/plain": [
              "<Figure size 432x288 with 1 Axes>"
            ],
            "image/png": "[encoded data removed]"
          },
          "metadata": {
            "needs_background": "light"
          }
        }
      ]
    },
    {
      "cell_type": "markdown",
      "source": [
        "Aquí se puede observar que:\n",
        "1. La ciudad con más publicación de inmuebles es Manhattan. Muy seguramente por que es una de las ciudades más pobladas del mundo.\n",
        "2. Staten Island está muy por debajo de Manhattan, lo que quiere decir que aunque estamos en New York no es un sitio donde se preste mucho para rentar inmuebles."
      ],
      "metadata": {
        "id": "_5mANqzj3lpQ"
      }
    },
    {
      "cell_type": "code",
      "source": [
        "# Cuál es la ciudad con la media de precio más alta?\n",
        "import seaborn as sns\n",
        "\n",
        "most_expensive_city = df.groupby(['neighbourhood group']).agg({'price': 'mean'})\n",
        "most_expensive_city.reset_index(inplace=True)\n",
        "most_expensive_city.columns = ['city', 'price_mean']\n",
        "most_expensive_city = most_expensive_city.sort_values('price_mean', ascending=True)\n",
        "\n",
        "plt.figure(figsize = (10,8))\n",
        "ax = sns.barplot(x = most_expensive_city['city'], y = most_expensive_city['price_mean'])\n",
        "ax.set_xticklabels(ax.get_xticklabels(), rotation = 0)\n",
        "ax.set_xlabel('Ciudad')\n",
        "ax.set_ylabel('Precio')\n",
        "ax.set_title('Media del precio')\n",
        "plt.show()"
      ],
      "metadata": {
        "colab": {
          "base_uri": "https://localhost:8080/",
          "height": 513
        },
        "id": "OsykNouA8TNi",
        "outputId": "1d29bdd6-b6ca-4eaa-c336-4718b36dd556"
      },
      "execution_count": 19,
      "outputs": [
        {
          "output_type": "display_data",
          "data": {
            "text/plain": [
              "<Figure size 720x576 with 1 Axes>"
            ],
            "image/png": "[encoded data removed]"
          },
          "metadata": {
            "needs_background": "light"
          }
        }
      ]
    },
    {
      "cell_type": "markdown",
      "source": [
        "Aunque es la ciudad con la menor cantidad de inmuebles Staten Island tiene la media más alta en precios.\n",
        "\n",
        "La media de los precios es similar en todas las ciudades, ronda los $ 400."
      ],
      "metadata": {
        "id": "mQcnHRUX99zb"
      }
    },
    {
      "cell_type": "code",
      "source": [
        "# Busco la correlación entre el precio, service fee y el número de reviews\n",
        "df[['price', 'service fee', 'number of reviews']].corr()"
      ],
      "metadata": {
        "colab": {
          "base_uri": "https://localhost:8080/",
          "height": 143
        },
        "id": "Vwp93V9l99XM",
        "outputId": "ed8cea08-e821-46a2-c02e-2dd9ee6c77b8"
      },
      "execution_count": 20,
      "outputs": [
        {
          "output_type": "execute_result",
          "data": {
            "text/plain": [
              "                      price  service fee  number of reviews\n",
              "price              1.000000     0.006550          -0.000756\n",
              "service fee        0.006550     1.000000          -0.000796\n",
              "number of reviews -0.000756    -0.000796           1.000000"
            ],
            "text/html": [
              "\n",
              "  <div id=\"df-b89bb65e-046e-457b-926a-186f0c9c7773\">\n",
              "    <div class=\"colab-df-container\">\n",
              "      <div>\n",
              "<style scoped>\n",
              "    .dataframe tbody tr th:only-of-type {\n",
              "        vertical-align: middle;\n",
              "    }\n",
              "\n",
              "    .dataframe tbody tr th {\n",
              "        vertical-align: top;\n",
              "    }\n",
              "\n",
              "    .dataframe thead th {\n",
              "        text-align: right;\n",
              "    }\n",
              "</style>\n",
              "<table border=\"1\" class=\"dataframe\">\n",
              "  <thead>\n",
              "    <tr style=\"text-align: right;\">\n",
              "      <th></th>\n",
              "      <th>price</th>\n",
              "      <th>service fee</th>\n",
              "      <th>number of reviews</th>\n",
              "    </tr>\n",
              "  </thead>\n",
              "  <tbody>\n",
              "    <tr>\n",
              "      <th>price</th>\n",
              "      <td>1.000000</td>\n",
              "      <td>0.006550</td>\n",
              "      <td>-0.000756</td>\n",
              "    </tr>\n",
              "    <tr>\n",
              "      <th>service fee</th>\n",
              "      <td>0.006550</td>\n",
              "      <td>1.000000</td>\n",
              "      <td>-0.000796</td>\n",
              "    </tr>\n",
              "    <tr>\n",
              "      <th>number of reviews</th>\n",
              "      <td>-0.000756</td>\n",
              "      <td>-0.000796</td>\n",
              "      <td>1.000000</td>\n",
              "    </tr>\n",
              "  </tbody>\n",
              "</table>\n",
              "</div>\n",
              "      <button class=\"colab-df-convert\" onclick=\"convertToInteractive('df-b89bb65e-046e-457b-926a-186f0c9c7773')\"\n",
              "              title=\"Convert this dataframe to an interactive table.\"\n",
              "              style=\"display:none;\">\n",
              "        \n",
              "  <svg xmlns=\"http://www.w3.org/2000/svg\" height=\"24px\"viewBox=\"0 0 24 24\"\n",
              "       width=\"24px\">\n",
              "    <path d=\"M0 0h24v24H0V0z\" fill=\"none\"/>\n",
              "    <path d=\"M18.56 5.44l.94 2.06.94-2.06 2.06-.94-2.06-.94-.94-2.06-.94 2.06-2.06.94zm-11 1L8.5 8.5l.94-2.06 2.06-.94-2.06-.94L8.5 2.5l-.94 2.06-2.06.94zm10 10l.94 2.06.94-2.06 2.06-.94-2.06-.94-.94-2.06-.94 2.06-2.06.94z\"/><path d=\"M17.41 7.96l-1.37-1.37c-.4-.4-.92-.59-1.43-.59-.52 0-1.04.2-1.43.59L10.3 9.45l-7.72 7.72c-.78.78-.78 2.05 0 2.83L4 21.41c.39.39.9.59 1.41.59.51 0 1.02-.2 1.41-.59l7.78-7.78 2.81-2.81c.8-.78.8-2.07 0-2.86zM5.41 20L4 18.59l7.72-7.72 1.47 1.35L5.41 20z\"/>\n",
              "  </svg>\n",
              "      </button>\n",
              "      \n",
              "  <style>\n",
              "    .colab-df-container {\n",
              "      display:flex;\n",
              "      flex-wrap:wrap;\n",
              "      gap: 12px;\n",
              "    }\n",
              "\n",
              "    .colab-df-convert {\n",
              "      background-color: #E8F0FE;\n",
              "      border: none;\n",
              "      border-radius: 50%;\n",
              "      cursor: pointer;\n",
              "      display: none;\n",
              "      fill: #1967D2;\n",
              "      height: 32px;\n",
              "      padding: 0 0 0 0;\n",
              "      width: 32px;\n",
              "    }\n",
              "\n",
              "    .colab-df-convert:hover {\n",
              "      background-color: #E2EBFA;\n",
              "      box-shadow: 0px 1px 2px rgba(60, 64, 67, 0.3), 0px 1px 3px 1px rgba(60, 64, 67, 0.15);\n",
              "      fill: #174EA6;\n",
              "    }\n",
              "\n",
              "    [theme=dark] .colab-df-convert {\n",
              "      background-color: #3B4455;\n",
              "      fill: #D2E3FC;\n",
              "    }\n",
              "\n",
              "    [theme=dark] .colab-df-convert:hover {\n",
              "      background-color: #434B5C;\n",
              "      box-shadow: 0px 1px 3px 1px rgba(0, 0, 0, 0.15);\n",
              "      filter: drop-shadow(0px 1px 2px rgba(0, 0, 0, 0.3));\n",
              "      fill: #FFFFFF;\n",
              "    }\n",
              "  </style>\n",
              "\n",
              "      <script>\n",
              "        const buttonEl =\n",
              "          document.querySelector('#df-b89bb65e-046e-457b-926a-186f0c9c7773 button.colab-df-convert');\n",
              "        buttonEl.style.display =\n",
              "          google.colab.kernel.accessAllowed ? 'block' : 'none';\n",
              "\n",
              "        async function convertToInteractive(key) {\n",
              "          const element = document.querySelector('#df-b89bb65e-046e-457b-926a-186f0c9c7773');\n",
              "          const dataTable =\n",
              "            await google.colab.kernel.invokeFunction('convertToInteractive',\n",
              "                                                     [key], {});\n",
              "          if (!dataTable) return;\n",
              "\n",
              "          const docLinkHtml = 'Like what you see? Visit the ' +\n",
              "            '<a target=\"_blank\" href=https://colab.research.google.com/notebooks/data_table.ipynb>data table notebook</a>'\n",
              "            + ' to learn more about interactive tables.';\n",
              "          element.innerHTML = '';\n",
              "          dataTable['output_type'] = 'display_data';\n",
              "          await google.colab.output.renderOutput(dataTable, element);\n",
              "          const docLink = document.createElement('div');\n",
              "          docLink.innerHTML = docLinkHtml;\n",
              "          element.appendChild(docLink);\n",
              "        }\n",
              "      </script>\n",
              "    </div>\n",
              "  </div>\n",
              "  "
            ]
          },
          "metadata": {},
          "execution_count": 20
        }
      ]
    },
    {
      "cell_type": "markdown",
      "source": [
        "Se puede observar que no hay mucha relación entre el precio, el service fee ni el número de reviews lo cuál quiere decir que las personas colocan reviews de sus estancias sin necesidad de preguntarse cuanto pagaron por estas."
      ],
      "metadata": {
        "id": "ITpwtH6B-qsA"
      }
    },
    {
      "cell_type": "markdown",
      "source": [
        "# Última limpieza y prepración de los datos"
      ],
      "metadata": {
        "id": "BGPV_LN_7EtJ"
      }
    },
    {
      "cell_type": "markdown",
      "source": [
        "Aún es necesario ejecutar los últimos pasos de limpieza:"
      ],
      "metadata": {
        "id": "ce0sbMSC8O7-"
      }
    },
    {
      "cell_type": "code",
      "source": [
        "# 1. El \"id\" del inmueble no aporta nada a la definición del modelo, esa columna se puede eliminar\n",
        "df.drop('id', axis=1, inplace=True)\n",
        "df_new_tmp.drop('id', axis=1, inplace=True)\n",
        "\n",
        "# Verifico la cantidad de columnas, deberían ser 13 ahora\n",
        "df.shape"
      ],
      "metadata": {
        "colab": {
          "base_uri": "https://localhost:8080/"
        },
        "id": "Wd5ofdw-sCfL",
        "outputId": "a58b3d46-f1f1-446a-9aab-ad2395a4e04c"
      },
      "execution_count": 21,
      "outputs": [
        {
          "output_type": "execute_result",
          "data": {
            "text/plain": [
              "(101547, 13)"
            ]
          },
          "metadata": {},
          "execution_count": 21
        }
      ]
    },
    {
      "cell_type": "code",
      "source": [
        "# 2. Eliminar todas las filas que contengan valores nulos\n",
        "df.dropna(axis=0, inplace=True)\n",
        "df_new_tmp.dropna(axis=0, inplace=True)\n",
        "\n",
        "# Ya no debe haber valores nulos\n",
        "df.isnull().sum()"
      ],
      "metadata": {
        "colab": {
          "base_uri": "https://localhost:8080/"
        },
        "id": "QKs_CKohklOw",
        "outputId": "b1f3b655-3dbe-4c11-c42f-701172573b25"
      },
      "execution_count": 22,
      "outputs": [
        {
          "output_type": "execute_result",
          "data": {
            "text/plain": [
              "neighbourhood group    0\n",
              "neighbourhood          0\n",
              "lat                    0\n",
              "long                   0\n",
              "instant_bookable       0\n",
              "cancellation_policy    0\n",
              "room type              0\n",
              "construction year      0\n",
              "price                  0\n",
              "service fee            0\n",
              "minimum nights         0\n",
              "availability 365       0\n",
              "number of reviews      0\n",
              "dtype: int64"
            ]
          },
          "metadata": {},
          "execution_count": 22
        }
      ]
    },
    {
      "cell_type": "code",
      "source": [
        "# Cómo está distribuida la variable dependiente (target) en el dataset history?\n",
        "df['number of reviews'].describe(percentiles = [.25, .5, .75, .95, .99, .999, .9999, .99999])"
      ],
      "metadata": {
        "colab": {
          "base_uri": "https://localhost:8080/"
        },
        "id": "8EASpFwgorQw",
        "outputId": "926d9fd3-ce82-4403-eb54-55917049865c"
      },
      "execution_count": 23,
      "outputs": [
        {
          "output_type": "execute_result",
          "data": {
            "text/plain": [
              "count      100460.000000\n",
              "mean            2.670706\n",
              "std             4.821695\n",
              "min             0.000000\n",
              "25%             0.097656\n",
              "50%             0.683594\n",
              "75%             2.929688\n",
              "95%            12.109375\n",
              "99%            22.558594\n",
              "99.9%          40.775488\n",
              "99.99%         63.236426\n",
              "99.999%        98.613090\n",
              "max           100.000000\n",
              "Name: number of reviews, dtype: float64"
            ]
          },
          "metadata": {},
          "execution_count": 23
        }
      ]
    },
    {
      "cell_type": "code",
      "source": [
        "plt.figure(figsize = (28, 3))\n",
        "plt.boxplot(df['number of reviews'], vert = False)\n",
        "plt.show()"
      ],
      "metadata": {
        "colab": {
          "base_uri": "https://localhost:8080/",
          "height": 195
        },
        "id": "JUhFjh-nw7OW",
        "outputId": "369a6223-73a9-45fa-b30a-010a20024532"
      },
      "execution_count": 24,
      "outputs": [
        {
          "output_type": "display_data",
          "data": {
            "text/plain": [
              "<Figure size 2016x216 with 1 Axes>"
            ],
            "image/png": "[encoded data removed]"
          },
          "metadata": {
            "needs_background": "light"
          }
        }
      ]
    },
    {
      "cell_type": "markdown",
      "source": [
        "La mayoría de datos están igual o debajo del percentil 99."
      ],
      "metadata": {
        "id": "X--v1O5tohSJ"
      }
    },
    {
      "cell_type": "code",
      "source": [
        "# 3. Dejar por fuera a los outliers\n",
        "df = df.loc[df['number of reviews'] <= df['number of reviews'].quantile(.99)]\n",
        "\n",
        "# Reviso nuevamente la distribución de la variable dependiente (target)\n",
        "df['number of reviews'].describe(percentiles = [.25, .5, .75, .95, .99, .999, .9999, .99999])"
      ],
      "metadata": {
        "colab": {
          "base_uri": "https://localhost:8080/"
        },
        "id": "u1Tl5pyYsz7X",
        "outputId": "3364c4ca-c5a5-406f-a294-5973a06dc2a9"
      },
      "execution_count": 25,
      "outputs": [
        {
          "output_type": "execute_result",
          "data": {
            "text/plain": [
              "count      99465.000000\n",
              "mean           2.390942\n",
              "std            3.839166\n",
              "min            0.000000\n",
              "25%            0.097656\n",
              "50%            0.683594\n",
              "75%            2.832031\n",
              "95%           11.132812\n",
              "99%           18.164062\n",
              "99.9%         22.070312\n",
              "99.99%        22.558594\n",
              "99.999%       22.558594\n",
              "max           22.558594\n",
              "Name: number of reviews, dtype: float64"
            ]
          },
          "metadata": {},
          "execution_count": 25
        }
      ]
    },
    {
      "cell_type": "code",
      "source": [
        "plt.figure(figsize = (28, 3))\n",
        "plt.boxplot(df['number of reviews'], vert = False)\n",
        "plt.show()"
      ],
      "metadata": {
        "colab": {
          "base_uri": "https://localhost:8080/",
          "height": 195
        },
        "id": "eax_8urFxD-E",
        "outputId": "01b39f44-29ba-402f-f280-eab1732c4beb"
      },
      "execution_count": 26,
      "outputs": [
        {
          "output_type": "display_data",
          "data": {
            "text/plain": [
              "<Figure size 2016x216 with 1 Axes>"
            ],
            "image/png": "[encoded data removed]"
          },
          "metadata": {
            "needs_background": "light"
          }
        }
      ]
    },
    {
      "cell_type": "code",
      "source": [
        "# 4. Aplico OrdinalEncoder sobre los features categóricos para volverlos cuantitativos\n",
        "from sklearn.compose import ColumnTransformer\n",
        "from sklearn.preprocessing import OrdinalEncoder\n",
        "\n",
        "columns_new = ['neighbourhood_group',\n",
        "               'neighbourhood',\n",
        "               'cancellation_policy',\n",
        "               'room_type',\n",
        "               'lat',\n",
        "               'long',\n",
        "               'instant_bookable',\n",
        "               'construction_year',\n",
        "               'price',\n",
        "               'service_fee',\n",
        "               'minimum_nights',\n",
        "               'availability_365']\n",
        "\n",
        "ct = ColumnTransformer(transformers =[('OrdinalEncoder', OrdinalEncoder(dtype=np.int16),\n",
        "                                       ['neighbourhood group', 'neighbourhood', 'cancellation_policy', 'room type'])],\n",
        "                       remainder ='passthrough')\n",
        "df_history = ct.fit_transform(df)\n",
        "df_history = pd.DataFrame(data=df_history, columns=columns_new + ['number_of_reviews'])\n",
        "\n",
        "df_new = ct.fit_transform(df_new_tmp)\n",
        "df_new = pd.DataFrame(data=df_new, columns=columns_new)"
      ],
      "metadata": {
        "id": "CPm8kRb0HD77"
      },
      "execution_count": 27,
      "outputs": []
    },
    {
      "cell_type": "code",
      "source": [
        "# Imprimo el dataset history actualizado con las mejoras\n",
        "df_history.head(5)"
      ],
      "metadata": {
        "colab": {
          "base_uri": "https://localhost:8080/",
          "height": 270
        },
        "id": "mmmE19NF1KKm",
        "outputId": "be083d57-95e3-4ad5-b19d-0b368de70524"
      },
      "execution_count": 28,
      "outputs": [
        {
          "output_type": "execute_result",
          "data": {
            "text/plain": [
              "   neighbourhood_group  neighbourhood  cancellation_policy  room_type  \\\n",
              "0                  2.0           98.0                  2.0        0.0   \n",
              "1                  2.0          130.0                  0.0        1.0   \n",
              "2                  2.0          205.0                  0.0        2.0   \n",
              "3                  2.0           74.0                  2.0        2.0   \n",
              "4                  2.0          122.0                  1.0        0.0   \n",
              "\n",
              "        lat      long  instant_bookable  construction_year  price  \\\n",
              "0  40.76212 -73.98820               1.0             2011.0  851.0   \n",
              "1  40.74623 -73.98499               1.0             2021.0  466.0   \n",
              "2  40.78859 -73.97568               0.0             2004.0  874.0   \n",
              "3  40.70817 -74.00511               0.0             2012.0  813.0   \n",
              "4  40.72130 -73.98900               1.0             2007.0  326.0   \n",
              "\n",
              "   service_fee  minimum_nights  availability_365  number_of_reviews  \n",
              "0        170.0             4.0             199.0          10.937500  \n",
              "1         93.0             1.0             161.0           1.269531  \n",
              "2        175.0            14.0               0.0           0.097656  \n",
              "3        163.0             1.0               0.0           0.488281  \n",
              "4         65.0             4.0             301.0           0.878906  "
            ],
            "text/html": [
              "\n",
              "  <div id=\"df-9b2e55d0-70d0-487a-9d8a-3981cceb5f82\">\n",
              "    <div class=\"colab-df-container\">\n",
              "      <div>\n",
              "<style scoped>\n",
              "    .dataframe tbody tr th:only-of-type {\n",
              "        vertical-align: middle;\n",
              "    }\n",
              "\n",
              "    .dataframe tbody tr th {\n",
              "        vertical-align: top;\n",
              "    }\n",
              "\n",
              "    .dataframe thead th {\n",
              "        text-align: right;\n",
              "    }\n",
              "</style>\n",
              "<table border=\"1\" class=\"dataframe\">\n",
              "  <thead>\n",
              "    <tr style=\"text-align: right;\">\n",
              "      <th></th>\n",
              "      <th>neighbourhood_group</th>\n",
              "      <th>neighbourhood</th>\n",
              "      <th>cancellation_policy</th>\n",
              "      <th>room_type</th>\n",
              "      <th>lat</th>\n",
              "      <th>long</th>\n",
              "      <th>instant_bookable</th>\n",
              "      <th>construction_year</th>\n",
              "      <th>price</th>\n",
              "      <th>service_fee</th>\n",
              "      <th>minimum_nights</th>\n",
              "      <th>availability_365</th>\n",
              "      <th>number_of_reviews</th>\n",
              "    </tr>\n",
              "  </thead>\n",
              "  <tbody>\n",
              "    <tr>\n",
              "      <th>0</th>\n",
              "      <td>2.0</td>\n",
              "      <td>98.0</td>\n",
              "      <td>2.0</td>\n",
              "      <td>0.0</td>\n",
              "      <td>40.76212</td>\n",
              "      <td>-73.98820</td>\n",
              "      <td>1.0</td>\n",
              "      <td>2011.0</td>\n",
              "      <td>851.0</td>\n",
              "      <td>170.0</td>\n",
              "      <td>4.0</td>\n",
              "      <td>199.0</td>\n",
              "      <td>10.937500</td>\n",
              "    </tr>\n",
              "    <tr>\n",
              "      <th>1</th>\n",
              "      <td>2.0</td>\n",
              "      <td>130.0</td>\n",
              "      <td>0.0</td>\n",
              "      <td>1.0</td>\n",
              "      <td>40.74623</td>\n",
              "      <td>-73.98499</td>\n",
              "      <td>1.0</td>\n",
              "      <td>2021.0</td>\n",
              "      <td>466.0</td>\n",
              "      <td>93.0</td>\n",
              "      <td>1.0</td>\n",
              "      <td>161.0</td>\n",
              "      <td>1.269531</td>\n",
              "    </tr>\n",
              "    <tr>\n",
              "      <th>2</th>\n",
              "      <td>2.0</td>\n",
              "      <td>205.0</td>\n",
              "      <td>0.0</td>\n",
              "      <td>2.0</td>\n",
              "      <td>40.78859</td>\n",
              "      <td>-73.97568</td>\n",
              "      <td>0.0</td>\n",
              "      <td>2004.0</td>\n",
              "      <td>874.0</td>\n",
              "      <td>175.0</td>\n",
              "      <td>14.0</td>\n",
              "      <td>0.0</td>\n",
              "      <td>0.097656</td>\n",
              "    </tr>\n",
              "    <tr>\n",
              "      <th>3</th>\n",
              "      <td>2.0</td>\n",
              "      <td>74.0</td>\n",
              "      <td>2.0</td>\n",
              "      <td>2.0</td>\n",
              "      <td>40.70817</td>\n",
              "      <td>-74.00511</td>\n",
              "      <td>0.0</td>\n",
              "      <td>2012.0</td>\n",
              "      <td>813.0</td>\n",
              "      <td>163.0</td>\n",
              "      <td>1.0</td>\n",
              "      <td>0.0</td>\n",
              "      <td>0.488281</td>\n",
              "    </tr>\n",
              "    <tr>\n",
              "      <th>4</th>\n",
              "      <td>2.0</td>\n",
              "      <td>122.0</td>\n",
              "      <td>1.0</td>\n",
              "      <td>0.0</td>\n",
              "      <td>40.72130</td>\n",
              "      <td>-73.98900</td>\n",
              "      <td>1.0</td>\n",
              "      <td>2007.0</td>\n",
              "      <td>326.0</td>\n",
              "      <td>65.0</td>\n",
              "      <td>4.0</td>\n",
              "      <td>301.0</td>\n",
              "      <td>0.878906</td>\n",
              "    </tr>\n",
              "  </tbody>\n",
              "</table>\n",
              "</div>\n",
              "      <button class=\"colab-df-convert\" onclick=\"convertToInteractive('df-9b2e55d0-70d0-487a-9d8a-3981cceb5f82')\"\n",
              "              title=\"Convert this dataframe to an interactive table.\"\n",
              "              style=\"display:none;\">\n",
              "        \n",
              "  <svg xmlns=\"http://www.w3.org/2000/svg\" height=\"24px\"viewBox=\"0 0 24 24\"\n",
              "       width=\"24px\">\n",
              "    <path d=\"M0 0h24v24H0V0z\" fill=\"none\"/>\n",
              "    <path d=\"M18.56 5.44l.94 2.06.94-2.06 2.06-.94-2.06-.94-.94-2.06-.94 2.06-2.06.94zm-11 1L8.5 8.5l.94-2.06 2.06-.94-2.06-.94L8.5 2.5l-.94 2.06-2.06.94zm10 10l.94 2.06.94-2.06 2.06-.94-2.06-.94-.94-2.06-.94 2.06-2.06.94z\"/><path d=\"M17.41 7.96l-1.37-1.37c-.4-.4-.92-.59-1.43-.59-.52 0-1.04.2-1.43.59L10.3 9.45l-7.72 7.72c-.78.78-.78 2.05 0 2.83L4 21.41c.39.39.9.59 1.41.59.51 0 1.02-.2 1.41-.59l7.78-7.78 2.81-2.81c.8-.78.8-2.07 0-2.86zM5.41 20L4 18.59l7.72-7.72 1.47 1.35L5.41 20z\"/>\n",
              "  </svg>\n",
              "      </button>\n",
              "      \n",
              "  <style>\n",
              "    .colab-df-container {\n",
              "      display:flex;\n",
              "      flex-wrap:wrap;\n",
              "      gap: 12px;\n",
              "    }\n",
              "\n",
              "    .colab-df-convert {\n",
              "      background-color: #E8F0FE;\n",
              "      border: none;\n",
              "      border-radius: 50%;\n",
              "      cursor: pointer;\n",
              "      display: none;\n",
              "      fill: #1967D2;\n",
              "      height: 32px;\n",
              "      padding: 0 0 0 0;\n",
              "      width: 32px;\n",
              "    }\n",
              "\n",
              "    .colab-df-convert:hover {\n",
              "      background-color: #E2EBFA;\n",
              "      box-shadow: 0px 1px 2px rgba(60, 64, 67, 0.3), 0px 1px 3px 1px rgba(60, 64, 67, 0.15);\n",
              "      fill: #174EA6;\n",
              "    }\n",
              "\n",
              "    [theme=dark] .colab-df-convert {\n",
              "      background-color: #3B4455;\n",
              "      fill: #D2E3FC;\n",
              "    }\n",
              "\n",
              "    [theme=dark] .colab-df-convert:hover {\n",
              "      background-color: #434B5C;\n",
              "      box-shadow: 0px 1px 3px 1px rgba(0, 0, 0, 0.15);\n",
              "      filter: drop-shadow(0px 1px 2px rgba(0, 0, 0, 0.3));\n",
              "      fill: #FFFFFF;\n",
              "    }\n",
              "  </style>\n",
              "\n",
              "      <script>\n",
              "        const buttonEl =\n",
              "          document.querySelector('#df-9b2e55d0-70d0-487a-9d8a-3981cceb5f82 button.colab-df-convert');\n",
              "        buttonEl.style.display =\n",
              "          google.colab.kernel.accessAllowed ? 'block' : 'none';\n",
              "\n",
              "        async function convertToInteractive(key) {\n",
              "          const element = document.querySelector('#df-9b2e55d0-70d0-487a-9d8a-3981cceb5f82');\n",
              "          const dataTable =\n",
              "            await google.colab.kernel.invokeFunction('convertToInteractive',\n",
              "                                                     [key], {});\n",
              "          if (!dataTable) return;\n",
              "\n",
              "          const docLinkHtml = 'Like what you see? Visit the ' +\n",
              "            '<a target=\"_blank\" href=https://colab.research.google.com/notebooks/data_table.ipynb>data table notebook</a>'\n",
              "            + ' to learn more about interactive tables.';\n",
              "          element.innerHTML = '';\n",
              "          dataTable['output_type'] = 'display_data';\n",
              "          await google.colab.output.renderOutput(dataTable, element);\n",
              "          const docLink = document.createElement('div');\n",
              "          docLink.innerHTML = docLinkHtml;\n",
              "          element.appendChild(docLink);\n",
              "        }\n",
              "      </script>\n",
              "    </div>\n",
              "  </div>\n",
              "  "
            ]
          },
          "metadata": {},
          "execution_count": 28
        }
      ]
    },
    {
      "cell_type": "code",
      "source": [
        "# Imprimo la cantidad de registros y filas que quedaron en history\n",
        "df_history.shape"
      ],
      "metadata": {
        "colab": {
          "base_uri": "https://localhost:8080/"
        },
        "id": "wTjRFKHbknQn",
        "outputId": "133f1c2d-aec3-480e-c3a0-146a0ffdee1d"
      },
      "execution_count": 29,
      "outputs": [
        {
          "output_type": "execute_result",
          "data": {
            "text/plain": [
              "(99465, 13)"
            ]
          },
          "metadata": {},
          "execution_count": 29
        }
      ]
    },
    {
      "cell_type": "markdown",
      "source": [
        "# Variable dependiente y variables independientes"
      ],
      "metadata": {
        "id": "EjyxzEOb3Oxw"
      }
    },
    {
      "cell_type": "markdown",
      "source": [
        "Me dispongo a preparar los datos, tener listos los datasets de la variable dependiente y las variables independientes:"
      ],
      "metadata": {
        "id": "qEGqqpdlLI-z"
      }
    },
    {
      "cell_type": "code",
      "source": [
        "# La variable dependiente sera 'number_of_reviews', las demas serán independientes\n",
        "x = df_history.drop('number_of_reviews', axis=1)\n",
        "y = df_history['number_of_reviews']"
      ],
      "metadata": {
        "id": "4KFYTc2nLNQO"
      },
      "execution_count": 30,
      "outputs": []
    },
    {
      "cell_type": "code",
      "source": [
        "# Se divide el dataset en entrenamiento y prueba, donde entrenamiento tendrá el 80% de los datos\n",
        "from sklearn.model_selection import train_test_split\n",
        "\n",
        "x_train, x_test, y_train, y_test = train_test_split(x, y, test_size=0.20, random_state=1)\n",
        "\n",
        "print(f'Train: {x_train.shape}')\n",
        "print(f'Test: {x_test.shape}')\n",
        "\n",
        "# Se estandariza el dataset usando 'StandarScaler'\n",
        "name_columns = x_train.columns\n",
        "\n",
        "from sklearn.preprocessing import StandardScaler\n",
        "\n",
        "sc = StandardScaler()\n",
        "x_train = sc.fit_transform(x_train.values) # Solo para datos de entrenamiento se utiliza \"fit_transform\"\n",
        "x_test = sc.transform(x_test.values)\n",
        "\n",
        "# Los datos se transforman a dataframes para mayor comodidad\n",
        "x_train = pd.DataFrame(data=x_train, columns=name_columns)\n",
        "x_test = pd.DataFrame(data=x_test, columns=name_columns)"
      ],
      "metadata": {
        "colab": {
          "base_uri": "https://localhost:8080/"
        },
        "id": "awIk5QPxLUCw",
        "outputId": "dfdba967-ecf4-405d-84b8-3072e80e0f84"
      },
      "execution_count": 31,
      "outputs": [
        {
          "output_type": "stream",
          "name": "stdout",
          "text": [
            "Train: (79572, 12)\n",
            "Test: (19893, 12)\n"
          ]
        }
      ]
    },
    {
      "cell_type": "markdown",
      "source": [
        "# Entrenamientos de modelos"
      ],
      "metadata": {
        "id": "lnS6xOOAttq5"
      }
    },
    {
      "cell_type": "markdown",
      "source": [
        "## Regresión lineal simple"
      ],
      "metadata": {
        "id": "M6Z7l5n1K1e0"
      }
    },
    {
      "cell_type": "code",
      "source": [
        "# Se realiza el entrenamiento del modelo\n",
        "from sklearn.linear_model import LinearRegression\n",
        "\n",
        "simple_linear_regression = LinearRegression()\n",
        "simple_linear_regression.fit(x_train, y_train)\n",
        "\n",
        "# Se predicen los datos\n",
        "y_pred_lr_train = simple_linear_regression.predict(x_train)\n",
        "y_pred_lr_test = simple_linear_regression.predict(x_test)\n",
        "\n",
        "# Se imprimen los valores de los coeficientes. Los que son más grandes y tienen\n",
        "# más peso son los que influyen más en la desición de la predicción\n",
        "print(simple_linear_regression.feature_names_in_)\n",
        "print(simple_linear_regression.coef_)"
      ],
      "metadata": {
        "colab": {
          "base_uri": "https://localhost:8080/"
        },
        "id": "GujKaTldLfkS",
        "outputId": "ccbc76ff-9d64-46cc-8417-82be08588563"
      },
      "execution_count": 32,
      "outputs": [
        {
          "output_type": "stream",
          "name": "stdout",
          "text": [
            "['neighbourhood_group' 'neighbourhood' 'cancellation_policy' 'room_type'\n",
            " 'lat' 'long' 'instant_bookable' 'construction_year' 'price' 'service_fee'\n",
            " 'minimum_nights' 'availability_365']\n",
            "[-0.03905575 -0.15020529 -0.00507988 -0.10370613 -0.07762399  0.21287883\n",
            "  0.00931619  0.01489093 -0.00397483 -0.00494108 -0.22082989  0.37540324]\n"
          ]
        }
      ]
    },
    {
      "cell_type": "markdown",
      "source": [
        "El valor más grande es `0.37540324` que corresponde al feature \"availability_365\". Es el que más influye en la predicción."
      ],
      "metadata": {
        "id": "YICU4S5XLq66"
      }
    },
    {
      "cell_type": "code",
      "source": [
        "# Encuentro la raíz del error cuadrático medio (RMSE) para datos de train y de test\n",
        "from sklearn.metrics import mean_squared_error\n",
        "\n",
        "lr_train_rmse = np.sqrt(mean_squared_error(y_train, y_pred_lr_train))\n",
        "lr_test_rmse = np.sqrt(mean_squared_error(y_test, y_pred_lr_test))\n",
        "print(f'LinearRegression train RMSE: {lr_train_rmse}')\n",
        "print(f'LinearRegression test RMSE: {lr_test_rmse}')"
      ],
      "metadata": {
        "colab": {
          "base_uri": "https://localhost:8080/"
        },
        "id": "yN1paJ30MBtv",
        "outputId": "f063b4cb-07ac-4934-c966-d90460a0ee00"
      },
      "execution_count": 33,
      "outputs": [
        {
          "output_type": "stream",
          "name": "stdout",
          "text": [
            "LinearRegression train RMSE: 3.805891975039495\n",
            "LinearRegression test RMSE: 3.787798935579203\n"
          ]
        }
      ]
    },
    {
      "cell_type": "markdown",
      "source": [
        "### Conclusiones de regresión lineal simple"
      ],
      "metadata": {
        "id": "JZxyyfpMtMAL"
      }
    },
    {
      "cell_type": "markdown",
      "source": [
        "1. EL feature que más tiene peso en la predicción es \"availability_365\".\n",
        "2. La unidad de medida de \"number_of_reviews\" quedó en téminos de porcentaje y el RMSE está en un 3.80% aproximadamente. Mientras tanto la media de \"number_of_reviews\" es de 2.39% ... esto quiere decir que el modelo no es muy bueno ni tampoco es malo. La diferencia porcentual es de solo 1.41%, sin embargo el error casi que duplica a la media de \"number_of_reviews\".\n",
        "3. No hay overfitting, pero puede haber un poco de underfitting.\n",
        "4. Procedo a evaluar más modelos con gradiente descendente, funciones de regulariación y transformación polinomial pero lo más seguro es que el RMSE aumente."
      ],
      "metadata": {
        "id": "IwTuSYjCtKYP"
      }
    },
    {
      "cell_type": "markdown",
      "source": [
        "## Gradiente descendente"
      ],
      "metadata": {
        "id": "Ev5da8antrGf"
      }
    },
    {
      "cell_type": "code",
      "source": [
        "# Se realiza el entrenamiento del modelo sin penalidad\n",
        "from sklearn.linear_model import SGDRegressor\n",
        "\n",
        "sgd_regressor = SGDRegressor(penalty=None)\n",
        "sgd_regressor.fit(x_train, y_train)\n",
        "\n",
        "# Se predicen los datos\n",
        "y_pred_sgd_train = sgd_regressor.predict(x_train)\n",
        "y_pred_sgd_test = sgd_regressor.predict(x_test)\n",
        "\n",
        "# Encuentro la raíz del error cuadrático medio (RMSE) para datos de train y de test\n",
        "sgd_train_rmse = np.sqrt(mean_squared_error(y_train, y_pred_sgd_train))\n",
        "sgd_test_rmse = np.sqrt(mean_squared_error(y_test, y_pred_sgd_test))\n",
        "print(f'SGDRegressor train RMSE: {sgd_train_rmse}')\n",
        "print(f'SGDRegressor test RMSE: {sgd_test_rmse}')"
      ],
      "metadata": {
        "colab": {
          "base_uri": "https://localhost:8080/"
        },
        "id": "kUFXDjgstqOj",
        "outputId": "f82a071b-dbe8-467c-945c-0fecb4a48c45"
      },
      "execution_count": 34,
      "outputs": [
        {
          "output_type": "stream",
          "name": "stdout",
          "text": [
            "SGDRegressor train RMSE: 842130.3896964485\n",
            "SGDRegressor test RMSE: 219574.57498487897\n"
          ]
        }
      ]
    },
    {
      "cell_type": "markdown",
      "source": [
        "El error es muy grande, voy a aplicar una función de regularización para ver que sucede."
      ],
      "metadata": {
        "id": "A4IN0ia8uSmt"
      }
    },
    {
      "cell_type": "code",
      "source": [
        "# Se realiza el entrenamiento del modelo con penalidad l1\n",
        "sgd_regressor_l1 = SGDRegressor(penalty='l1')\n",
        "sgd_regressor_l1.fit(x_train, y_train)\n",
        "\n",
        "# Se predicen los datos\n",
        "y_pred_sgd_l1_train = sgd_regressor_l1.predict(x_train)\n",
        "y_pred_sgd_l1_test = sgd_regressor_l1.predict(x_test)\n",
        "\n",
        "# Encuentro la raíz del error cuadrático medio (RMSE) para datos de train y de test\n",
        "sgd_l1_train_rmse = np.sqrt(mean_squared_error(y_train, y_pred_sgd_l1_train))\n",
        "sgd_l1_test_rmse = np.sqrt(mean_squared_error(y_test, y_pred_sgd_l1_test))\n",
        "print(f'SGDRegressor L1 train RMSE: {sgd_l1_train_rmse}')\n",
        "print(f'SGDRegressor L1 test RMSE: {sgd_l1_test_rmse}')"
      ],
      "metadata": {
        "colab": {
          "base_uri": "https://localhost:8080/"
        },
        "id": "iHe8yHMMuZc2",
        "outputId": "27ed393c-39ec-44a2-d971-10b245439140"
      },
      "execution_count": 35,
      "outputs": [
        {
          "output_type": "stream",
          "name": "stdout",
          "text": [
            "SGDRegressor L1 train RMSE: 1238308.3460650437\n",
            "SGDRegressor L1 test RMSE: 184796.41050835655\n"
          ]
        }
      ]
    },
    {
      "cell_type": "markdown",
      "source": [
        "Aún aplicando la función de regularización L1 se ve que el error RMSE es muy grande. Voy con función de regularización L2."
      ],
      "metadata": {
        "id": "3BWkRhJNu0BD"
      }
    },
    {
      "cell_type": "code",
      "source": [
        "# Se realiza el entrenamiento del modelo con penalidad l1\n",
        "sgd_regressor_l2 = SGDRegressor(penalty='l2')\n",
        "sgd_regressor_l2.fit(x_train, y_train)\n",
        "\n",
        "# Se predicen los datos\n",
        "y_pred_sgd_l2_train = sgd_regressor_l2.predict(x_train)\n",
        "y_pred_sgd_l2_test = sgd_regressor_l2.predict(x_test)\n",
        "\n",
        "# Encuentro la raíz del error cuadrático medio (RMSE) para datos de train y de test\n",
        "sgd_l2_train_rmse = np.sqrt(mean_squared_error(y_train, y_pred_sgd_l2_train))\n",
        "sgd_l2_test_rmse = np.sqrt(mean_squared_error(y_test, y_pred_sgd_l2_test))\n",
        "print(f'SGDRegressor L2 train RMSE: {sgd_l2_train_rmse}')\n",
        "print(f'SGDRegressor L2 test RMSE: {sgd_l2_test_rmse}')"
      ],
      "metadata": {
        "colab": {
          "base_uri": "https://localhost:8080/"
        },
        "id": "pTPrFPH4vdxL",
        "outputId": "56344d09-29c2-4102-fcbd-dcd75475c781"
      },
      "execution_count": 36,
      "outputs": [
        {
          "output_type": "stream",
          "name": "stdout",
          "text": [
            "SGDRegressor L2 train RMSE: 16852198.296922054\n",
            "SGDRegressor L2 test RMSE: 5276907.243677078\n"
          ]
        }
      ]
    },
    {
      "cell_type": "markdown",
      "source": [
        "### Conclusiones de gradiente descendente"
      ],
      "metadata": {
        "id": "z4-BROgjvkA1"
      }
    },
    {
      "cell_type": "markdown",
      "source": [
        "1. El error RMSE fue mucho más grande que el encontrado con la regresión lineal.\n",
        "2. Inclusive aplicando funciones de regularación se observa que el error no mejora.\n",
        "3. Las funciones de regularización se aplican para mejorar un modelo con underfitting, pero como este no era el caso por eso obtenemos errores muy grandes."
      ],
      "metadata": {
        "id": "-ZTVe5YdvqPK"
      }
    },
    {
      "cell_type": "markdown",
      "source": [
        "## Transformación polinomial"
      ],
      "metadata": {
        "id": "2DjCnnjsMbBt"
      }
    },
    {
      "cell_type": "code",
      "source": [
        "# Polinomio con 2 grados\n",
        "from sklearn.preprocessing import PolynomialFeatures\n",
        "\n",
        "poly_features = PolynomialFeatures(degree=2, include_bias=False)\n",
        "x_poly = poly_features.fit_transform(x)"
      ],
      "metadata": {
        "id": "b9wVpIGIMhN8"
      },
      "execution_count": 37,
      "outputs": []
    },
    {
      "cell_type": "code",
      "source": [
        "# Obtener variable dependiente y variables independientes\n",
        "x_train, x_test, y_train, y_test = train_test_split(x_poly, y, test_size=0.20, random_state=1)\n",
        "\n",
        "print(f'Train: {x_train.shape}')\n",
        "print(f'Test: {x_test.shape}')\n",
        "\n",
        "# Se estandariza el dataset usando 'StandarScaler'\n",
        "sc = StandardScaler()\n",
        "x_train = sc.fit_transform(x_train) # Solo para datos de entrenamiento se utiliza \"fit_transform\"\n",
        "x_test = sc.transform(x_test)"
      ],
      "metadata": {
        "colab": {
          "base_uri": "https://localhost:8080/"
        },
        "id": "K5IJThVjMkNh",
        "outputId": "a5ca9102-fa60-449a-c190-942a9f4070d3"
      },
      "execution_count": 38,
      "outputs": [
        {
          "output_type": "stream",
          "name": "stdout",
          "text": [
            "Train: (79572, 90)\n",
            "Test: (19893, 90)\n"
          ]
        }
      ]
    },
    {
      "cell_type": "markdown",
      "source": [
        "El número de columnas aumentó a 90."
      ],
      "metadata": {
        "id": "sHdRrm8Hxnwz"
      }
    },
    {
      "cell_type": "markdown",
      "source": [
        "### Gradiente descendente y transformación polynomial 2"
      ],
      "metadata": {
        "id": "gL24rvmwMyNZ"
      }
    },
    {
      "cell_type": "code",
      "source": [
        "# Se realiza el entrenamiento del modelo con penalty=None\n",
        "sgd_regressor_poly2 = SGDRegressor(penalty=None)\n",
        "sgd_regressor_poly2.fit(x_train, y_train)\n",
        "\n",
        "# Se predicen los datos\n",
        "y_pred_poly2_train = sgd_regressor_poly2.predict(x_train)\n",
        "y_pred_poly2_test = sgd_regressor_poly2.predict(x_test)\n",
        "\n",
        "# Encuentro la raíz del error cuadrático medio (RMSE) para datos de train y de test\n",
        "sgd_poly2_train_rmse = np.sqrt(mean_squared_error(y_train, y_pred_poly2_train))\n",
        "sgd_poly2_test_rmse = np.sqrt(mean_squared_error(y_test, y_pred_poly2_test))\n",
        "print(f'SGDRegressor Poly2 train RMSE: {sgd_poly2_train_rmse}')\n",
        "print(f'SGDRegressor Poly2 test RMSE: {sgd_poly2_test_rmse}')"
      ],
      "metadata": {
        "colab": {
          "base_uri": "https://localhost:8080/"
        },
        "id": "wDsnmTPUM24x",
        "outputId": "7defcb49-6a4b-4ff3-8a81-7f05ad96fda0"
      },
      "execution_count": 39,
      "outputs": [
        {
          "output_type": "stream",
          "name": "stdout",
          "text": [
            "SGDRegressor Poly2 train RMSE: 96683610328.79283\n",
            "SGDRegressor Poly2 test RMSE: 22468995906.991344\n"
          ]
        }
      ]
    },
    {
      "cell_type": "markdown",
      "source": [
        "El error es muy alto, intento con regularización L1."
      ],
      "metadata": {
        "id": "8GUqfZS-wfSI"
      }
    },
    {
      "cell_type": "code",
      "source": [
        "# Se realiza el entrenamiento del modelo con penalty='l1'\n",
        "sgd_regressor_poly2_l1 = SGDRegressor(penalty='l1')\n",
        "sgd_regressor_poly2_l1.fit(x_train, y_train)\n",
        "\n",
        "# Se predicen los datos\n",
        "y_pred_poly2_l1_train = sgd_regressor_poly2_l1.predict(x_train)\n",
        "y_pred_poly2_l1_test = sgd_regressor_poly2_l1.predict(x_test)\n",
        "\n",
        "# Encuentro la raíz del error cuadrático medio (RMSE) para datos de train y de test\n",
        "sgd_poly2_l1_train_rmse = np.sqrt(mean_squared_error(y_train, y_pred_poly2_l1_train))\n",
        "sgd_poly2_l1_test_rmse = np.sqrt(mean_squared_error(y_test, y_pred_poly2_l1_test))\n",
        "print(f'SGDRegressor Poly2 L1 train RMSE: {sgd_poly2_l1_train_rmse}')\n",
        "print(f'SGDRegressor Poly2 L1 test RMSE: {sgd_poly2_l1_test_rmse}')"
      ],
      "metadata": {
        "colab": {
          "base_uri": "https://localhost:8080/"
        },
        "id": "taIIHrqmwjLk",
        "outputId": "084f4f71-d638-4e52-c2b4-f66e620346f9"
      },
      "execution_count": 40,
      "outputs": [
        {
          "output_type": "stream",
          "name": "stdout",
          "text": [
            "SGDRegressor Poly2 L1 train RMSE: 752264189257.9816\n",
            "SGDRegressor Poly2 L1 test RMSE: 66009435699.56088\n"
          ]
        }
      ]
    },
    {
      "cell_type": "markdown",
      "source": [
        "El error sigue siendo alto, intento con regularización L2."
      ],
      "metadata": {
        "id": "AZXut7EVw2bS"
      }
    },
    {
      "cell_type": "code",
      "source": [
        "# Se realiza el entrenamiento del modelo con penalty='l2'\n",
        "sgd_regressor_poly2_l2 = SGDRegressor(penalty='l2')\n",
        "sgd_regressor_poly2_l2.fit(x_train, y_train)\n",
        "\n",
        "# Se predicen los datos\n",
        "y_pred_poly2_l2_train = sgd_regressor_poly2_l2.predict(x_train)\n",
        "y_pred_poly2_l2_test = sgd_regressor_poly2_l2.predict(x_test)\n",
        "\n",
        "# Encuentro la raíz del error cuadrático medio (RMSE) para datos de train y de test\n",
        "sgd_poly2_l2_train_rmse = np.sqrt(mean_squared_error(y_train, y_pred_poly2_l2_train))\n",
        "sgd_poly2_l2_test_rmse = np.sqrt(mean_squared_error(y_test, y_pred_poly2_l2_test))\n",
        "print(f'SGDRegressor Poly2 L2 train RMSE: {sgd_poly2_l2_train_rmse}')\n",
        "print(f'SGDRegressor Poly2 L2 test RMSE: {sgd_poly2_l2_test_rmse}')"
      ],
      "metadata": {
        "colab": {
          "base_uri": "https://localhost:8080/"
        },
        "id": "Y6hWKYUDw6Ro",
        "outputId": "45422254-84a7-474f-edf3-e12d3d316635"
      },
      "execution_count": 41,
      "outputs": [
        {
          "output_type": "stream",
          "name": "stdout",
          "text": [
            "SGDRegressor Poly2 L2 train RMSE: 446180110782.41675\n",
            "SGDRegressor Poly2 L2 test RMSE: 80811858217.53351\n"
          ]
        }
      ]
    },
    {
      "cell_type": "markdown",
      "source": [
        "Igual, el error es muy alto.\n",
        "\n",
        "Hago el mismo proceso aumentando el número de polinomios."
      ],
      "metadata": {
        "id": "TC7pxUQsxA36"
      }
    },
    {
      "cell_type": "code",
      "source": [
        "# Polinomio con 4 grados\n",
        "poly_features = PolynomialFeatures(degree=4, include_bias=False)\n",
        "x_poly = poly_features.fit_transform(x)"
      ],
      "metadata": {
        "id": "oYkZVeVmxdTD"
      },
      "execution_count": 42,
      "outputs": []
    },
    {
      "cell_type": "code",
      "source": [
        "# Obtener variable dependiente y variables independientes\n",
        "x_train, x_test, y_train, y_test = train_test_split(x_poly, y, test_size=0.20, random_state=1)\n",
        "\n",
        "print(f'Train: {x_train.shape}')\n",
        "print(f'Test: {x_test.shape}')\n",
        "\n",
        "# Se estandariza el dataset usando 'StandarScaler'\n",
        "sc = StandardScaler()\n",
        "x_train = sc.fit_transform(x_train) # Solo para datos de entrenamiento se utiliza \"fit_transform\"\n",
        "x_test = sc.transform(x_test)"
      ],
      "metadata": {
        "colab": {
          "base_uri": "https://localhost:8080/"
        },
        "id": "HibAWp_Hxk0q",
        "outputId": "3293dfff-2e3f-4d88-c0aa-0c520488a22f"
      },
      "execution_count": 43,
      "outputs": [
        {
          "output_type": "stream",
          "name": "stdout",
          "text": [
            "Train: (79572, 1819)\n",
            "Test: (19893, 1819)\n"
          ]
        }
      ]
    },
    {
      "cell_type": "markdown",
      "source": [
        "El número de columnas aumentó a 1819."
      ],
      "metadata": {
        "id": "vLyX8jiExrpS"
      }
    },
    {
      "cell_type": "markdown",
      "source": [
        "### Gradiente descendente y transformación polynomial 4"
      ],
      "metadata": {
        "id": "QFLbKfutxzIW"
      }
    },
    {
      "cell_type": "code",
      "source": [
        "# Se realiza el entrenamiento del modelo con penalty=None\n",
        "sgd_regressor_poly5 = SGDRegressor(penalty=None)\n",
        "sgd_regressor_poly5.fit(x_train, y_train)\n",
        "\n",
        "# Se predicen los datos\n",
        "y_pred_poly5_train = sgd_regressor_poly5.predict(x_train)\n",
        "y_pred_poly5_test = sgd_regressor_poly5.predict(x_test)\n",
        "\n",
        "# Encuentro la raíz del error cuadrático medio (RMSE) para datos de train y de test\n",
        "sgd_poly5_train_rmse = np.sqrt(mean_squared_error(y_train, y_pred_poly5_train))\n",
        "sgd_poly5_test_rmse = np.sqrt(mean_squared_error(y_test, y_pred_poly5_test))\n",
        "print(f'SGDRegressor Poly5 train RMSE: {sgd_poly5_train_rmse}')\n",
        "print(f'SGDRegressor Poly5 test RMSE: {sgd_poly5_test_rmse}')"
      ],
      "metadata": {
        "colab": {
          "base_uri": "https://localhost:8080/"
        },
        "id": "sua2NzITx4G1",
        "outputId": "984b2173-e5d2-4078-bbd5-d18ab30b6568"
      },
      "execution_count": 44,
      "outputs": [
        {
          "output_type": "stream",
          "name": "stdout",
          "text": [
            "SGDRegressor Poly5 train RMSE: 5672121319419.237\n",
            "SGDRegressor Poly5 test RMSE: 837241051856.7117\n"
          ]
        }
      ]
    },
    {
      "cell_type": "markdown",
      "source": [
        "### Conclusiones de transformación polinomial con gradiente descendente"
      ],
      "metadata": {
        "id": "miNXuLBGxDhz"
      }
    },
    {
      "cell_type": "markdown",
      "source": [
        "1. Se confirma que en un modelo que no tiene overfitting no vale la pena aplicar funciones de reglarización ni transformación polinomial ya que el error RMSE no mejora.\n",
        "2. Al aumentar los grados del polinomio el error empeoraba."
      ],
      "metadata": {
        "id": "kp0PkJ3XxLR_"
      }
    },
    {
      "cell_type": "markdown",
      "source": [
        "# Trabajar con el dataset new"
      ],
      "metadata": {
        "id": "JLA-F4osAqPO"
      }
    },
    {
      "cell_type": "markdown",
      "source": [
        "El mejor modelo es el construido con LinearRegression, ahora procedo a predecir con el dataset `df_new`."
      ],
      "metadata": {
        "id": "W2BRgn24Atc7"
      }
    },
    {
      "cell_type": "code",
      "source": [
        "# Se predicen los datos\n",
        "y_pred_lr_train_new = simple_linear_regression.predict(df_new)\n",
        "\n",
        "# Estos son los resultados\n",
        "results = pd.DataFrame(data={'number_of_reviews_pred': y_pred_lr_train_new})\n",
        "results"
      ],
      "metadata": {
        "colab": {
          "base_uri": "https://localhost:8080/",
          "height": 424
        },
        "id": "5-T0_oCOBLab",
        "outputId": "d0c92861-466b-41e6-a209-d047d6ea0eee"
      },
      "execution_count": 45,
      "outputs": [
        {
          "output_type": "execute_result",
          "data": {
            "text/plain": [
              "     number_of_reviews_pred\n",
              "0                 53.753527\n",
              "1                 21.442310\n",
              "2                  4.228577\n",
              "3                  4.085347\n",
              "4                136.941280\n",
              "..                      ...\n",
              "507               11.828949\n",
              "508               19.599054\n",
              "509              117.924009\n",
              "510               22.266122\n",
              "511               62.088845\n",
              "\n",
              "[512 rows x 1 columns]"
            ],
            "text/html": [
              "\n",
              "  <div id=\"df-0d798464-752c-43d0-9058-3794d27ccbd4\">\n",
              "    <div class=\"colab-df-container\">\n",
              "      <div>\n",
              "<style scoped>\n",
              "    .dataframe tbody tr th:only-of-type {\n",
              "        vertical-align: middle;\n",
              "    }\n",
              "\n",
              "    .dataframe tbody tr th {\n",
              "        vertical-align: top;\n",
              "    }\n",
              "\n",
              "    .dataframe thead th {\n",
              "        text-align: right;\n",
              "    }\n",
              "</style>\n",
              "<table border=\"1\" class=\"dataframe\">\n",
              "  <thead>\n",
              "    <tr style=\"text-align: right;\">\n",
              "      <th></th>\n",
              "      <th>number_of_reviews_pred</th>\n",
              "    </tr>\n",
              "  </thead>\n",
              "  <tbody>\n",
              "    <tr>\n",
              "      <th>0</th>\n",
              "      <td>53.753527</td>\n",
              "    </tr>\n",
              "    <tr>\n",
              "      <th>1</th>\n",
              "      <td>21.442310</td>\n",
              "    </tr>\n",
              "    <tr>\n",
              "      <th>2</th>\n",
              "      <td>4.228577</td>\n",
              "    </tr>\n",
              "    <tr>\n",
              "      <th>3</th>\n",
              "      <td>4.085347</td>\n",
              "    </tr>\n",
              "    <tr>\n",
              "      <th>4</th>\n",
              "      <td>136.941280</td>\n",
              "    </tr>\n",
              "    <tr>\n",
              "      <th>...</th>\n",
              "      <td>...</td>\n",
              "    </tr>\n",
              "    <tr>\n",
              "      <th>507</th>\n",
              "      <td>11.828949</td>\n",
              "    </tr>\n",
              "    <tr>\n",
              "      <th>508</th>\n",
              "      <td>19.599054</td>\n",
              "    </tr>\n",
              "    <tr>\n",
              "      <th>509</th>\n",
              "      <td>117.924009</td>\n",
              "    </tr>\n",
              "    <tr>\n",
              "      <th>510</th>\n",
              "      <td>22.266122</td>\n",
              "    </tr>\n",
              "    <tr>\n",
              "      <th>511</th>\n",
              "      <td>62.088845</td>\n",
              "    </tr>\n",
              "  </tbody>\n",
              "</table>\n",
              "<p>512 rows × 1 columns</p>\n",
              "</div>\n",
              "      <button class=\"colab-df-convert\" onclick=\"convertToInteractive('df-0d798464-752c-43d0-9058-3794d27ccbd4')\"\n",
              "              title=\"Convert this dataframe to an interactive table.\"\n",
              "              style=\"display:none;\">\n",
              "        \n",
              "  <svg xmlns=\"http://www.w3.org/2000/svg\" height=\"24px\"viewBox=\"0 0 24 24\"\n",
              "       width=\"24px\">\n",
              "    <path d=\"M0 0h24v24H0V0z\" fill=\"none\"/>\n",
              "    <path d=\"M18.56 5.44l.94 2.06.94-2.06 2.06-.94-2.06-.94-.94-2.06-.94 2.06-2.06.94zm-11 1L8.5 8.5l.94-2.06 2.06-.94-2.06-.94L8.5 2.5l-.94 2.06-2.06.94zm10 10l.94 2.06.94-2.06 2.06-.94-2.06-.94-.94-2.06-.94 2.06-2.06.94z\"/><path d=\"M17.41 7.96l-1.37-1.37c-.4-.4-.92-.59-1.43-.59-.52 0-1.04.2-1.43.59L10.3 9.45l-7.72 7.72c-.78.78-.78 2.05 0 2.83L4 21.41c.39.39.9.59 1.41.59.51 0 1.02-.2 1.41-.59l7.78-7.78 2.81-2.81c.8-.78.8-2.07 0-2.86zM5.41 20L4 18.59l7.72-7.72 1.47 1.35L5.41 20z\"/>\n",
              "  </svg>\n",
              "      </button>\n",
              "      \n",
              "  <style>\n",
              "    .colab-df-container {\n",
              "      display:flex;\n",
              "      flex-wrap:wrap;\n",
              "      gap: 12px;\n",
              "    }\n",
              "\n",
              "    .colab-df-convert {\n",
              "      background-color: #E8F0FE;\n",
              "      border: none;\n",
              "      border-radius: 50%;\n",
              "      cursor: pointer;\n",
              "      display: none;\n",
              "      fill: #1967D2;\n",
              "      height: 32px;\n",
              "      padding: 0 0 0 0;\n",
              "      width: 32px;\n",
              "    }\n",
              "\n",
              "    .colab-df-convert:hover {\n",
              "      background-color: #E2EBFA;\n",
              "      box-shadow: 0px 1px 2px rgba(60, 64, 67, 0.3), 0px 1px 3px 1px rgba(60, 64, 67, 0.15);\n",
              "      fill: #174EA6;\n",
              "    }\n",
              "\n",
              "    [theme=dark] .colab-df-convert {\n",
              "      background-color: #3B4455;\n",
              "      fill: #D2E3FC;\n",
              "    }\n",
              "\n",
              "    [theme=dark] .colab-df-convert:hover {\n",
              "      background-color: #434B5C;\n",
              "      box-shadow: 0px 1px 3px 1px rgba(0, 0, 0, 0.15);\n",
              "      filter: drop-shadow(0px 1px 2px rgba(0, 0, 0, 0.3));\n",
              "      fill: #FFFFFF;\n",
              "    }\n",
              "  </style>\n",
              "\n",
              "      <script>\n",
              "        const buttonEl =\n",
              "          document.querySelector('#df-0d798464-752c-43d0-9058-3794d27ccbd4 button.colab-df-convert');\n",
              "        buttonEl.style.display =\n",
              "          google.colab.kernel.accessAllowed ? 'block' : 'none';\n",
              "\n",
              "        async function convertToInteractive(key) {\n",
              "          const element = document.querySelector('#df-0d798464-752c-43d0-9058-3794d27ccbd4');\n",
              "          const dataTable =\n",
              "            await google.colab.kernel.invokeFunction('convertToInteractive',\n",
              "                                                     [key], {});\n",
              "          if (!dataTable) return;\n",
              "\n",
              "          const docLinkHtml = 'Like what you see? Visit the ' +\n",
              "            '<a target=\"_blank\" href=https://colab.research.google.com/notebooks/data_table.ipynb>data table notebook</a>'\n",
              "            + ' to learn more about interactive tables.';\n",
              "          element.innerHTML = '';\n",
              "          dataTable['output_type'] = 'display_data';\n",
              "          await google.colab.output.renderOutput(dataTable, element);\n",
              "          const docLink = document.createElement('div');\n",
              "          docLink.innerHTML = docLinkHtml;\n",
              "          element.appendChild(docLink);\n",
              "        }\n",
              "      </script>\n",
              "    </div>\n",
              "  </div>\n",
              "  "
            ]
          },
          "metadata": {},
          "execution_count": 45
        }
      ]
    },
    {
      "cell_type": "markdown",
      "source": [
        "Reviso las gráficas de distribución para \"y_pred_lr_train\" (Predicho con los datos de entrenamiento) y para \"y_pred_lr_train_new\" (Predicho con el dataset nuevo)."
      ],
      "metadata": {
        "id": "D5jQM0f_48Yc"
      }
    },
    {
      "cell_type": "code",
      "source": [
        "# Reviso la distribución de los datos predichos en train\n",
        "results_train = pd.DataFrame(data={'number_of_reviews_pred': y_pred_lr_train})\n",
        "results_train['number_of_reviews_pred'].describe(percentiles = [.25, .5, .75, .95, .99])"
      ],
      "metadata": {
        "colab": {
          "base_uri": "https://localhost:8080/"
        },
        "id": "usLcnySZ08hy",
        "outputId": "644d25fa-63cf-4a49-a940-e0e1ed7d0a24"
      },
      "execution_count": 46,
      "outputs": [
        {
          "output_type": "execute_result",
          "data": {
            "text/plain": [
              "count    79572.000000\n",
              "mean         2.393397\n",
              "std          0.528564\n",
              "min        -37.549050\n",
              "25%          2.010601\n",
              "50%          2.347766\n",
              "75%          2.731634\n",
              "95%          3.271995\n",
              "99%          3.606030\n",
              "max         11.739056\n",
              "Name: number_of_reviews_pred, dtype: float64"
            ]
          },
          "metadata": {},
          "execution_count": 46
        }
      ]
    },
    {
      "cell_type": "code",
      "source": [
        "plt.figure(figsize = (28, 3))\n",
        "plt.boxplot(results_train['number_of_reviews_pred'], vert = False)\n",
        "plt.show()"
      ],
      "metadata": {
        "colab": {
          "base_uri": "https://localhost:8080/",
          "height": 195
        },
        "id": "UY26XmBf2Ni6",
        "outputId": "897cbb86-800a-4a5a-fc30-d83430d37477"
      },
      "execution_count": 47,
      "outputs": [
        {
          "output_type": "display_data",
          "data": {
            "text/plain": [
              "<Figure size 2016x216 with 1 Axes>"
            ],
            "image/png": "[encoded data removed]"
          },
          "metadata": {
            "needs_background": "light"
          }
        }
      ]
    },
    {
      "cell_type": "code",
      "source": [
        "# Reviso la distribución de los datos predichos con el dataset new\n",
        "results['number_of_reviews_pred'].describe(percentiles = [.25, .5, .75, .95, .99])"
      ],
      "metadata": {
        "colab": {
          "base_uri": "https://localhost:8080/"
        },
        "id": "lMMF68DpvWgC",
        "outputId": "5b38c2d1-32c0-4512-cd2f-35a1a67c95b6"
      },
      "execution_count": 48,
      "outputs": [
        {
          "output_type": "execute_result",
          "data": {
            "text/plain": [
              "count    512.000000\n",
              "mean      53.783901\n",
              "std       50.670976\n",
              "min      -41.817773\n",
              "25%        8.032606\n",
              "50%       37.882991\n",
              "75%      100.211070\n",
              "95%      139.023395\n",
              "99%      150.358347\n",
              "max      166.649349\n",
              "Name: number_of_reviews_pred, dtype: float64"
            ]
          },
          "metadata": {},
          "execution_count": 48
        }
      ]
    },
    {
      "cell_type": "code",
      "source": [
        "plt.figure(figsize = (28, 3))\n",
        "plt.boxplot(results['number_of_reviews_pred'], vert = False)\n",
        "plt.show()"
      ],
      "metadata": {
        "colab": {
          "base_uri": "https://localhost:8080/",
          "height": 195
        },
        "id": "woxb1nmmx3zf",
        "outputId": "cc41da43-d371-4e73-eed5-f51bfaf4f46d"
      },
      "execution_count": 49,
      "outputs": [
        {
          "output_type": "display_data",
          "data": {
            "text/plain": [
              "<Figure size 2016x216 with 1 Axes>"
            ],
            "image/png": "[encoded data removed]"
          },
          "metadata": {
            "needs_background": "light"
          }
        }
      ]
    },
    {
      "cell_type": "markdown",
      "source": [
        "# Conclusiones"
      ],
      "metadata": {
        "id": "mIDzs2dnKdlF"
      }
    },
    {
      "cell_type": "markdown",
      "source": [
        "1. Revisando las distribuciones de los datos predichos en train y con el dataset new no son similares.\n",
        "2. El número máximo para \"number of reviews\" de nuestro modelo era el 100% y en los datos predichos tenemos números mucho más grandes.\n",
        "\n",
        "Es por eso que he decidido que todos los datos predichos que estén por debajo del 100% (Serían los que estén por debajo del percentil 75) son los inmuebles menos populares."
      ],
      "metadata": {
        "id": "QLf0bowYxlol"
      }
    },
    {
      "cell_type": "code",
      "source": [
        "# Concateno los datasets para poder trabajar mejor\n",
        "df_new = pd.concat([df_new, results], axis=1)\n",
        "\n",
        "# Ahora el dataset new ya cuenta con los datos predichos\n",
        "df_new.head(5)"
      ],
      "metadata": {
        "colab": {
          "base_uri": "https://localhost:8080/",
          "height": 270
        },
        "id": "f3uZ7B9jyOw3",
        "outputId": "f95aead4-e6d1-41ab-d791-5f439d9026e4"
      },
      "execution_count": 50,
      "outputs": [
        {
          "output_type": "execute_result",
          "data": {
            "text/plain": [
              "   neighbourhood_group  neighbourhood  cancellation_policy  room_type  \\\n",
              "0                  3.0           63.0                  1.0        2.0   \n",
              "1                  2.0           15.0                  1.0        0.0   \n",
              "2                  3.0           24.0                  0.0        2.0   \n",
              "3                  2.0           38.0                  2.0        2.0   \n",
              "4                  2.0           85.0                  2.0        0.0   \n",
              "\n",
              "        lat      long  instant_bookable  construction_year  price  \\\n",
              "0  40.68432 -73.85862               0.0             2006.0  519.0   \n",
              "1  40.71317 -74.00654               0.0             2006.0  987.0   \n",
              "2  40.76441 -73.88943               1.0             2018.0  999.0   \n",
              "3  40.73442 -73.98383               1.0             2011.0  497.0   \n",
              "4  40.79660 -73.97154               1.0             2022.0  820.0   \n",
              "\n",
              "   service_fee  minimum_nights  availability_365  number_of_reviews_pred  \n",
              "0        104.0             1.0        141.075439               53.753527  \n",
              "1        197.0             2.0         42.000000               21.442310  \n",
              "2        200.0             2.0          0.000000                4.228577  \n",
              "3         99.0             4.0          0.000000                4.085347  \n",
              "4        164.0             4.0        376.000000              136.941280  "
            ],
            "text/html": [
              "\n",
              "  <div id=\"df-be621e34-5cad-4bb4-ac2f-0e0333427c1e\">\n",
              "    <div class=\"colab-df-container\">\n",
              "      <div>\n",
              "<style scoped>\n",
              "    .dataframe tbody tr th:only-of-type {\n",
              "        vertical-align: middle;\n",
              "    }\n",
              "\n",
              "    .dataframe tbody tr th {\n",
              "        vertical-align: top;\n",
              "    }\n",
              "\n",
              "    .dataframe thead th {\n",
              "        text-align: right;\n",
              "    }\n",
              "</style>\n",
              "<table border=\"1\" class=\"dataframe\">\n",
              "  <thead>\n",
              "    <tr style=\"text-align: right;\">\n",
              "      <th></th>\n",
              "      <th>neighbourhood_group</th>\n",
              "      <th>neighbourhood</th>\n",
              "      <th>cancellation_policy</th>\n",
              "      <th>room_type</th>\n",
              "      <th>lat</th>\n",
              "      <th>long</th>\n",
              "      <th>instant_bookable</th>\n",
              "      <th>construction_year</th>\n",
              "      <th>price</th>\n",
              "      <th>service_fee</th>\n",
              "      <th>minimum_nights</th>\n",
              "      <th>availability_365</th>\n",
              "      <th>number_of_reviews_pred</th>\n",
              "    </tr>\n",
              "  </thead>\n",
              "  <tbody>\n",
              "    <tr>\n",
              "      <th>0</th>\n",
              "      <td>3.0</td>\n",
              "      <td>63.0</td>\n",
              "      <td>1.0</td>\n",
              "      <td>2.0</td>\n",
              "      <td>40.68432</td>\n",
              "      <td>-73.85862</td>\n",
              "      <td>0.0</td>\n",
              "      <td>2006.0</td>\n",
              "      <td>519.0</td>\n",
              "      <td>104.0</td>\n",
              "      <td>1.0</td>\n",
              "      <td>141.075439</td>\n",
              "      <td>53.753527</td>\n",
              "    </tr>\n",
              "    <tr>\n",
              "      <th>1</th>\n",
              "      <td>2.0</td>\n",
              "      <td>15.0</td>\n",
              "      <td>1.0</td>\n",
              "      <td>0.0</td>\n",
              "      <td>40.71317</td>\n",
              "      <td>-74.00654</td>\n",
              "      <td>0.0</td>\n",
              "      <td>2006.0</td>\n",
              "      <td>987.0</td>\n",
              "      <td>197.0</td>\n",
              "      <td>2.0</td>\n",
              "      <td>42.000000</td>\n",
              "      <td>21.442310</td>\n",
              "    </tr>\n",
              "    <tr>\n",
              "      <th>2</th>\n",
              "      <td>3.0</td>\n",
              "      <td>24.0</td>\n",
              "      <td>0.0</td>\n",
              "      <td>2.0</td>\n",
              "      <td>40.76441</td>\n",
              "      <td>-73.88943</td>\n",
              "      <td>1.0</td>\n",
              "      <td>2018.0</td>\n",
              "      <td>999.0</td>\n",
              "      <td>200.0</td>\n",
              "      <td>2.0</td>\n",
              "      <td>0.000000</td>\n",
              "      <td>4.228577</td>\n",
              "    </tr>\n",
              "    <tr>\n",
              "      <th>3</th>\n",
              "      <td>2.0</td>\n",
              "      <td>38.0</td>\n",
              "      <td>2.0</td>\n",
              "      <td>2.0</td>\n",
              "      <td>40.73442</td>\n",
              "      <td>-73.98383</td>\n",
              "      <td>1.0</td>\n",
              "      <td>2011.0</td>\n",
              "      <td>497.0</td>\n",
              "      <td>99.0</td>\n",
              "      <td>4.0</td>\n",
              "      <td>0.000000</td>\n",
              "      <td>4.085347</td>\n",
              "    </tr>\n",
              "    <tr>\n",
              "      <th>4</th>\n",
              "      <td>2.0</td>\n",
              "      <td>85.0</td>\n",
              "      <td>2.0</td>\n",
              "      <td>0.0</td>\n",
              "      <td>40.79660</td>\n",
              "      <td>-73.97154</td>\n",
              "      <td>1.0</td>\n",
              "      <td>2022.0</td>\n",
              "      <td>820.0</td>\n",
              "      <td>164.0</td>\n",
              "      <td>4.0</td>\n",
              "      <td>376.000000</td>\n",
              "      <td>136.941280</td>\n",
              "    </tr>\n",
              "  </tbody>\n",
              "</table>\n",
              "</div>\n",
              "      <button class=\"colab-df-convert\" onclick=\"convertToInteractive('df-be621e34-5cad-4bb4-ac2f-0e0333427c1e')\"\n",
              "              title=\"Convert this dataframe to an interactive table.\"\n",
              "              style=\"display:none;\">\n",
              "        \n",
              "  <svg xmlns=\"http://www.w3.org/2000/svg\" height=\"24px\"viewBox=\"0 0 24 24\"\n",
              "       width=\"24px\">\n",
              "    <path d=\"M0 0h24v24H0V0z\" fill=\"none\"/>\n",
              "    <path d=\"M18.56 5.44l.94 2.06.94-2.06 2.06-.94-2.06-.94-.94-2.06-.94 2.06-2.06.94zm-11 1L8.5 8.5l.94-2.06 2.06-.94-2.06-.94L8.5 2.5l-.94 2.06-2.06.94zm10 10l.94 2.06.94-2.06 2.06-.94-2.06-.94-.94-2.06-.94 2.06-2.06.94z\"/><path d=\"M17.41 7.96l-1.37-1.37c-.4-.4-.92-.59-1.43-.59-.52 0-1.04.2-1.43.59L10.3 9.45l-7.72 7.72c-.78.78-.78 2.05 0 2.83L4 21.41c.39.39.9.59 1.41.59.51 0 1.02-.2 1.41-.59l7.78-7.78 2.81-2.81c.8-.78.8-2.07 0-2.86zM5.41 20L4 18.59l7.72-7.72 1.47 1.35L5.41 20z\"/>\n",
              "  </svg>\n",
              "      </button>\n",
              "      \n",
              "  <style>\n",
              "    .colab-df-container {\n",
              "      display:flex;\n",
              "      flex-wrap:wrap;\n",
              "      gap: 12px;\n",
              "    }\n",
              "\n",
              "    .colab-df-convert {\n",
              "      background-color: #E8F0FE;\n",
              "      border: none;\n",
              "      border-radius: 50%;\n",
              "      cursor: pointer;\n",
              "      display: none;\n",
              "      fill: #1967D2;\n",
              "      height: 32px;\n",
              "      padding: 0 0 0 0;\n",
              "      width: 32px;\n",
              "    }\n",
              "\n",
              "    .colab-df-convert:hover {\n",
              "      background-color: #E2EBFA;\n",
              "      box-shadow: 0px 1px 2px rgba(60, 64, 67, 0.3), 0px 1px 3px 1px rgba(60, 64, 67, 0.15);\n",
              "      fill: #174EA6;\n",
              "    }\n",
              "\n",
              "    [theme=dark] .colab-df-convert {\n",
              "      background-color: #3B4455;\n",
              "      fill: #D2E3FC;\n",
              "    }\n",
              "\n",
              "    [theme=dark] .colab-df-convert:hover {\n",
              "      background-color: #434B5C;\n",
              "      box-shadow: 0px 1px 3px 1px rgba(0, 0, 0, 0.15);\n",
              "      filter: drop-shadow(0px 1px 2px rgba(0, 0, 0, 0.3));\n",
              "      fill: #FFFFFF;\n",
              "    }\n",
              "  </style>\n",
              "\n",
              "      <script>\n",
              "        const buttonEl =\n",
              "          document.querySelector('#df-be621e34-5cad-4bb4-ac2f-0e0333427c1e button.colab-df-convert');\n",
              "        buttonEl.style.display =\n",
              "          google.colab.kernel.accessAllowed ? 'block' : 'none';\n",
              "\n",
              "        async function convertToInteractive(key) {\n",
              "          const element = document.querySelector('#df-be621e34-5cad-4bb4-ac2f-0e0333427c1e');\n",
              "          const dataTable =\n",
              "            await google.colab.kernel.invokeFunction('convertToInteractive',\n",
              "                                                     [key], {});\n",
              "          if (!dataTable) return;\n",
              "\n",
              "          const docLinkHtml = 'Like what you see? Visit the ' +\n",
              "            '<a target=\"_blank\" href=https://colab.research.google.com/notebooks/data_table.ipynb>data table notebook</a>'\n",
              "            + ' to learn more about interactive tables.';\n",
              "          element.innerHTML = '';\n",
              "          dataTable['output_type'] = 'display_data';\n",
              "          await google.colab.output.renderOutput(dataTable, element);\n",
              "          const docLink = document.createElement('div');\n",
              "          docLink.innerHTML = docLinkHtml;\n",
              "          element.appendChild(docLink);\n",
              "        }\n",
              "      </script>\n",
              "    </div>\n",
              "  </div>\n",
              "  "
            ]
          },
          "metadata": {},
          "execution_count": 50
        }
      ]
    },
    {
      "cell_type": "code",
      "source": [
        "# Calculo el presupuesto basado en el precio de los inmuebles\n",
        "less_popular_df = df_new.loc[df_new['number_of_reviews_pred'] <= df_new['number_of_reviews_pred'].quantile(.75)]\n",
        "\n",
        "budget = less_popular_df['price'].sum() * 0.02\n",
        "print(f'Presupuesto necesario: $ {budget}')\n",
        "\n",
        "# Calculo el total de inmuebles a promocionar\n",
        "property_count = len(less_popular_df)\n",
        "print(f'Total de inmuebles a promocionar: {property_count}')"
      ],
      "metadata": {
        "colab": {
          "base_uri": "https://localhost:8080/"
        },
        "id": "MhIDNc2OzUKt",
        "outputId": "7e9d299c-f3f1-449b-b05f-5e9306a65952"
      },
      "execution_count": 51,
      "outputs": [
        {
          "output_type": "stream",
          "name": "stdout",
          "text": [
            "Presupuesto necesario: $ 3238.5984\n",
            "Total de inmuebles a promocionar: 384\n"
          ]
        }
      ]
    }
  ]
}