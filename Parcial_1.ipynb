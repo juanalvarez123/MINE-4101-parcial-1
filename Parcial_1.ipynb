{
  "nbformat": 4,
  "nbformat_minor": 0,
  "metadata": {
    "colab": {
      "provenance": [],
      "toc_visible": true,
      "collapsed_sections": []
    },
    "kernelspec": {
      "name": "python3",
      "display_name": "Python 3"
    },
    "language_info": {
      "name": "python"
    },
    "gpuClass": "standard"
  },
  "cells": [
    {
      "cell_type": "markdown",
      "source": [
        "# MINE-4101: Parcial 1\n",
        "\n",
        "Juan Sebastian Alvarez Eraso\n",
        "\n",
        "Código: 201822427"
      ],
      "metadata": {
        "id": "TZS-BtPpqO6F"
      }
    },
    {
      "cell_type": "markdown",
      "source": [
        "*“Al entregar la solución de este parcial, yo, Juan Sebastian Alvarez Eraso con código 201822427 me comprometo a no conversar durante el desarrollo de este examen con ninguna persona que no sea el profesor del curso, sobre aspectos relacionados con el parcial; tampoco utilizaré algún medio de comunicación por voz, texto o intercambio de archivos, para consultar o compartir con otros, información sobre el tema del parcial. Soy consciente y acepto las consecuencias que acarreará para mi desempeño académico cometer fraude en este parcial“*"
      ],
      "metadata": {
        "id": "uHdPmteAqcNk"
      }
    },
    {
      "cell_type": "markdown",
      "source": [
        "# Diccionario de datos"
      ],
      "metadata": {
        "id": "yLXP1sigsUIB"
      }
    },
    {
      "cell_type": "markdown",
      "source": [
        "id: Identificador del inmueble\n",
        "\n",
        "neighbourhood group: Localidad o distrito en el que se encuentra el inmueble\n",
        "\n",
        "neighbourhood:& Barrio en el que se encuentra el inmueble\n",
        "\n",
        "lat: Geolocalización del inmueble\n",
        "\n",
        "long: Geolocalización del inmueble\n",
        "\n",
        "country: País en el que se encuentra el inmueble\n",
        "\n",
        "instant_bookable: Indicador de si es posible realizar reserva directamente en la plataforma\n",
        "\n",
        "cancellation_policy: Política de cancelación de la reserva\n",
        "\n",
        "room type: Tipo de inmueble\n",
        "\n",
        "construction year: Año de construcción del inmueble\n",
        "\n",
        "price: Precio por noche del inmueble\n",
        "\n",
        "service fee: Costo del servicio el cual debe ser cancelado al dejar el inmueble\n",
        "\n",
        "minimum nights: Cantidad mínima de noches que el inmueble puede ser reservado\n",
        "\n",
        "availability 365: Disponibilidad total en días durante el último año\n",
        "\n",
        "number of reviews: Total de comentarios del inmueble\n",
        "\n",
        "review rate number: Calificación promedio dada al inmueble"
      ],
      "metadata": {
        "id": "CIkb6fbvsXfD"
      }
    },
    {
      "cell_type": "markdown",
      "source": [
        "# Configuración inicial"
      ],
      "metadata": {
        "id": "G4RgKOOqqZhk"
      }
    },
    {
      "cell_type": "code",
      "source": [
        "# Setup\n",
        "RUTA_DEL_DATASET_HISTORY = 'https://raw.githubusercontent.com/juanalvarez123/MINE-4101-parcial-1/main/Datasets/losalpes_history.csv'\n",
        "RUTA_DEL_DATASET_NEW = 'https://raw.githubusercontent.com/juanalvarez123/MINE-4101-parcial-1/main/Datasets/losalpes_new.csv'\n",
        "\n",
        "import pandas as pd\n",
        "import warnings\n",
        "import matplotlib.pyplot as plt\n",
        "\n",
        "# Configuración de pandas para extender el número de filas y columnas en la visualización\n",
        "pd.set_option('display.max_rows', 100)\n",
        "pd.set_option('display.max_columns', 100)\n",
        "# Deshabilitar warnings\n",
        "pd.options.mode.chained_assignment = None\n",
        "warnings.simplefilter(action='ignore', category=FutureWarning)\n",
        "\n",
        "!pip install pylev"
      ],
      "metadata": {
        "id": "YGjlFQ8tqZN4",
        "colab": {
          "base_uri": "https://localhost:8080/"
        },
        "outputId": "15b246c2-cbd2-40c1-b92b-a977a56b4b24"
      },
      "execution_count": 1,
      "outputs": [
        {
          "output_type": "stream",
          "name": "stdout",
          "text": [
            "Looking in indexes: https://pypi.org/simple, https://us-python.pkg.dev/colab-wheels/public/simple/\n",
            "Requirement already satisfied: pylev in /usr/local/lib/python3.7/dist-packages (1.4.0)\n"
          ]
        }
      ]
    },
    {
      "cell_type": "code",
      "source": [
        "# Cargar los datasets\n",
        "df = pd.read_csv(RUTA_DEL_DATASET_HISTORY)\n",
        "df_new_tmp = pd.read_csv(RUTA_DEL_DATASET_NEW)\n",
        "\n",
        "df.head(5)"
      ],
      "metadata": {
        "colab": {
          "base_uri": "https://localhost:8080/",
          "height": 392
        },
        "id": "o3nLBxQoqxk1",
        "outputId": "d5796e69-ba4a-4878-847e-17d0ca6717d0"
      },
      "execution_count": 2,
      "outputs": [
        {
          "output_type": "execute_result",
          "data": {
            "text/plain": [
              "         id neighbourhood group       neighbourhood       lat      long  \\\n",
              "0  48540006           Manhattan      Hell's Kitchen  40.76212 -73.98820   \n",
              "1  35079903           Manhattan             Midtown  40.74623 -73.98499   \n",
              "2  50681273           Manhattan     Upper West Side  40.78859 -73.97568   \n",
              "3  13039267           Manhattan  Financial District  40.70817 -74.00511   \n",
              "4   8998640           Manhattan     Lower East Side  40.72130 -73.98900   \n",
              "\n",
              "         country instant_bookable cancellation_policy        room type  \\\n",
              "0  United States             True              strict  Entire home/apt   \n",
              "1  United States             True            flexible       Hotel room   \n",
              "2  United States            False            flexible     Private room   \n",
              "3  United States            False              strict     Private room   \n",
              "4  United States             True            moderate  Entire home/apt   \n",
              "\n",
              "   construction year  price service fee  minimum nights  availability 365  \\\n",
              "0             2011.0  $ 851       $ 170             4.0             199.0   \n",
              "1             2021.0  $ 466        $ 93             1.0             161.0   \n",
              "2             2004.0  $ 874       $ 175            14.0               0.0   \n",
              "3             2012.0  $ 813       $ 163             1.0               0.0   \n",
              "4             2007.0  $ 326        $ 65             4.0             301.0   \n",
              "\n",
              "   number of reviews  review rate number  \n",
              "0              112.0                 1.0  \n",
              "1               13.0                 5.0  \n",
              "2                1.0                 2.0  \n",
              "3                5.0                 3.0  \n",
              "4                9.0                 3.0  "
            ],
            "text/html": [
              "\n",
              "  <div id=\"df-ae14a101-89d4-42f7-bf45-2110fb6027ae\">\n",
              "    <div class=\"colab-df-container\">\n",
              "      <div>\n",
              "<style scoped>\n",
              "    .dataframe tbody tr th:only-of-type {\n",
              "        vertical-align: middle;\n",
              "    }\n",
              "\n",
              "    .dataframe tbody tr th {\n",
              "        vertical-align: top;\n",
              "    }\n",
              "\n",
              "    .dataframe thead th {\n",
              "        text-align: right;\n",
              "    }\n",
              "</style>\n",
              "<table border=\"1\" class=\"dataframe\">\n",
              "  <thead>\n",
              "    <tr style=\"text-align: right;\">\n",
              "      <th></th>\n",
              "      <th>id</th>\n",
              "      <th>neighbourhood group</th>\n",
              "      <th>neighbourhood</th>\n",
              "      <th>lat</th>\n",
              "      <th>long</th>\n",
              "      <th>country</th>\n",
              "      <th>instant_bookable</th>\n",
              "      <th>cancellation_policy</th>\n",
              "      <th>room type</th>\n",
              "      <th>construction year</th>\n",
              "      <th>price</th>\n",
              "      <th>service fee</th>\n",
              "      <th>minimum nights</th>\n",
              "      <th>availability 365</th>\n",
              "      <th>number of reviews</th>\n",
              "      <th>review rate number</th>\n",
              "    </tr>\n",
              "  </thead>\n",
              "  <tbody>\n",
              "    <tr>\n",
              "      <th>0</th>\n",
              "      <td>48540006</td>\n",
              "      <td>Manhattan</td>\n",
              "      <td>Hell's Kitchen</td>\n",
              "      <td>40.76212</td>\n",
              "      <td>-73.98820</td>\n",
              "      <td>United States</td>\n",
              "      <td>True</td>\n",
              "      <td>strict</td>\n",
              "      <td>Entire home/apt</td>\n",
              "      <td>2011.0</td>\n",
              "      <td>$ 851</td>\n",
              "      <td>$ 170</td>\n",
              "      <td>4.0</td>\n",
              "      <td>199.0</td>\n",
              "      <td>112.0</td>\n",
              "      <td>1.0</td>\n",
              "    </tr>\n",
              "    <tr>\n",
              "      <th>1</th>\n",
              "      <td>35079903</td>\n",
              "      <td>Manhattan</td>\n",
              "      <td>Midtown</td>\n",
              "      <td>40.74623</td>\n",
              "      <td>-73.98499</td>\n",
              "      <td>United States</td>\n",
              "      <td>True</td>\n",
              "      <td>flexible</td>\n",
              "      <td>Hotel room</td>\n",
              "      <td>2021.0</td>\n",
              "      <td>$ 466</td>\n",
              "      <td>$ 93</td>\n",
              "      <td>1.0</td>\n",
              "      <td>161.0</td>\n",
              "      <td>13.0</td>\n",
              "      <td>5.0</td>\n",
              "    </tr>\n",
              "    <tr>\n",
              "      <th>2</th>\n",
              "      <td>50681273</td>\n",
              "      <td>Manhattan</td>\n",
              "      <td>Upper West Side</td>\n",
              "      <td>40.78859</td>\n",
              "      <td>-73.97568</td>\n",
              "      <td>United States</td>\n",
              "      <td>False</td>\n",
              "      <td>flexible</td>\n",
              "      <td>Private room</td>\n",
              "      <td>2004.0</td>\n",
              "      <td>$ 874</td>\n",
              "      <td>$ 175</td>\n",
              "      <td>14.0</td>\n",
              "      <td>0.0</td>\n",
              "      <td>1.0</td>\n",
              "      <td>2.0</td>\n",
              "    </tr>\n",
              "    <tr>\n",
              "      <th>3</th>\n",
              "      <td>13039267</td>\n",
              "      <td>Manhattan</td>\n",
              "      <td>Financial District</td>\n",
              "      <td>40.70817</td>\n",
              "      <td>-74.00511</td>\n",
              "      <td>United States</td>\n",
              "      <td>False</td>\n",
              "      <td>strict</td>\n",
              "      <td>Private room</td>\n",
              "      <td>2012.0</td>\n",
              "      <td>$ 813</td>\n",
              "      <td>$ 163</td>\n",
              "      <td>1.0</td>\n",
              "      <td>0.0</td>\n",
              "      <td>5.0</td>\n",
              "      <td>3.0</td>\n",
              "    </tr>\n",
              "    <tr>\n",
              "      <th>4</th>\n",
              "      <td>8998640</td>\n",
              "      <td>Manhattan</td>\n",
              "      <td>Lower East Side</td>\n",
              "      <td>40.72130</td>\n",
              "      <td>-73.98900</td>\n",
              "      <td>United States</td>\n",
              "      <td>True</td>\n",
              "      <td>moderate</td>\n",
              "      <td>Entire home/apt</td>\n",
              "      <td>2007.0</td>\n",
              "      <td>$ 326</td>\n",
              "      <td>$ 65</td>\n",
              "      <td>4.0</td>\n",
              "      <td>301.0</td>\n",
              "      <td>9.0</td>\n",
              "      <td>3.0</td>\n",
              "    </tr>\n",
              "  </tbody>\n",
              "</table>\n",
              "</div>\n",
              "      <button class=\"colab-df-convert\" onclick=\"convertToInteractive('df-ae14a101-89d4-42f7-bf45-2110fb6027ae')\"\n",
              "              title=\"Convert this dataframe to an interactive table.\"\n",
              "              style=\"display:none;\">\n",
              "        \n",
              "  <svg xmlns=\"http://www.w3.org/2000/svg\" height=\"24px\"viewBox=\"0 0 24 24\"\n",
              "       width=\"24px\">\n",
              "    <path d=\"M0 0h24v24H0V0z\" fill=\"none\"/>\n",
              "    <path d=\"M18.56 5.44l.94 2.06.94-2.06 2.06-.94-2.06-.94-.94-2.06-.94 2.06-2.06.94zm-11 1L8.5 8.5l.94-2.06 2.06-.94-2.06-.94L8.5 2.5l-.94 2.06-2.06.94zm10 10l.94 2.06.94-2.06 2.06-.94-2.06-.94-.94-2.06-.94 2.06-2.06.94z\"/><path d=\"M17.41 7.96l-1.37-1.37c-.4-.4-.92-.59-1.43-.59-.52 0-1.04.2-1.43.59L10.3 9.45l-7.72 7.72c-.78.78-.78 2.05 0 2.83L4 21.41c.39.39.9.59 1.41.59.51 0 1.02-.2 1.41-.59l7.78-7.78 2.81-2.81c.8-.78.8-2.07 0-2.86zM5.41 20L4 18.59l7.72-7.72 1.47 1.35L5.41 20z\"/>\n",
              "  </svg>\n",
              "      </button>\n",
              "      \n",
              "  <style>\n",
              "    .colab-df-container {\n",
              "      display:flex;\n",
              "      flex-wrap:wrap;\n",
              "      gap: 12px;\n",
              "    }\n",
              "\n",
              "    .colab-df-convert {\n",
              "      background-color: #E8F0FE;\n",
              "      border: none;\n",
              "      border-radius: 50%;\n",
              "      cursor: pointer;\n",
              "      display: none;\n",
              "      fill: #1967D2;\n",
              "      height: 32px;\n",
              "      padding: 0 0 0 0;\n",
              "      width: 32px;\n",
              "    }\n",
              "\n",
              "    .colab-df-convert:hover {\n",
              "      background-color: #E2EBFA;\n",
              "      box-shadow: 0px 1px 2px rgba(60, 64, 67, 0.3), 0px 1px 3px 1px rgba(60, 64, 67, 0.15);\n",
              "      fill: #174EA6;\n",
              "    }\n",
              "\n",
              "    [theme=dark] .colab-df-convert {\n",
              "      background-color: #3B4455;\n",
              "      fill: #D2E3FC;\n",
              "    }\n",
              "\n",
              "    [theme=dark] .colab-df-convert:hover {\n",
              "      background-color: #434B5C;\n",
              "      box-shadow: 0px 1px 3px 1px rgba(0, 0, 0, 0.15);\n",
              "      filter: drop-shadow(0px 1px 2px rgba(0, 0, 0, 0.3));\n",
              "      fill: #FFFFFF;\n",
              "    }\n",
              "  </style>\n",
              "\n",
              "      <script>\n",
              "        const buttonEl =\n",
              "          document.querySelector('#df-ae14a101-89d4-42f7-bf45-2110fb6027ae button.colab-df-convert');\n",
              "        buttonEl.style.display =\n",
              "          google.colab.kernel.accessAllowed ? 'block' : 'none';\n",
              "\n",
              "        async function convertToInteractive(key) {\n",
              "          const element = document.querySelector('#df-ae14a101-89d4-42f7-bf45-2110fb6027ae');\n",
              "          const dataTable =\n",
              "            await google.colab.kernel.invokeFunction('convertToInteractive',\n",
              "                                                     [key], {});\n",
              "          if (!dataTable) return;\n",
              "\n",
              "          const docLinkHtml = 'Like what you see? Visit the ' +\n",
              "            '<a target=\"_blank\" href=https://colab.research.google.com/notebooks/data_table.ipynb>data table notebook</a>'\n",
              "            + ' to learn more about interactive tables.';\n",
              "          element.innerHTML = '';\n",
              "          dataTable['output_type'] = 'display_data';\n",
              "          await google.colab.output.renderOutput(dataTable, element);\n",
              "          const docLink = document.createElement('div');\n",
              "          docLink.innerHTML = docLinkHtml;\n",
              "          element.appendChild(docLink);\n",
              "        }\n",
              "      </script>\n",
              "    </div>\n",
              "  </div>\n",
              "  "
            ]
          },
          "metadata": {},
          "execution_count": 2
        }
      ]
    },
    {
      "cell_type": "code",
      "source": [
        "# Muestro la cantidad de registros y de columnas del dataset history\n",
        "df.shape"
      ],
      "metadata": {
        "colab": {
          "base_uri": "https://localhost:8080/"
        },
        "id": "4QjpZQ5HrzAr",
        "outputId": "0fe409b6-f9ae-42fc-9eb0-ceb7308467ac"
      },
      "execution_count": 3,
      "outputs": [
        {
          "output_type": "execute_result",
          "data": {
            "text/plain": [
              "(102083, 16)"
            ]
          },
          "metadata": {},
          "execution_count": 3
        }
      ]
    },
    {
      "cell_type": "code",
      "source": [
        "# Muestro los tipos de datos del dataset history\n",
        "df.dtypes"
      ],
      "metadata": {
        "colab": {
          "base_uri": "https://localhost:8080/"
        },
        "id": "6tnos2hjsDdq",
        "outputId": "452238a0-7ca9-4ef6-9d52-4ff07c769f15"
      },
      "execution_count": 4,
      "outputs": [
        {
          "output_type": "execute_result",
          "data": {
            "text/plain": [
              "id                       int64\n",
              "neighbourhood group     object\n",
              "neighbourhood           object\n",
              "lat                    float64\n",
              "long                   float64\n",
              "country                 object\n",
              "instant_bookable        object\n",
              "cancellation_policy     object\n",
              "room type               object\n",
              "construction year      float64\n",
              "price                   object\n",
              "service fee             object\n",
              "minimum nights         float64\n",
              "availability 365       float64\n",
              "number of reviews      float64\n",
              "review rate number     float64\n",
              "dtype: object"
            ]
          },
          "metadata": {},
          "execution_count": 4
        }
      ]
    },
    {
      "cell_type": "code",
      "source": [
        "# Verifico la cantidad de nulos\n",
        "df.isnull().sum()"
      ],
      "metadata": {
        "colab": {
          "base_uri": "https://localhost:8080/"
        },
        "id": "S-xSU1b20-l3",
        "outputId": "f4e4979d-c2e2-471b-d760-384158796bca"
      },
      "execution_count": 5,
      "outputs": [
        {
          "output_type": "execute_result",
          "data": {
            "text/plain": [
              "id                        0\n",
              "neighbourhood group     620\n",
              "neighbourhood           607\n",
              "lat                     599\n",
              "long                    599\n",
              "country                1116\n",
              "instant_bookable        696\n",
              "cancellation_policy     667\n",
              "room type               591\n",
              "construction year       804\n",
              "price                   838\n",
              "service fee             863\n",
              "minimum nights          994\n",
              "availability 365       1034\n",
              "number of reviews       770\n",
              "review rate number      909\n",
              "dtype: int64"
            ]
          },
          "metadata": {},
          "execution_count": 5
        }
      ]
    },
    {
      "cell_type": "markdown",
      "source": [
        "Hay muchos nulos, se debe hacer un tratamiento para estos datos."
      ],
      "metadata": {
        "id": "AjNUyDYhmWTF"
      }
    },
    {
      "cell_type": "markdown",
      "source": [
        "# Limpieza y preparación de los datos"
      ],
      "metadata": {
        "id": "siHwjsy4r_l9"
      }
    },
    {
      "cell_type": "code",
      "source": [
        "# Ver los valores únicos para las ciudades (\"neighbourhood group\")\n",
        "df['neighbourhood group'].unique()"
      ],
      "metadata": {
        "colab": {
          "base_uri": "https://localhost:8080/"
        },
        "id": "N3WdgMr83zld",
        "outputId": "8285c08d-7833-4a9f-9593-560a3d663174"
      },
      "execution_count": 6,
      "outputs": [
        {
          "output_type": "execute_result",
          "data": {
            "text/plain": [
              "array(['Manhattan', 'Brooklyn', 'Queens', 'Bronx', 'Staten Island', nan,\n",
              "       'Quens', 'Manattan', 'Broolkyn', 'Manhatan', 'brookln', 'manhatan'],\n",
              "      dtype=object)"
            ]
          },
          "metadata": {},
          "execution_count": 6
        }
      ]
    },
    {
      "cell_type": "markdown",
      "source": [
        "Hay valores como \"Manhattan\" y \"Manhatan\" que hacen referencia al mismo \"neighbourhood group\"."
      ],
      "metadata": {
        "id": "dPz8HU2X39TM"
      }
    },
    {
      "cell_type": "code",
      "source": [
        "# Reviso los valores únicos de la columna \"country\"\n",
        "df['country'].unique()"
      ],
      "metadata": {
        "colab": {
          "base_uri": "https://localhost:8080/"
        },
        "id": "HciP9XeYvW1x",
        "outputId": "a2fd3671-ae31-49bf-b7c8-c0d04dfc4caf"
      },
      "execution_count": 7,
      "outputs": [
        {
          "output_type": "execute_result",
          "data": {
            "text/plain": [
              "array(['United States', nan, 'United States of America'], dtype=object)"
            ]
          },
          "metadata": {},
          "execution_count": 7
        }
      ]
    },
    {
      "cell_type": "markdown",
      "source": [
        "Hay varios valores, pero todos correspoden con \"United States\" como país."
      ],
      "metadata": {
        "id": "614Odu20vfOe"
      }
    },
    {
      "cell_type": "code",
      "source": [
        "# Reviso los valores únicos de \"room type\"\n",
        "df['room type'].unique()"
      ],
      "metadata": {
        "colab": {
          "base_uri": "https://localhost:8080/"
        },
        "id": "1Hk7QPg91fJH",
        "outputId": "7c594be2-711b-4c79-fb62-8c1bf11a4ef8"
      },
      "execution_count": 8,
      "outputs": [
        {
          "output_type": "execute_result",
          "data": {
            "text/plain": [
              "array(['Entire home/apt', 'Hotel room', 'Private room', 'Shared room',\n",
              "       nan], dtype=object)"
            ]
          },
          "metadata": {},
          "execution_count": 8
        }
      ]
    },
    {
      "cell_type": "markdown",
      "source": [
        "Hay varios valores pero están correctos, no hace falta unificarlos."
      ],
      "metadata": {
        "id": "8hDehxJ6kR_s"
      }
    },
    {
      "cell_type": "markdown",
      "source": [
        "Revisando los datos he tomado las siguientes desiciones:\n",
        "1. Los valores para \"neighbourhood group\" hay que unificarlos ya que hay algunos con typo errors.\n",
        "2. La columna \"country\" solo tiene el valor de \"United States\", hay más valores pero en realidad solo corresponden a uno, se puede eliminar.\n",
        "3. Transformo los valores de \"instant_bookable\" para trabajar con 0 y 1.\n",
        "4. Corregir los valores y el tipo de dato de \"price\" y de \"service fee\" ya que no son numéricos y además tienen caracteres especiales. Además, llenar los campos nulos con los valores promedio de estos.\n",
        "5. Llenar las columnas \"minimum nights\" y \"availability 365\" con la media de estas columnas.\n",
        "6. En el enunciado del ejercicio se menciona *“La popularidad de un inmueble está dada en términos de la cantidad de comentarios (reviews) que ha obtenido independientemente de su calificación“*, por lo que es posible también eliminar la columna \"review rate number\".\n",
        "7. Eliminar los inmuebles duplicados.\n",
        "8. Trabajar en terminos porcentuales con la columna \"number of reviews\" ya que está dada en cantidad y es más trabajable en terminos porcentuales.\n",
        "9. Arreglar los años de construcción que están muy por debajo o muy por encima del promedio.\n",
        "\n",
        "Para ejecutar luego del análisis exploratorio:\n",
        "1. El \"id\" del inmueble no aporta nada a la definición del modelo, esa columna se puede eliminar.\n",
        "2. Eliminar todos las filas que contengan valores nulos.\n",
        "3. Dejar por fuera a los outliers."
      ],
      "metadata": {
        "id": "azE_YMcnuFC3"
      }
    },
    {
      "cell_type": "code",
      "source": [
        "# 1. Los valores para \"neighbourhood group\" hay que unificarlos\n",
        "import pylev\n",
        "import numpy as np\n",
        "\n",
        "def get_neighbourhood_group(value):\n",
        "  if pd.isnull(value):\n",
        "    return np.nan\n",
        "\n",
        "  acceptable_distance = 3\n",
        "  if pylev.levenshtein('Manhattan', value) <= acceptable_distance:\n",
        "    return 'Manhattan'\n",
        "  elif pylev.levenshtein('Brooklyn', value) <= acceptable_distance:\n",
        "    return 'Brooklyn'\n",
        "  elif pylev.levenshtein('Queens', value) <= acceptable_distance:\n",
        "    return 'Queens'\n",
        "  elif pylev.levenshtein('Bronx', value) <= acceptable_distance:\n",
        "    return 'Bronx'\n",
        "  elif pylev.levenshtein('Staten Island', value) <= acceptable_distance:\n",
        "    return 'Staten Island'\n",
        "  else:\n",
        "    return value\n",
        "\n",
        "# Aplico la función creada sobre la columna \"neighbourhood group\"\n",
        "df['neighbourhood group'] = df['neighbourhood group'].apply(get_neighbourhood_group)\n",
        "df_new_tmp['neighbourhood group'] = df_new_tmp['neighbourhood group'].apply(get_neighbourhood_group)\n",
        "\n",
        "# Verifico cuales son los valores únicos en la columna \"neighbourhood group\"\n",
        "df['neighbourhood group'].unique()"
      ],
      "metadata": {
        "colab": {
          "base_uri": "https://localhost:8080/"
        },
        "id": "IPbI2iYx4pFg",
        "outputId": "822dfd67-6a48-4e37-ebbb-e6c1fe27f837"
      },
      "execution_count": 9,
      "outputs": [
        {
          "output_type": "execute_result",
          "data": {
            "text/plain": [
              "array(['Manhattan', 'Brooklyn', 'Queens', 'Bronx', 'Staten Island', nan],\n",
              "      dtype=object)"
            ]
          },
          "metadata": {},
          "execution_count": 9
        }
      ]
    },
    {
      "cell_type": "code",
      "source": [
        "# 2. La columna \"country\" solo tiene el valor de \"United States\", se puede eliminar.\n",
        "df.drop('country', axis=1, inplace=True)\n",
        "df_new_tmp.drop('country', axis=1, inplace=True)\n",
        "\n",
        "# Verifico la cantidad de columnas, deberían ser 15 ahora\n",
        "df.shape"
      ],
      "metadata": {
        "id": "--MstCLVwIBF",
        "colab": {
          "base_uri": "https://localhost:8080/"
        },
        "outputId": "83996290-e728-4a31-8993-cef3519a8319"
      },
      "execution_count": 10,
      "outputs": [
        {
          "output_type": "execute_result",
          "data": {
            "text/plain": [
              "(102083, 15)"
            ]
          },
          "metadata": {},
          "execution_count": 10
        }
      ]
    },
    {
      "cell_type": "code",
      "source": [
        "# 3. Transformo los valores de \"instant_bookable\" para trabajar con 0 y 1\n",
        "df['instant_bookable'] = df['instant_bookable'].apply(lambda x: 1 if x else 0)\n",
        "df_new_tmp['instant_bookable'] = df_new_tmp['instant_bookable'].apply(lambda x: 1 if x else 0)\n",
        "\n",
        "# Verifico que el tipo de dato de \"instant_bookable\" haya cambiado a int\n",
        "df.dtypes"
      ],
      "metadata": {
        "colab": {
          "base_uri": "https://localhost:8080/"
        },
        "id": "EmUiku32KRXP",
        "outputId": "11865362-f6f0-44aa-8b4b-043bc1b56f0f"
      },
      "execution_count": 11,
      "outputs": [
        {
          "output_type": "execute_result",
          "data": {
            "text/plain": [
              "id                       int64\n",
              "neighbourhood group     object\n",
              "neighbourhood           object\n",
              "lat                    float64\n",
              "long                   float64\n",
              "instant_bookable         int64\n",
              "cancellation_policy     object\n",
              "room type               object\n",
              "construction year      float64\n",
              "price                   object\n",
              "service fee             object\n",
              "minimum nights         float64\n",
              "availability 365       float64\n",
              "number of reviews      float64\n",
              "review rate number     float64\n",
              "dtype: object"
            ]
          },
          "metadata": {},
          "execution_count": 11
        }
      ]
    },
    {
      "cell_type": "code",
      "source": [
        "# 4. Corregir los valores y el tipo de dato de \"price\" y de \"service fee\"\n",
        "import numpy as np\n",
        "\n",
        "def fix_number(value):\n",
        "  if pd.isnull(value):\n",
        "    return np.nan\n",
        "  value = value.replace('$', '')\n",
        "  value = value.replace(' ', '')\n",
        "  value = value.replace(',', '.')\n",
        "  return value\n",
        "\n",
        "# En history\n",
        "df['price'] = df['price'].apply(fix_number)\n",
        "df['service fee'] = df['service fee'].apply(fix_number)\n",
        "\n",
        "# En new\n",
        "df_new_tmp['price'] = df_new_tmp['price'].apply(fix_number)\n",
        "df_new_tmp['service fee'] = df_new_tmp['service fee'].apply(fix_number)\n",
        "\n",
        "# Cambio los tipos de datos de las 2 columnas\n",
        "df = df.astype({'price': np.float64,\n",
        "                'service fee': np.float64})\n",
        "df_new_tmp = df_new_tmp.astype({'price': np.float64,\n",
        "                                'service fee': np.float64})"
      ],
      "metadata": {
        "id": "KypgZaEFzBgw"
      },
      "execution_count": 12,
      "outputs": []
    },
    {
      "cell_type": "code",
      "source": [
        "# Antes de completar los valores nulos verifico la distribución \"price\"\n",
        "import seaborn as sns\n",
        "\n",
        "sns.displot(df['price'], bins=50)"
      ],
      "metadata": {
        "colab": {
          "base_uri": "https://localhost:8080/",
          "height": 387
        },
        "id": "qR1tEhPvUIHq",
        "outputId": "64587958-c1c2-4117-f201-29774a97c0a1"
      },
      "execution_count": 13,
      "outputs": [
        {
          "output_type": "execute_result",
          "data": {
            "text/plain": [
              "<seaborn.axisgrid.FacetGrid at 0x7fb8ddec4490>"
            ]
          },
          "metadata": {},
          "execution_count": 13
        },
        {
          "output_type": "display_data",
          "data": {
            "text/plain": [
              "<Figure size 360x360 with 1 Axes>"
            ],
            "image/png": "[encoded data removed]"
          },
          "metadata": {
            "needs_background": "light"
          }
        }
      ]
    },
    {
      "cell_type": "markdown",
      "source": [
        "Hay valores muy altos para 'price'."
      ],
      "metadata": {
        "id": "sLSuDPeVUuLM"
      }
    },
    {
      "cell_type": "code",
      "source": [
        "df[df['price'] > 10000]"
      ],
      "metadata": {
        "colab": {
          "base_uri": "https://localhost:8080/",
          "height": 197
        },
        "id": "OCch9O64UxaG",
        "outputId": "772e1228-9d7d-4699-c503-c24779e9b468"
      },
      "execution_count": 14,
      "outputs": [
        {
          "output_type": "execute_result",
          "data": {
            "text/plain": [
              "             id neighbourhood group neighbourhood       lat      long  \\\n",
              "59645  17111375           Manhattan      Kips Bay  40.74351 -73.97857   \n",
              "\n",
              "       instant_bookable cancellation_policy    room type  construction year  \\\n",
              "59645                 0              strict  Shared room             2004.0   \n",
              "\n",
              "          price  service fee  minimum nights  availability 365  \\\n",
              "59645  254000.0         51.0             1.0             324.0   \n",
              "\n",
              "       number of reviews  review rate number  \n",
              "59645                4.0                 5.0  "
            ],
            "text/html": [
              "\n",
              "  <div id=\"df-3265335e-41ec-467c-a6b0-d1e4b8b2aeb6\">\n",
              "    <div class=\"colab-df-container\">\n",
              "      <div>\n",
              "<style scoped>\n",
              "    .dataframe tbody tr th:only-of-type {\n",
              "        vertical-align: middle;\n",
              "    }\n",
              "\n",
              "    .dataframe tbody tr th {\n",
              "        vertical-align: top;\n",
              "    }\n",
              "\n",
              "    .dataframe thead th {\n",
              "        text-align: right;\n",
              "    }\n",
              "</style>\n",
              "<table border=\"1\" class=\"dataframe\">\n",
              "  <thead>\n",
              "    <tr style=\"text-align: right;\">\n",
              "      <th></th>\n",
              "      <th>id</th>\n",
              "      <th>neighbourhood group</th>\n",
              "      <th>neighbourhood</th>\n",
              "      <th>lat</th>\n",
              "      <th>long</th>\n",
              "      <th>instant_bookable</th>\n",
              "      <th>cancellation_policy</th>\n",
              "      <th>room type</th>\n",
              "      <th>construction year</th>\n",
              "      <th>price</th>\n",
              "      <th>service fee</th>\n",
              "      <th>minimum nights</th>\n",
              "      <th>availability 365</th>\n",
              "      <th>number of reviews</th>\n",
              "      <th>review rate number</th>\n",
              "    </tr>\n",
              "  </thead>\n",
              "  <tbody>\n",
              "    <tr>\n",
              "      <th>59645</th>\n",
              "      <td>17111375</td>\n",
              "      <td>Manhattan</td>\n",
              "      <td>Kips Bay</td>\n",
              "      <td>40.74351</td>\n",
              "      <td>-73.97857</td>\n",
              "      <td>0</td>\n",
              "      <td>strict</td>\n",
              "      <td>Shared room</td>\n",
              "      <td>2004.0</td>\n",
              "      <td>254000.0</td>\n",
              "      <td>51.0</td>\n",
              "      <td>1.0</td>\n",
              "      <td>324.0</td>\n",
              "      <td>4.0</td>\n",
              "      <td>5.0</td>\n",
              "    </tr>\n",
              "  </tbody>\n",
              "</table>\n",
              "</div>\n",
              "      <button class=\"colab-df-convert\" onclick=\"convertToInteractive('df-3265335e-41ec-467c-a6b0-d1e4b8b2aeb6')\"\n",
              "              title=\"Convert this dataframe to an interactive table.\"\n",
              "              style=\"display:none;\">\n",
              "        \n",
              "  <svg xmlns=\"http://www.w3.org/2000/svg\" height=\"24px\"viewBox=\"0 0 24 24\"\n",
              "       width=\"24px\">\n",
              "    <path d=\"M0 0h24v24H0V0z\" fill=\"none\"/>\n",
              "    <path d=\"M18.56 5.44l.94 2.06.94-2.06 2.06-.94-2.06-.94-.94-2.06-.94 2.06-2.06.94zm-11 1L8.5 8.5l.94-2.06 2.06-.94-2.06-.94L8.5 2.5l-.94 2.06-2.06.94zm10 10l.94 2.06.94-2.06 2.06-.94-2.06-.94-.94-2.06-.94 2.06-2.06.94z\"/><path d=\"M17.41 7.96l-1.37-1.37c-.4-.4-.92-.59-1.43-.59-.52 0-1.04.2-1.43.59L10.3 9.45l-7.72 7.72c-.78.78-.78 2.05 0 2.83L4 21.41c.39.39.9.59 1.41.59.51 0 1.02-.2 1.41-.59l7.78-7.78 2.81-2.81c.8-.78.8-2.07 0-2.86zM5.41 20L4 18.59l7.72-7.72 1.47 1.35L5.41 20z\"/>\n",
              "  </svg>\n",
              "      </button>\n",
              "      \n",
              "  <style>\n",
              "    .colab-df-container {\n",
              "      display:flex;\n",
              "      flex-wrap:wrap;\n",
              "      gap: 12px;\n",
              "    }\n",
              "\n",
              "    .colab-df-convert {\n",
              "      background-color: #E8F0FE;\n",
              "      border: none;\n",
              "      border-radius: 50%;\n",
              "      cursor: pointer;\n",
              "      display: none;\n",
              "      fill: #1967D2;\n",
              "      height: 32px;\n",
              "      padding: 0 0 0 0;\n",
              "      width: 32px;\n",
              "    }\n",
              "\n",
              "    .colab-df-convert:hover {\n",
              "      background-color: #E2EBFA;\n",
              "      box-shadow: 0px 1px 2px rgba(60, 64, 67, 0.3), 0px 1px 3px 1px rgba(60, 64, 67, 0.15);\n",
              "      fill: #174EA6;\n",
              "    }\n",
              "\n",
              "    [theme=dark] .colab-df-convert {\n",
              "      background-color: #3B4455;\n",
              "      fill: #D2E3FC;\n",
              "    }\n",
              "\n",
              "    [theme=dark] .colab-df-convert:hover {\n",
              "      background-color: #434B5C;\n",
              "      box-shadow: 0px 1px 3px 1px rgba(0, 0, 0, 0.15);\n",
              "      filter: drop-shadow(0px 1px 2px rgba(0, 0, 0, 0.3));\n",
              "      fill: #FFFFFF;\n",
              "    }\n",
              "  </style>\n",
              "\n",
              "      <script>\n",
              "        const buttonEl =\n",
              "          document.querySelector('#df-3265335e-41ec-467c-a6b0-d1e4b8b2aeb6 button.colab-df-convert');\n",
              "        buttonEl.style.display =\n",
              "          google.colab.kernel.accessAllowed ? 'block' : 'none';\n",
              "\n",
              "        async function convertToInteractive(key) {\n",
              "          const element = document.querySelector('#df-3265335e-41ec-467c-a6b0-d1e4b8b2aeb6');\n",
              "          const dataTable =\n",
              "            await google.colab.kernel.invokeFunction('convertToInteractive',\n",
              "                                                     [key], {});\n",
              "          if (!dataTable) return;\n",
              "\n",
              "          const docLinkHtml = 'Like what you see? Visit the ' +\n",
              "            '<a target=\"_blank\" href=https://colab.research.google.com/notebooks/data_table.ipynb>data table notebook</a>'\n",
              "            + ' to learn more about interactive tables.';\n",
              "          element.innerHTML = '';\n",
              "          dataTable['output_type'] = 'display_data';\n",
              "          await google.colab.output.renderOutput(dataTable, element);\n",
              "          const docLink = document.createElement('div');\n",
              "          docLink.innerHTML = docLinkHtml;\n",
              "          element.appendChild(docLink);\n",
              "        }\n",
              "      </script>\n",
              "    </div>\n",
              "  </div>\n",
              "  "
            ]
          },
          "metadata": {},
          "execution_count": 14
        }
      ]
    },
    {
      "cell_type": "code",
      "source": [
        "# Se corrigen los registros de \"price\" asumiendo que hubo un error en la digitación\n",
        "df.loc[df['price'] > 10000, 'price'] = 254\n",
        "# No lo hago en df_new_tmp debido a que no hay registros con este error\n",
        "\n",
        "sns.displot(df['price'], bins=50)"
      ],
      "metadata": {
        "colab": {
          "base_uri": "https://localhost:8080/",
          "height": 387
        },
        "id": "vh6NiHySU7Wn",
        "outputId": "b8fdb0ff-98f4-44fd-fe70-7a302447f9ee"
      },
      "execution_count": 15,
      "outputs": [
        {
          "output_type": "execute_result",
          "data": {
            "text/plain": [
              "<seaborn.axisgrid.FacetGrid at 0x7fb8d1a8ccd0>"
            ]
          },
          "metadata": {},
          "execution_count": 15
        },
        {
          "output_type": "display_data",
          "data": {
            "text/plain": [
              "<Figure size 360x360 with 1 Axes>"
            ],
            "image/png": "[encoded data removed]"
          },
          "metadata": {
            "needs_background": "light"
          }
        }
      ]
    },
    {
      "cell_type": "markdown",
      "source": [
        "Se puede observar ahora que hay valores negativos."
      ],
      "metadata": {
        "id": "QjuwwQ6SWIzC"
      }
    },
    {
      "cell_type": "code",
      "source": [
        "df[df['price'] < 0]"
      ],
      "metadata": {
        "colab": {
          "base_uri": "https://localhost:8080/",
          "height": 177
        },
        "id": "z0KAOq2GWMJe",
        "outputId": "055202b3-33f5-4127-d5a3-14add1ec2fc3"
      },
      "execution_count": 16,
      "outputs": [
        {
          "output_type": "execute_result",
          "data": {
            "text/plain": [
              "             id neighbourhood group neighbourhood     lat      long  \\\n",
              "32220  17462638            Brooklyn      Bushwick  40.705 -73.91933   \n",
              "\n",
              "       instant_bookable cancellation_policy     room type  construction year  \\\n",
              "32220                 1            moderate  Private room             2004.0   \n",
              "\n",
              "       price  service fee  minimum nights  availability 365  \\\n",
              "32220 -611.0     122000.0            14.0               0.0   \n",
              "\n",
              "       number of reviews  review rate number  \n",
              "32220                0.0                 4.0  "
            ],
            "text/html": [
              "\n",
              "  <div id=\"df-3c2da975-e8fe-4c91-8d1b-70dd65ff0744\">\n",
              "    <div class=\"colab-df-container\">\n",
              "      <div>\n",
              "<style scoped>\n",
              "    .dataframe tbody tr th:only-of-type {\n",
              "        vertical-align: middle;\n",
              "    }\n",
              "\n",
              "    .dataframe tbody tr th {\n",
              "        vertical-align: top;\n",
              "    }\n",
              "\n",
              "    .dataframe thead th {\n",
              "        text-align: right;\n",
              "    }\n",
              "</style>\n",
              "<table border=\"1\" class=\"dataframe\">\n",
              "  <thead>\n",
              "    <tr style=\"text-align: right;\">\n",
              "      <th></th>\n",
              "      <th>id</th>\n",
              "      <th>neighbourhood group</th>\n",
              "      <th>neighbourhood</th>\n",
              "      <th>lat</th>\n",
              "      <th>long</th>\n",
              "      <th>instant_bookable</th>\n",
              "      <th>cancellation_policy</th>\n",
              "      <th>room type</th>\n",
              "      <th>construction year</th>\n",
              "      <th>price</th>\n",
              "      <th>service fee</th>\n",
              "      <th>minimum nights</th>\n",
              "      <th>availability 365</th>\n",
              "      <th>number of reviews</th>\n",
              "      <th>review rate number</th>\n",
              "    </tr>\n",
              "  </thead>\n",
              "  <tbody>\n",
              "    <tr>\n",
              "      <th>32220</th>\n",
              "      <td>17462638</td>\n",
              "      <td>Brooklyn</td>\n",
              "      <td>Bushwick</td>\n",
              "      <td>40.705</td>\n",
              "      <td>-73.91933</td>\n",
              "      <td>1</td>\n",
              "      <td>moderate</td>\n",
              "      <td>Private room</td>\n",
              "      <td>2004.0</td>\n",
              "      <td>-611.0</td>\n",
              "      <td>122000.0</td>\n",
              "      <td>14.0</td>\n",
              "      <td>0.0</td>\n",
              "      <td>0.0</td>\n",
              "      <td>4.0</td>\n",
              "    </tr>\n",
              "  </tbody>\n",
              "</table>\n",
              "</div>\n",
              "      <button class=\"colab-df-convert\" onclick=\"convertToInteractive('df-3c2da975-e8fe-4c91-8d1b-70dd65ff0744')\"\n",
              "              title=\"Convert this dataframe to an interactive table.\"\n",
              "              style=\"display:none;\">\n",
              "        \n",
              "  <svg xmlns=\"http://www.w3.org/2000/svg\" height=\"24px\"viewBox=\"0 0 24 24\"\n",
              "       width=\"24px\">\n",
              "    <path d=\"M0 0h24v24H0V0z\" fill=\"none\"/>\n",
              "    <path d=\"M18.56 5.44l.94 2.06.94-2.06 2.06-.94-2.06-.94-.94-2.06-.94 2.06-2.06.94zm-11 1L8.5 8.5l.94-2.06 2.06-.94-2.06-.94L8.5 2.5l-.94 2.06-2.06.94zm10 10l.94 2.06.94-2.06 2.06-.94-2.06-.94-.94-2.06-.94 2.06-2.06.94z\"/><path d=\"M17.41 7.96l-1.37-1.37c-.4-.4-.92-.59-1.43-.59-.52 0-1.04.2-1.43.59L10.3 9.45l-7.72 7.72c-.78.78-.78 2.05 0 2.83L4 21.41c.39.39.9.59 1.41.59.51 0 1.02-.2 1.41-.59l7.78-7.78 2.81-2.81c.8-.78.8-2.07 0-2.86zM5.41 20L4 18.59l7.72-7.72 1.47 1.35L5.41 20z\"/>\n",
              "  </svg>\n",
              "      </button>\n",
              "      \n",
              "  <style>\n",
              "    .colab-df-container {\n",
              "      display:flex;\n",
              "      flex-wrap:wrap;\n",
              "      gap: 12px;\n",
              "    }\n",
              "\n",
              "    .colab-df-convert {\n",
              "      background-color: #E8F0FE;\n",
              "      border: none;\n",
              "      border-radius: 50%;\n",
              "      cursor: pointer;\n",
              "      display: none;\n",
              "      fill: #1967D2;\n",
              "      height: 32px;\n",
              "      padding: 0 0 0 0;\n",
              "      width: 32px;\n",
              "    }\n",
              "\n",
              "    .colab-df-convert:hover {\n",
              "      background-color: #E2EBFA;\n",
              "      box-shadow: 0px 1px 2px rgba(60, 64, 67, 0.3), 0px 1px 3px 1px rgba(60, 64, 67, 0.15);\n",
              "      fill: #174EA6;\n",
              "    }\n",
              "\n",
              "    [theme=dark] .colab-df-convert {\n",
              "      background-color: #3B4455;\n",
              "      fill: #D2E3FC;\n",
              "    }\n",
              "\n",
              "    [theme=dark] .colab-df-convert:hover {\n",
              "      background-color: #434B5C;\n",
              "      box-shadow: 0px 1px 3px 1px rgba(0, 0, 0, 0.15);\n",
              "      filter: drop-shadow(0px 1px 2px rgba(0, 0, 0, 0.3));\n",
              "      fill: #FFFFFF;\n",
              "    }\n",
              "  </style>\n",
              "\n",
              "      <script>\n",
              "        const buttonEl =\n",
              "          document.querySelector('#df-3c2da975-e8fe-4c91-8d1b-70dd65ff0744 button.colab-df-convert');\n",
              "        buttonEl.style.display =\n",
              "          google.colab.kernel.accessAllowed ? 'block' : 'none';\n",
              "\n",
              "        async function convertToInteractive(key) {\n",
              "          const element = document.querySelector('#df-3c2da975-e8fe-4c91-8d1b-70dd65ff0744');\n",
              "          const dataTable =\n",
              "            await google.colab.kernel.invokeFunction('convertToInteractive',\n",
              "                                                     [key], {});\n",
              "          if (!dataTable) return;\n",
              "\n",
              "          const docLinkHtml = 'Like what you see? Visit the ' +\n",
              "            '<a target=\"_blank\" href=https://colab.research.google.com/notebooks/data_table.ipynb>data table notebook</a>'\n",
              "            + ' to learn more about interactive tables.';\n",
              "          element.innerHTML = '';\n",
              "          dataTable['output_type'] = 'display_data';\n",
              "          await google.colab.output.renderOutput(dataTable, element);\n",
              "          const docLink = document.createElement('div');\n",
              "          docLink.innerHTML = docLinkHtml;\n",
              "          element.appendChild(docLink);\n",
              "        }\n",
              "      </script>\n",
              "    </div>\n",
              "  </div>\n",
              "  "
            ]
          },
          "metadata": {},
          "execution_count": 16
        }
      ]
    },
    {
      "cell_type": "code",
      "source": [
        "# Se corrigen los registros de \"price\" asumiendo que hubo un error en la digitación\n",
        "df.loc[df['price'] < 0, 'price'] = 611\n",
        "# No lo hago en df_new_tmp debido a que no hay registros con este error\n",
        "\n",
        "sns.displot(df['price'], bins=50)"
      ],
      "metadata": {
        "colab": {
          "base_uri": "https://localhost:8080/",
          "height": 387
        },
        "id": "525Nu6uHWR9A",
        "outputId": "2a17abfa-fe4a-40bf-c0eb-da440d343d12"
      },
      "execution_count": 17,
      "outputs": [
        {
          "output_type": "execute_result",
          "data": {
            "text/plain": [
              "<seaborn.axisgrid.FacetGrid at 0x7fb8cea1d550>"
            ]
          },
          "metadata": {},
          "execution_count": 17
        },
        {
          "output_type": "display_data",
          "data": {
            "text/plain": [
              "<Figure size 360x360 with 1 Axes>"
            ],
            "image/png": "[encoded data removed]"
          },
          "metadata": {
            "needs_background": "light"
          }
        }
      ]
    },
    {
      "cell_type": "code",
      "source": [
        "# Antes de completar los valores nulos verifico la distribución \"service fee\"\n",
        "sns.displot(df['service fee'], bins=50)"
      ],
      "metadata": {
        "colab": {
          "base_uri": "https://localhost:8080/",
          "height": 387
        },
        "id": "TiCC_YUaW9AZ",
        "outputId": "8a8b5b93-5c85-4e89-84b4-7bfd2be46781"
      },
      "execution_count": 18,
      "outputs": [
        {
          "output_type": "execute_result",
          "data": {
            "text/plain": [
              "<seaborn.axisgrid.FacetGrid at 0x7fb8d18a3d10>"
            ]
          },
          "metadata": {},
          "execution_count": 18
        },
        {
          "output_type": "display_data",
          "data": {
            "text/plain": [
              "<Figure size 360x360 with 1 Axes>"
            ],
            "image/png": "[encoded data removed]"
          },
          "metadata": {
            "needs_background": "light"
          }
        }
      ]
    },
    {
      "cell_type": "markdown",
      "source": [
        "Hay valores de 'service fee' muy por encima del promedio."
      ],
      "metadata": {
        "id": "IQ7_B1PgXCZt"
      }
    },
    {
      "cell_type": "code",
      "source": [
        "df[df['service fee'] > 20000]"
      ],
      "metadata": {
        "colab": {
          "base_uri": "https://localhost:8080/",
          "height": 177
        },
        "id": "2I_ODz3MXItI",
        "outputId": "6b24b675-a23d-44a5-e0b4-1112ecd09cfc"
      },
      "execution_count": 19,
      "outputs": [
        {
          "output_type": "execute_result",
          "data": {
            "text/plain": [
              "             id neighbourhood group neighbourhood     lat      long  \\\n",
              "32220  17462638            Brooklyn      Bushwick  40.705 -73.91933   \n",
              "\n",
              "       instant_bookable cancellation_policy     room type  construction year  \\\n",
              "32220                 1            moderate  Private room             2004.0   \n",
              "\n",
              "       price  service fee  minimum nights  availability 365  \\\n",
              "32220  611.0     122000.0            14.0               0.0   \n",
              "\n",
              "       number of reviews  review rate number  \n",
              "32220                0.0                 4.0  "
            ],
            "text/html": [
              "\n",
              "  <div id=\"df-39be3355-4738-4f36-aa73-44b381537644\">\n",
              "    <div class=\"colab-df-container\">\n",
              "      <div>\n",
              "<style scoped>\n",
              "    .dataframe tbody tr th:only-of-type {\n",
              "        vertical-align: middle;\n",
              "    }\n",
              "\n",
              "    .dataframe tbody tr th {\n",
              "        vertical-align: top;\n",
              "    }\n",
              "\n",
              "    .dataframe thead th {\n",
              "        text-align: right;\n",
              "    }\n",
              "</style>\n",
              "<table border=\"1\" class=\"dataframe\">\n",
              "  <thead>\n",
              "    <tr style=\"text-align: right;\">\n",
              "      <th></th>\n",
              "      <th>id</th>\n",
              "      <th>neighbourhood group</th>\n",
              "      <th>neighbourhood</th>\n",
              "      <th>lat</th>\n",
              "      <th>long</th>\n",
              "      <th>instant_bookable</th>\n",
              "      <th>cancellation_policy</th>\n",
              "      <th>room type</th>\n",
              "      <th>construction year</th>\n",
              "      <th>price</th>\n",
              "      <th>service fee</th>\n",
              "      <th>minimum nights</th>\n",
              "      <th>availability 365</th>\n",
              "      <th>number of reviews</th>\n",
              "      <th>review rate number</th>\n",
              "    </tr>\n",
              "  </thead>\n",
              "  <tbody>\n",
              "    <tr>\n",
              "      <th>32220</th>\n",
              "      <td>17462638</td>\n",
              "      <td>Brooklyn</td>\n",
              "      <td>Bushwick</td>\n",
              "      <td>40.705</td>\n",
              "      <td>-73.91933</td>\n",
              "      <td>1</td>\n",
              "      <td>moderate</td>\n",
              "      <td>Private room</td>\n",
              "      <td>2004.0</td>\n",
              "      <td>611.0</td>\n",
              "      <td>122000.0</td>\n",
              "      <td>14.0</td>\n",
              "      <td>0.0</td>\n",
              "      <td>0.0</td>\n",
              "      <td>4.0</td>\n",
              "    </tr>\n",
              "  </tbody>\n",
              "</table>\n",
              "</div>\n",
              "      <button class=\"colab-df-convert\" onclick=\"convertToInteractive('df-39be3355-4738-4f36-aa73-44b381537644')\"\n",
              "              title=\"Convert this dataframe to an interactive table.\"\n",
              "              style=\"display:none;\">\n",
              "        \n",
              "  <svg xmlns=\"http://www.w3.org/2000/svg\" height=\"24px\"viewBox=\"0 0 24 24\"\n",
              "       width=\"24px\">\n",
              "    <path d=\"M0 0h24v24H0V0z\" fill=\"none\"/>\n",
              "    <path d=\"M18.56 5.44l.94 2.06.94-2.06 2.06-.94-2.06-.94-.94-2.06-.94 2.06-2.06.94zm-11 1L8.5 8.5l.94-2.06 2.06-.94-2.06-.94L8.5 2.5l-.94 2.06-2.06.94zm10 10l.94 2.06.94-2.06 2.06-.94-2.06-.94-.94-2.06-.94 2.06-2.06.94z\"/><path d=\"M17.41 7.96l-1.37-1.37c-.4-.4-.92-.59-1.43-.59-.52 0-1.04.2-1.43.59L10.3 9.45l-7.72 7.72c-.78.78-.78 2.05 0 2.83L4 21.41c.39.39.9.59 1.41.59.51 0 1.02-.2 1.41-.59l7.78-7.78 2.81-2.81c.8-.78.8-2.07 0-2.86zM5.41 20L4 18.59l7.72-7.72 1.47 1.35L5.41 20z\"/>\n",
              "  </svg>\n",
              "      </button>\n",
              "      \n",
              "  <style>\n",
              "    .colab-df-container {\n",
              "      display:flex;\n",
              "      flex-wrap:wrap;\n",
              "      gap: 12px;\n",
              "    }\n",
              "\n",
              "    .colab-df-convert {\n",
              "      background-color: #E8F0FE;\n",
              "      border: none;\n",
              "      border-radius: 50%;\n",
              "      cursor: pointer;\n",
              "      display: none;\n",
              "      fill: #1967D2;\n",
              "      height: 32px;\n",
              "      padding: 0 0 0 0;\n",
              "      width: 32px;\n",
              "    }\n",
              "\n",
              "    .colab-df-convert:hover {\n",
              "      background-color: #E2EBFA;\n",
              "      box-shadow: 0px 1px 2px rgba(60, 64, 67, 0.3), 0px 1px 3px 1px rgba(60, 64, 67, 0.15);\n",
              "      fill: #174EA6;\n",
              "    }\n",
              "\n",
              "    [theme=dark] .colab-df-convert {\n",
              "      background-color: #3B4455;\n",
              "      fill: #D2E3FC;\n",
              "    }\n",
              "\n",
              "    [theme=dark] .colab-df-convert:hover {\n",
              "      background-color: #434B5C;\n",
              "      box-shadow: 0px 1px 3px 1px rgba(0, 0, 0, 0.15);\n",
              "      filter: drop-shadow(0px 1px 2px rgba(0, 0, 0, 0.3));\n",
              "      fill: #FFFFFF;\n",
              "    }\n",
              "  </style>\n",
              "\n",
              "      <script>\n",
              "        const buttonEl =\n",
              "          document.querySelector('#df-39be3355-4738-4f36-aa73-44b381537644 button.colab-df-convert');\n",
              "        buttonEl.style.display =\n",
              "          google.colab.kernel.accessAllowed ? 'block' : 'none';\n",
              "\n",
              "        async function convertToInteractive(key) {\n",
              "          const element = document.querySelector('#df-39be3355-4738-4f36-aa73-44b381537644');\n",
              "          const dataTable =\n",
              "            await google.colab.kernel.invokeFunction('convertToInteractive',\n",
              "                                                     [key], {});\n",
              "          if (!dataTable) return;\n",
              "\n",
              "          const docLinkHtml = 'Like what you see? Visit the ' +\n",
              "            '<a target=\"_blank\" href=https://colab.research.google.com/notebooks/data_table.ipynb>data table notebook</a>'\n",
              "            + ' to learn more about interactive tables.';\n",
              "          element.innerHTML = '';\n",
              "          dataTable['output_type'] = 'display_data';\n",
              "          await google.colab.output.renderOutput(dataTable, element);\n",
              "          const docLink = document.createElement('div');\n",
              "          docLink.innerHTML = docLinkHtml;\n",
              "          element.appendChild(docLink);\n",
              "        }\n",
              "      </script>\n",
              "    </div>\n",
              "  </div>\n",
              "  "
            ]
          },
          "metadata": {},
          "execution_count": 19
        }
      ]
    },
    {
      "cell_type": "code",
      "source": [
        "# Se corrigen los registros de \"service fee\" asumiendo que hubo un error en la digitación\n",
        "df.loc[df['service fee'] > 20000, 'service fee'] = 122\n",
        "# No lo hago en df_new_tmp debido a que no hay registros con este error\n",
        "\n",
        "sns.displot(df['service fee'], bins=50)"
      ],
      "metadata": {
        "colab": {
          "base_uri": "https://localhost:8080/",
          "height": 387
        },
        "id": "WbCLoaQaXNrr",
        "outputId": "d3afa040-7cad-4875-c0b5-6ad7668d941d"
      },
      "execution_count": 20,
      "outputs": [
        {
          "output_type": "execute_result",
          "data": {
            "text/plain": [
              "<seaborn.axisgrid.FacetGrid at 0x7fb8ddeb1f50>"
            ]
          },
          "metadata": {},
          "execution_count": 20
        },
        {
          "output_type": "display_data",
          "data": {
            "text/plain": [
              "<Figure size 360x360 with 1 Axes>"
            ],
            "image/png": "[encoded data removed]"
          },
          "metadata": {
            "needs_background": "light"
          }
        }
      ]
    },
    {
      "cell_type": "markdown",
      "source": [
        "Se puede observar ahora que hay valores negativos."
      ],
      "metadata": {
        "id": "kOfBKhCzXz2m"
      }
    },
    {
      "cell_type": "code",
      "source": [
        "df[df['service fee'] < 0]"
      ],
      "metadata": {
        "colab": {
          "base_uri": "https://localhost:8080/",
          "height": 177
        },
        "id": "a3rY9bK2X121",
        "outputId": "aa8e543b-3bd9-408e-96e3-b1570f6d8cda"
      },
      "execution_count": 21,
      "outputs": [
        {
          "output_type": "execute_result",
          "data": {
            "text/plain": [
              "             id neighbourhood group       neighbourhood      lat      long  \\\n",
              "49631  17773030            Brooklyn  Bedford-Stuyvesant  40.6878 -73.93915   \n",
              "\n",
              "       instant_bookable cancellation_policy     room type  construction year  \\\n",
              "49631                 0            moderate  Private room             2016.0   \n",
              "\n",
              "       price  service fee  minimum nights  availability 365  \\\n",
              "49631  964.0       -193.0             3.0              89.0   \n",
              "\n",
              "       number of reviews  review rate number  \n",
              "49631                3.0                 4.0  "
            ],
            "text/html": [
              "\n",
              "  <div id=\"df-b60b1f55-cbea-43d5-a89e-2de1add68daa\">\n",
              "    <div class=\"colab-df-container\">\n",
              "      <div>\n",
              "<style scoped>\n",
              "    .dataframe tbody tr th:only-of-type {\n",
              "        vertical-align: middle;\n",
              "    }\n",
              "\n",
              "    .dataframe tbody tr th {\n",
              "        vertical-align: top;\n",
              "    }\n",
              "\n",
              "    .dataframe thead th {\n",
              "        text-align: right;\n",
              "    }\n",
              "</style>\n",
              "<table border=\"1\" class=\"dataframe\">\n",
              "  <thead>\n",
              "    <tr style=\"text-align: right;\">\n",
              "      <th></th>\n",
              "      <th>id</th>\n",
              "      <th>neighbourhood group</th>\n",
              "      <th>neighbourhood</th>\n",
              "      <th>lat</th>\n",
              "      <th>long</th>\n",
              "      <th>instant_bookable</th>\n",
              "      <th>cancellation_policy</th>\n",
              "      <th>room type</th>\n",
              "      <th>construction year</th>\n",
              "      <th>price</th>\n",
              "      <th>service fee</th>\n",
              "      <th>minimum nights</th>\n",
              "      <th>availability 365</th>\n",
              "      <th>number of reviews</th>\n",
              "      <th>review rate number</th>\n",
              "    </tr>\n",
              "  </thead>\n",
              "  <tbody>\n",
              "    <tr>\n",
              "      <th>49631</th>\n",
              "      <td>17773030</td>\n",
              "      <td>Brooklyn</td>\n",
              "      <td>Bedford-Stuyvesant</td>\n",
              "      <td>40.6878</td>\n",
              "      <td>-73.93915</td>\n",
              "      <td>0</td>\n",
              "      <td>moderate</td>\n",
              "      <td>Private room</td>\n",
              "      <td>2016.0</td>\n",
              "      <td>964.0</td>\n",
              "      <td>-193.0</td>\n",
              "      <td>3.0</td>\n",
              "      <td>89.0</td>\n",
              "      <td>3.0</td>\n",
              "      <td>4.0</td>\n",
              "    </tr>\n",
              "  </tbody>\n",
              "</table>\n",
              "</div>\n",
              "      <button class=\"colab-df-convert\" onclick=\"convertToInteractive('df-b60b1f55-cbea-43d5-a89e-2de1add68daa')\"\n",
              "              title=\"Convert this dataframe to an interactive table.\"\n",
              "              style=\"display:none;\">\n",
              "        \n",
              "  <svg xmlns=\"http://www.w3.org/2000/svg\" height=\"24px\"viewBox=\"0 0 24 24\"\n",
              "       width=\"24px\">\n",
              "    <path d=\"M0 0h24v24H0V0z\" fill=\"none\"/>\n",
              "    <path d=\"M18.56 5.44l.94 2.06.94-2.06 2.06-.94-2.06-.94-.94-2.06-.94 2.06-2.06.94zm-11 1L8.5 8.5l.94-2.06 2.06-.94-2.06-.94L8.5 2.5l-.94 2.06-2.06.94zm10 10l.94 2.06.94-2.06 2.06-.94-2.06-.94-.94-2.06-.94 2.06-2.06.94z\"/><path d=\"M17.41 7.96l-1.37-1.37c-.4-.4-.92-.59-1.43-.59-.52 0-1.04.2-1.43.59L10.3 9.45l-7.72 7.72c-.78.78-.78 2.05 0 2.83L4 21.41c.39.39.9.59 1.41.59.51 0 1.02-.2 1.41-.59l7.78-7.78 2.81-2.81c.8-.78.8-2.07 0-2.86zM5.41 20L4 18.59l7.72-7.72 1.47 1.35L5.41 20z\"/>\n",
              "  </svg>\n",
              "      </button>\n",
              "      \n",
              "  <style>\n",
              "    .colab-df-container {\n",
              "      display:flex;\n",
              "      flex-wrap:wrap;\n",
              "      gap: 12px;\n",
              "    }\n",
              "\n",
              "    .colab-df-convert {\n",
              "      background-color: #E8F0FE;\n",
              "      border: none;\n",
              "      border-radius: 50%;\n",
              "      cursor: pointer;\n",
              "      display: none;\n",
              "      fill: #1967D2;\n",
              "      height: 32px;\n",
              "      padding: 0 0 0 0;\n",
              "      width: 32px;\n",
              "    }\n",
              "\n",
              "    .colab-df-convert:hover {\n",
              "      background-color: #E2EBFA;\n",
              "      box-shadow: 0px 1px 2px rgba(60, 64, 67, 0.3), 0px 1px 3px 1px rgba(60, 64, 67, 0.15);\n",
              "      fill: #174EA6;\n",
              "    }\n",
              "\n",
              "    [theme=dark] .colab-df-convert {\n",
              "      background-color: #3B4455;\n",
              "      fill: #D2E3FC;\n",
              "    }\n",
              "\n",
              "    [theme=dark] .colab-df-convert:hover {\n",
              "      background-color: #434B5C;\n",
              "      box-shadow: 0px 1px 3px 1px rgba(0, 0, 0, 0.15);\n",
              "      filter: drop-shadow(0px 1px 2px rgba(0, 0, 0, 0.3));\n",
              "      fill: #FFFFFF;\n",
              "    }\n",
              "  </style>\n",
              "\n",
              "      <script>\n",
              "        const buttonEl =\n",
              "          document.querySelector('#df-b60b1f55-cbea-43d5-a89e-2de1add68daa button.colab-df-convert');\n",
              "        buttonEl.style.display =\n",
              "          google.colab.kernel.accessAllowed ? 'block' : 'none';\n",
              "\n",
              "        async function convertToInteractive(key) {\n",
              "          const element = document.querySelector('#df-b60b1f55-cbea-43d5-a89e-2de1add68daa');\n",
              "          const dataTable =\n",
              "            await google.colab.kernel.invokeFunction('convertToInteractive',\n",
              "                                                     [key], {});\n",
              "          if (!dataTable) return;\n",
              "\n",
              "          const docLinkHtml = 'Like what you see? Visit the ' +\n",
              "            '<a target=\"_blank\" href=https://colab.research.google.com/notebooks/data_table.ipynb>data table notebook</a>'\n",
              "            + ' to learn more about interactive tables.';\n",
              "          element.innerHTML = '';\n",
              "          dataTable['output_type'] = 'display_data';\n",
              "          await google.colab.output.renderOutput(dataTable, element);\n",
              "          const docLink = document.createElement('div');\n",
              "          docLink.innerHTML = docLinkHtml;\n",
              "          element.appendChild(docLink);\n",
              "        }\n",
              "      </script>\n",
              "    </div>\n",
              "  </div>\n",
              "  "
            ]
          },
          "metadata": {},
          "execution_count": 21
        }
      ]
    },
    {
      "cell_type": "code",
      "source": [
        "# Se corrigen los registros de \"service fee\" asumiendo que hubo un error en la digitación\n",
        "df.loc[df['service fee'] < 0, 'service fee'] = 193\n",
        "# No lo hago en df_new_tmp debido a que no hay registros con este error\n",
        "\n",
        "sns.displot(df['service fee'], bins=50)"
      ],
      "metadata": {
        "colab": {
          "base_uri": "https://localhost:8080/",
          "height": 387
        },
        "id": "Y9mu_ByoX6H_",
        "outputId": "91820607-4555-4f6d-94cb-63411ec01942"
      },
      "execution_count": 22,
      "outputs": [
        {
          "output_type": "execute_result",
          "data": {
            "text/plain": [
              "<seaborn.axisgrid.FacetGrid at 0x7fb8cea65b90>"
            ]
          },
          "metadata": {},
          "execution_count": 22
        },
        {
          "output_type": "display_data",
          "data": {
            "text/plain": [
              "<Figure size 360x360 with 1 Axes>"
            ],
            "image/png": "[encoded data removed]"
          },
          "metadata": {
            "needs_background": "light"
          }
        }
      ]
    },
    {
      "cell_type": "code",
      "source": [
        "# Ahora si, completo los valores nulos con la media de la columna\n",
        "df.fillna(value={'price': np.nanmean(df['price'], axis=0),\n",
        "                 'service fee': np.nanmean(df['service fee'], axis=0)}, inplace=True)\n",
        "df_new_tmp.fillna(value={'price': np.nanmean(df['price'], axis=0),\n",
        "                         'service fee': np.nanmean(df['service fee'], axis=0)}, inplace=True)\n",
        "\n",
        "# Verifico ahora los tipos de dato de \"price\" y \"service fee\", deben ser float64 \n",
        "df.dtypes"
      ],
      "metadata": {
        "colab": {
          "base_uri": "https://localhost:8080/"
        },
        "id": "QG-w9C0VUDac",
        "outputId": "69134243-78b3-43bf-c6bb-df174ca872e5"
      },
      "execution_count": 23,
      "outputs": [
        {
          "output_type": "execute_result",
          "data": {
            "text/plain": [
              "id                       int64\n",
              "neighbourhood group     object\n",
              "neighbourhood           object\n",
              "lat                    float64\n",
              "long                   float64\n",
              "instant_bookable         int64\n",
              "cancellation_policy     object\n",
              "room type               object\n",
              "construction year      float64\n",
              "price                  float64\n",
              "service fee            float64\n",
              "minimum nights         float64\n",
              "availability 365       float64\n",
              "number of reviews      float64\n",
              "review rate number     float64\n",
              "dtype: object"
            ]
          },
          "metadata": {},
          "execution_count": 23
        }
      ]
    },
    {
      "cell_type": "code",
      "source": [
        "# 5. Llenar las columnas \"minimum nights\" y \"availability 365\" con la media de estas columnas\n",
        "df.fillna(value={'minimum nights': np.nanmean(df['minimum nights'], axis=0),\n",
        "                 'availability 365': np.nanmean(df['availability 365'], axis=0)}, inplace=True)\n",
        "df_new_tmp.fillna(value={'minimum nights': np.nanmean(df['minimum nights'], axis=0),\n",
        "                         'availability 365': np.nanmean(df['availability 365'], axis=0)}, inplace=True)"
      ],
      "metadata": {
        "id": "-TlERrDU9DE7"
      },
      "execution_count": 24,
      "outputs": []
    },
    {
      "cell_type": "code",
      "source": [
        "# 6. Eliminar la columna \"review rate number\"\n",
        "df.drop('review rate number', axis=1, inplace=True)\n",
        "\n",
        "# Verifico la cantidad de columnas, deberían ser 14 ahora\n",
        "df.shape"
      ],
      "metadata": {
        "colab": {
          "base_uri": "https://localhost:8080/"
        },
        "id": "53ogWXqSzNpi",
        "outputId": "f8bfa3d7-7527-4532-9503-68f2978ac830"
      },
      "execution_count": 25,
      "outputs": [
        {
          "output_type": "execute_result",
          "data": {
            "text/plain": [
              "(102083, 14)"
            ]
          },
          "metadata": {},
          "execution_count": 25
        }
      ]
    },
    {
      "cell_type": "code",
      "source": [
        "# 7. Eliminar los inmuebles duplicados\n",
        "\n",
        "# Busco los duplicados por \"id\" e imprimo algunos ejemplos\n",
        "duplicates_by_id = df.loc[df['id'].duplicated(keep = False)]\n",
        "duplicates_by_id[duplicates_by_id['id'].isin([35533894, 35578630, 6069793])].sort_values('id', ascending=False).head(10)"
      ],
      "metadata": {
        "colab": {
          "base_uri": "https://localhost:8080/",
          "height": 420
        },
        "id": "i7CSsM-PdCha",
        "outputId": "b72548ab-6505-4667-bcd2-93d816a70868"
      },
      "execution_count": 26,
      "outputs": [
        {
          "output_type": "execute_result",
          "data": {
            "text/plain": [
              "             id neighbourhood group neighbourhood       lat      long  \\\n",
              "424    35578630              Queens       Jamaica  40.69091 -73.79589   \n",
              "43816  35578630              Queens       Jamaica  40.69091 -73.79589   \n",
              "236    35533894           Manhattan       Chelsea  40.74491 -74.00162   \n",
              "21112  35533894           Manhattan       Chelsea  40.74491 -74.00162   \n",
              "443     6069793            Brooklyn      Canarsie  40.64574 -73.90781   \n",
              "78605   6069793            Brooklyn      Canarsie  40.64574 -73.90781   \n",
              "\n",
              "       instant_bookable cancellation_policy        room type  \\\n",
              "424                   0            moderate     Private room   \n",
              "43816                 0            moderate     Private room   \n",
              "236                   1            flexible  Entire home/apt   \n",
              "21112                 1            flexible  Entire home/apt   \n",
              "443                   0            flexible  Entire home/apt   \n",
              "78605                 0            flexible  Entire home/apt   \n",
              "\n",
              "       construction year   price  service fee  minimum nights  \\\n",
              "424               2006.0    1.09        218.0            14.0   \n",
              "43816             2006.0    1.09        218.0            14.0   \n",
              "236               2008.0  112.00         22.0            30.0   \n",
              "21112             2008.0  112.00         22.0            30.0   \n",
              "443               2004.0  203.00         41.0             7.0   \n",
              "78605             2004.0  203.00         41.0             7.0   \n",
              "\n",
              "       availability 365  number of reviews  \n",
              "424               159.0                9.0  \n",
              "43816             159.0                9.0  \n",
              "236               207.0               45.0  \n",
              "21112             207.0               45.0  \n",
              "443                95.0                0.0  \n",
              "78605              95.0                0.0  "
            ],
            "text/html": [
              "\n",
              "  <div id=\"df-c575a9ca-81ee-4007-b278-2ed1290c8e38\">\n",
              "    <div class=\"colab-df-container\">\n",
              "      <div>\n",
              "<style scoped>\n",
              "    .dataframe tbody tr th:only-of-type {\n",
              "        vertical-align: middle;\n",
              "    }\n",
              "\n",
              "    .dataframe tbody tr th {\n",
              "        vertical-align: top;\n",
              "    }\n",
              "\n",
              "    .dataframe thead th {\n",
              "        text-align: right;\n",
              "    }\n",
              "</style>\n",
              "<table border=\"1\" class=\"dataframe\">\n",
              "  <thead>\n",
              "    <tr style=\"text-align: right;\">\n",
              "      <th></th>\n",
              "      <th>id</th>\n",
              "      <th>neighbourhood group</th>\n",
              "      <th>neighbourhood</th>\n",
              "      <th>lat</th>\n",
              "      <th>long</th>\n",
              "      <th>instant_bookable</th>\n",
              "      <th>cancellation_policy</th>\n",
              "      <th>room type</th>\n",
              "      <th>construction year</th>\n",
              "      <th>price</th>\n",
              "      <th>service fee</th>\n",
              "      <th>minimum nights</th>\n",
              "      <th>availability 365</th>\n",
              "      <th>number of reviews</th>\n",
              "    </tr>\n",
              "  </thead>\n",
              "  <tbody>\n",
              "    <tr>\n",
              "      <th>424</th>\n",
              "      <td>35578630</td>\n",
              "      <td>Queens</td>\n",
              "      <td>Jamaica</td>\n",
              "      <td>40.69091</td>\n",
              "      <td>-73.79589</td>\n",
              "      <td>0</td>\n",
              "      <td>moderate</td>\n",
              "      <td>Private room</td>\n",
              "      <td>2006.0</td>\n",
              "      <td>1.09</td>\n",
              "      <td>218.0</td>\n",
              "      <td>14.0</td>\n",
              "      <td>159.0</td>\n",
              "      <td>9.0</td>\n",
              "    </tr>\n",
              "    <tr>\n",
              "      <th>43816</th>\n",
              "      <td>35578630</td>\n",
              "      <td>Queens</td>\n",
              "      <td>Jamaica</td>\n",
              "      <td>40.69091</td>\n",
              "      <td>-73.79589</td>\n",
              "      <td>0</td>\n",
              "      <td>moderate</td>\n",
              "      <td>Private room</td>\n",
              "      <td>2006.0</td>\n",
              "      <td>1.09</td>\n",
              "      <td>218.0</td>\n",
              "      <td>14.0</td>\n",
              "      <td>159.0</td>\n",
              "      <td>9.0</td>\n",
              "    </tr>\n",
              "    <tr>\n",
              "      <th>236</th>\n",
              "      <td>35533894</td>\n",
              "      <td>Manhattan</td>\n",
              "      <td>Chelsea</td>\n",
              "      <td>40.74491</td>\n",
              "      <td>-74.00162</td>\n",
              "      <td>1</td>\n",
              "      <td>flexible</td>\n",
              "      <td>Entire home/apt</td>\n",
              "      <td>2008.0</td>\n",
              "      <td>112.00</td>\n",
              "      <td>22.0</td>\n",
              "      <td>30.0</td>\n",
              "      <td>207.0</td>\n",
              "      <td>45.0</td>\n",
              "    </tr>\n",
              "    <tr>\n",
              "      <th>21112</th>\n",
              "      <td>35533894</td>\n",
              "      <td>Manhattan</td>\n",
              "      <td>Chelsea</td>\n",
              "      <td>40.74491</td>\n",
              "      <td>-74.00162</td>\n",
              "      <td>1</td>\n",
              "      <td>flexible</td>\n",
              "      <td>Entire home/apt</td>\n",
              "      <td>2008.0</td>\n",
              "      <td>112.00</td>\n",
              "      <td>22.0</td>\n",
              "      <td>30.0</td>\n",
              "      <td>207.0</td>\n",
              "      <td>45.0</td>\n",
              "    </tr>\n",
              "    <tr>\n",
              "      <th>443</th>\n",
              "      <td>6069793</td>\n",
              "      <td>Brooklyn</td>\n",
              "      <td>Canarsie</td>\n",
              "      <td>40.64574</td>\n",
              "      <td>-73.90781</td>\n",
              "      <td>0</td>\n",
              "      <td>flexible</td>\n",
              "      <td>Entire home/apt</td>\n",
              "      <td>2004.0</td>\n",
              "      <td>203.00</td>\n",
              "      <td>41.0</td>\n",
              "      <td>7.0</td>\n",
              "      <td>95.0</td>\n",
              "      <td>0.0</td>\n",
              "    </tr>\n",
              "    <tr>\n",
              "      <th>78605</th>\n",
              "      <td>6069793</td>\n",
              "      <td>Brooklyn</td>\n",
              "      <td>Canarsie</td>\n",
              "      <td>40.64574</td>\n",
              "      <td>-73.90781</td>\n",
              "      <td>0</td>\n",
              "      <td>flexible</td>\n",
              "      <td>Entire home/apt</td>\n",
              "      <td>2004.0</td>\n",
              "      <td>203.00</td>\n",
              "      <td>41.0</td>\n",
              "      <td>7.0</td>\n",
              "      <td>95.0</td>\n",
              "      <td>0.0</td>\n",
              "    </tr>\n",
              "  </tbody>\n",
              "</table>\n",
              "</div>\n",
              "      <button class=\"colab-df-convert\" onclick=\"convertToInteractive('df-c575a9ca-81ee-4007-b278-2ed1290c8e38')\"\n",
              "              title=\"Convert this dataframe to an interactive table.\"\n",
              "              style=\"display:none;\">\n",
              "        \n",
              "  <svg xmlns=\"http://www.w3.org/2000/svg\" height=\"24px\"viewBox=\"0 0 24 24\"\n",
              "       width=\"24px\">\n",
              "    <path d=\"M0 0h24v24H0V0z\" fill=\"none\"/>\n",
              "    <path d=\"M18.56 5.44l.94 2.06.94-2.06 2.06-.94-2.06-.94-.94-2.06-.94 2.06-2.06.94zm-11 1L8.5 8.5l.94-2.06 2.06-.94-2.06-.94L8.5 2.5l-.94 2.06-2.06.94zm10 10l.94 2.06.94-2.06 2.06-.94-2.06-.94-.94-2.06-.94 2.06-2.06.94z\"/><path d=\"M17.41 7.96l-1.37-1.37c-.4-.4-.92-.59-1.43-.59-.52 0-1.04.2-1.43.59L10.3 9.45l-7.72 7.72c-.78.78-.78 2.05 0 2.83L4 21.41c.39.39.9.59 1.41.59.51 0 1.02-.2 1.41-.59l7.78-7.78 2.81-2.81c.8-.78.8-2.07 0-2.86zM5.41 20L4 18.59l7.72-7.72 1.47 1.35L5.41 20z\"/>\n",
              "  </svg>\n",
              "      </button>\n",
              "      \n",
              "  <style>\n",
              "    .colab-df-container {\n",
              "      display:flex;\n",
              "      flex-wrap:wrap;\n",
              "      gap: 12px;\n",
              "    }\n",
              "\n",
              "    .colab-df-convert {\n",
              "      background-color: #E8F0FE;\n",
              "      border: none;\n",
              "      border-radius: 50%;\n",
              "      cursor: pointer;\n",
              "      display: none;\n",
              "      fill: #1967D2;\n",
              "      height: 32px;\n",
              "      padding: 0 0 0 0;\n",
              "      width: 32px;\n",
              "    }\n",
              "\n",
              "    .colab-df-convert:hover {\n",
              "      background-color: #E2EBFA;\n",
              "      box-shadow: 0px 1px 2px rgba(60, 64, 67, 0.3), 0px 1px 3px 1px rgba(60, 64, 67, 0.15);\n",
              "      fill: #174EA6;\n",
              "    }\n",
              "\n",
              "    [theme=dark] .colab-df-convert {\n",
              "      background-color: #3B4455;\n",
              "      fill: #D2E3FC;\n",
              "    }\n",
              "\n",
              "    [theme=dark] .colab-df-convert:hover {\n",
              "      background-color: #434B5C;\n",
              "      box-shadow: 0px 1px 3px 1px rgba(0, 0, 0, 0.15);\n",
              "      filter: drop-shadow(0px 1px 2px rgba(0, 0, 0, 0.3));\n",
              "      fill: #FFFFFF;\n",
              "    }\n",
              "  </style>\n",
              "\n",
              "      <script>\n",
              "        const buttonEl =\n",
              "          document.querySelector('#df-c575a9ca-81ee-4007-b278-2ed1290c8e38 button.colab-df-convert');\n",
              "        buttonEl.style.display =\n",
              "          google.colab.kernel.accessAllowed ? 'block' : 'none';\n",
              "\n",
              "        async function convertToInteractive(key) {\n",
              "          const element = document.querySelector('#df-c575a9ca-81ee-4007-b278-2ed1290c8e38');\n",
              "          const dataTable =\n",
              "            await google.colab.kernel.invokeFunction('convertToInteractive',\n",
              "                                                     [key], {});\n",
              "          if (!dataTable) return;\n",
              "\n",
              "          const docLinkHtml = 'Like what you see? Visit the ' +\n",
              "            '<a target=\"_blank\" href=https://colab.research.google.com/notebooks/data_table.ipynb>data table notebook</a>'\n",
              "            + ' to learn more about interactive tables.';\n",
              "          element.innerHTML = '';\n",
              "          dataTable['output_type'] = 'display_data';\n",
              "          await google.colab.output.renderOutput(dataTable, element);\n",
              "          const docLink = document.createElement('div');\n",
              "          docLink.innerHTML = docLinkHtml;\n",
              "          element.appendChild(docLink);\n",
              "        }\n",
              "      </script>\n",
              "    </div>\n",
              "  </div>\n",
              "  "
            ]
          },
          "metadata": {},
          "execution_count": 26
        }
      ]
    },
    {
      "cell_type": "markdown",
      "source": [
        "Con estos 3 ejemplos se puede observar que hacen referencia a los mismos registros, solo buscándolos por 'id', se pueden eliminar."
      ],
      "metadata": {
        "id": "q2oOaFjqqT98"
      }
    },
    {
      "cell_type": "code",
      "source": [
        "# Elimino SOLO los duplicados, me interesa contar con los inmuebles únicos\n",
        "df.drop_duplicates(subset = ['id'], keep='last', inplace=True)\n",
        "df_new_tmp.drop_duplicates(subset = ['id'], keep='last', inplace=True)"
      ],
      "metadata": {
        "id": "r1ZCd0zJq1DB"
      },
      "execution_count": 27,
      "outputs": []
    },
    {
      "cell_type": "code",
      "source": [
        "# 8. Trabajar en terminos porcentuales con la columna \"number of reviews\"\n",
        "max_number_or_reviews = df['number of reviews'].max()\n",
        "\n",
        "df['number of reviews'] = df['number of reviews'].apply(lambda x: x * 100 / max_number_or_reviews)\n",
        "\n",
        "# Imprimo el mínimo y el máximo de valores para \"number of reviews\", debería ir de 0 a 100\n",
        "min_number_or_reviews = df['number of reviews'].min()\n",
        "max_number_or_reviews = df['number of reviews'].max()\n",
        "print(f'Rango en \"number of reviews\": De {min_number_or_reviews} a {max_number_or_reviews}')"
      ],
      "metadata": {
        "colab": {
          "base_uri": "https://localhost:8080/"
        },
        "id": "8TouPp6mhsr2",
        "outputId": "5db7607e-0880-4573-b04f-21c30ab9d936"
      },
      "execution_count": 28,
      "outputs": [
        {
          "output_type": "stream",
          "name": "stdout",
          "text": [
            "Rango en \"number of reviews\": De 0.0 a 100.0\n"
          ]
        }
      ]
    },
    {
      "cell_type": "code",
      "source": [
        "# 9. Arreglar los años de construcción que están muy por debajo o muy por encima del promedio\n",
        "sns.displot(df['construction year'], bins=50)"
      ],
      "metadata": {
        "colab": {
          "base_uri": "https://localhost:8080/",
          "height": 387
        },
        "id": "0Lf7FjlwM6Bb",
        "outputId": "676c980f-9435-4e0d-eb9f-73dff9ddc160"
      },
      "execution_count": 29,
      "outputs": [
        {
          "output_type": "execute_result",
          "data": {
            "text/plain": [
              "<seaborn.axisgrid.FacetGrid at 0x7fb8cea835d0>"
            ]
          },
          "metadata": {},
          "execution_count": 29
        },
        {
          "output_type": "display_data",
          "data": {
            "text/plain": [
              "<Figure size 360x360 with 1 Axes>"
            ],
            "image/png": "[encoded data removed]"
          },
          "metadata": {
            "needs_background": "light"
          }
        }
      ]
    },
    {
      "cell_type": "markdown",
      "source": [
        "Hay años que están muy por debajo de los años 2000."
      ],
      "metadata": {
        "id": "12ymolJsPj28"
      }
    },
    {
      "cell_type": "code",
      "source": [
        "df[df['construction year'] < 2000]"
      ],
      "metadata": {
        "colab": {
          "base_uri": "https://localhost:8080/",
          "height": 274
        },
        "id": "3ARI7Bd4PqiN",
        "outputId": "02d706af-bb05-49e7-825a-87db9f022cc9"
      },
      "execution_count": 30,
      "outputs": [
        {
          "output_type": "execute_result",
          "data": {
            "text/plain": [
              "             id neighbourhood group      neighbourhood       lat      long  \\\n",
              "9202   18794785              Queens           Elmhurst  40.73873 -73.88147   \n",
              "62045  18794233            Brooklyn           Flatbush  40.65090 -73.96266   \n",
              "65300  18582702            Brooklyn  Downtown Brooklyn  40.69489 -73.98322   \n",
              "\n",
              "       instant_bookable cancellation_policy        room type  \\\n",
              "9202                  1              strict  Entire home/apt   \n",
              "62045                 1            flexible     Private room   \n",
              "65300                 1            moderate  Entire home/apt   \n",
              "\n",
              "       construction year  price  service fee  minimum nights  \\\n",
              "9202              1020.0  430.0         86.0             2.0   \n",
              "62045             1022.0  376.0         75.0             1.0   \n",
              "65300             1022.0  608.0        122.0             4.0   \n",
              "\n",
              "       availability 365  number of reviews  \n",
              "9202              130.0           3.515625  \n",
              "62045               0.0           0.878906  \n",
              "65300              57.0           2.636719  "
            ],
            "text/html": [
              "\n",
              "  <div id=\"df-d3bf5a12-be27-4407-a345-f4949b718919\">\n",
              "    <div class=\"colab-df-container\">\n",
              "      <div>\n",
              "<style scoped>\n",
              "    .dataframe tbody tr th:only-of-type {\n",
              "        vertical-align: middle;\n",
              "    }\n",
              "\n",
              "    .dataframe tbody tr th {\n",
              "        vertical-align: top;\n",
              "    }\n",
              "\n",
              "    .dataframe thead th {\n",
              "        text-align: right;\n",
              "    }\n",
              "</style>\n",
              "<table border=\"1\" class=\"dataframe\">\n",
              "  <thead>\n",
              "    <tr style=\"text-align: right;\">\n",
              "      <th></th>\n",
              "      <th>id</th>\n",
              "      <th>neighbourhood group</th>\n",
              "      <th>neighbourhood</th>\n",
              "      <th>lat</th>\n",
              "      <th>long</th>\n",
              "      <th>instant_bookable</th>\n",
              "      <th>cancellation_policy</th>\n",
              "      <th>room type</th>\n",
              "      <th>construction year</th>\n",
              "      <th>price</th>\n",
              "      <th>service fee</th>\n",
              "      <th>minimum nights</th>\n",
              "      <th>availability 365</th>\n",
              "      <th>number of reviews</th>\n",
              "    </tr>\n",
              "  </thead>\n",
              "  <tbody>\n",
              "    <tr>\n",
              "      <th>9202</th>\n",
              "      <td>18794785</td>\n",
              "      <td>Queens</td>\n",
              "      <td>Elmhurst</td>\n",
              "      <td>40.73873</td>\n",
              "      <td>-73.88147</td>\n",
              "      <td>1</td>\n",
              "      <td>strict</td>\n",
              "      <td>Entire home/apt</td>\n",
              "      <td>1020.0</td>\n",
              "      <td>430.0</td>\n",
              "      <td>86.0</td>\n",
              "      <td>2.0</td>\n",
              "      <td>130.0</td>\n",
              "      <td>3.515625</td>\n",
              "    </tr>\n",
              "    <tr>\n",
              "      <th>62045</th>\n",
              "      <td>18794233</td>\n",
              "      <td>Brooklyn</td>\n",
              "      <td>Flatbush</td>\n",
              "      <td>40.65090</td>\n",
              "      <td>-73.96266</td>\n",
              "      <td>1</td>\n",
              "      <td>flexible</td>\n",
              "      <td>Private room</td>\n",
              "      <td>1022.0</td>\n",
              "      <td>376.0</td>\n",
              "      <td>75.0</td>\n",
              "      <td>1.0</td>\n",
              "      <td>0.0</td>\n",
              "      <td>0.878906</td>\n",
              "    </tr>\n",
              "    <tr>\n",
              "      <th>65300</th>\n",
              "      <td>18582702</td>\n",
              "      <td>Brooklyn</td>\n",
              "      <td>Downtown Brooklyn</td>\n",
              "      <td>40.69489</td>\n",
              "      <td>-73.98322</td>\n",
              "      <td>1</td>\n",
              "      <td>moderate</td>\n",
              "      <td>Entire home/apt</td>\n",
              "      <td>1022.0</td>\n",
              "      <td>608.0</td>\n",
              "      <td>122.0</td>\n",
              "      <td>4.0</td>\n",
              "      <td>57.0</td>\n",
              "      <td>2.636719</td>\n",
              "    </tr>\n",
              "  </tbody>\n",
              "</table>\n",
              "</div>\n",
              "      <button class=\"colab-df-convert\" onclick=\"convertToInteractive('df-d3bf5a12-be27-4407-a345-f4949b718919')\"\n",
              "              title=\"Convert this dataframe to an interactive table.\"\n",
              "              style=\"display:none;\">\n",
              "        \n",
              "  <svg xmlns=\"http://www.w3.org/2000/svg\" height=\"24px\"viewBox=\"0 0 24 24\"\n",
              "       width=\"24px\">\n",
              "    <path d=\"M0 0h24v24H0V0z\" fill=\"none\"/>\n",
              "    <path d=\"M18.56 5.44l.94 2.06.94-2.06 2.06-.94-2.06-.94-.94-2.06-.94 2.06-2.06.94zm-11 1L8.5 8.5l.94-2.06 2.06-.94-2.06-.94L8.5 2.5l-.94 2.06-2.06.94zm10 10l.94 2.06.94-2.06 2.06-.94-2.06-.94-.94-2.06-.94 2.06-2.06.94z\"/><path d=\"M17.41 7.96l-1.37-1.37c-.4-.4-.92-.59-1.43-.59-.52 0-1.04.2-1.43.59L10.3 9.45l-7.72 7.72c-.78.78-.78 2.05 0 2.83L4 21.41c.39.39.9.59 1.41.59.51 0 1.02-.2 1.41-.59l7.78-7.78 2.81-2.81c.8-.78.8-2.07 0-2.86zM5.41 20L4 18.59l7.72-7.72 1.47 1.35L5.41 20z\"/>\n",
              "  </svg>\n",
              "      </button>\n",
              "      \n",
              "  <style>\n",
              "    .colab-df-container {\n",
              "      display:flex;\n",
              "      flex-wrap:wrap;\n",
              "      gap: 12px;\n",
              "    }\n",
              "\n",
              "    .colab-df-convert {\n",
              "      background-color: #E8F0FE;\n",
              "      border: none;\n",
              "      border-radius: 50%;\n",
              "      cursor: pointer;\n",
              "      display: none;\n",
              "      fill: #1967D2;\n",
              "      height: 32px;\n",
              "      padding: 0 0 0 0;\n",
              "      width: 32px;\n",
              "    }\n",
              "\n",
              "    .colab-df-convert:hover {\n",
              "      background-color: #E2EBFA;\n",
              "      box-shadow: 0px 1px 2px rgba(60, 64, 67, 0.3), 0px 1px 3px 1px rgba(60, 64, 67, 0.15);\n",
              "      fill: #174EA6;\n",
              "    }\n",
              "\n",
              "    [theme=dark] .colab-df-convert {\n",
              "      background-color: #3B4455;\n",
              "      fill: #D2E3FC;\n",
              "    }\n",
              "\n",
              "    [theme=dark] .colab-df-convert:hover {\n",
              "      background-color: #434B5C;\n",
              "      box-shadow: 0px 1px 3px 1px rgba(0, 0, 0, 0.15);\n",
              "      filter: drop-shadow(0px 1px 2px rgba(0, 0, 0, 0.3));\n",
              "      fill: #FFFFFF;\n",
              "    }\n",
              "  </style>\n",
              "\n",
              "      <script>\n",
              "        const buttonEl =\n",
              "          document.querySelector('#df-d3bf5a12-be27-4407-a345-f4949b718919 button.colab-df-convert');\n",
              "        buttonEl.style.display =\n",
              "          google.colab.kernel.accessAllowed ? 'block' : 'none';\n",
              "\n",
              "        async function convertToInteractive(key) {\n",
              "          const element = document.querySelector('#df-d3bf5a12-be27-4407-a345-f4949b718919');\n",
              "          const dataTable =\n",
              "            await google.colab.kernel.invokeFunction('convertToInteractive',\n",
              "                                                     [key], {});\n",
              "          if (!dataTable) return;\n",
              "\n",
              "          const docLinkHtml = 'Like what you see? Visit the ' +\n",
              "            '<a target=\"_blank\" href=https://colab.research.google.com/notebooks/data_table.ipynb>data table notebook</a>'\n",
              "            + ' to learn more about interactive tables.';\n",
              "          element.innerHTML = '';\n",
              "          dataTable['output_type'] = 'display_data';\n",
              "          await google.colab.output.renderOutput(dataTable, element);\n",
              "          const docLink = document.createElement('div');\n",
              "          docLink.innerHTML = docLinkHtml;\n",
              "          element.appendChild(docLink);\n",
              "        }\n",
              "      </script>\n",
              "    </div>\n",
              "  </div>\n",
              "  "
            ]
          },
          "metadata": {},
          "execution_count": 30
        }
      ]
    },
    {
      "cell_type": "code",
      "source": [
        "# Se corrigen los registros de estos años asumiendo que hubo un error en la digitación\n",
        "df.loc[df['construction year'] == 1020, 'construction year'] = 2020\n",
        "df.loc[df['construction year'] == 1022, 'construction year'] = 2022\n",
        "df_new_tmp.loc[df_new_tmp['construction year'] == 1020, 'construction year'] = 2020\n",
        "df_new_tmp.loc[df_new_tmp['construction year'] == 1022, 'construction year'] = 2022\n",
        "\n",
        "sns.displot(df['construction year'], bins=50)"
      ],
      "metadata": {
        "colab": {
          "base_uri": "https://localhost:8080/",
          "height": 387
        },
        "id": "6QvwXWSYQOwy",
        "outputId": "f1108b26-c88d-4314-a5b3-2c920eaba30b"
      },
      "execution_count": 31,
      "outputs": [
        {
          "output_type": "execute_result",
          "data": {
            "text/plain": [
              "<seaborn.axisgrid.FacetGrid at 0x7fb8ce9e4cd0>"
            ]
          },
          "metadata": {},
          "execution_count": 31
        },
        {
          "output_type": "display_data",
          "data": {
            "text/plain": [
              "<Figure size 360x360 with 1 Axes>"
            ],
            "image/png": "[encoded data removed]"
          },
          "metadata": {
            "needs_background": "light"
          }
        }
      ]
    },
    {
      "cell_type": "markdown",
      "source": [
        "# Análisis exploratorio"
      ],
      "metadata": {
        "id": "9CyzGBDM7LaI"
      }
    },
    {
      "cell_type": "code",
      "source": [
        "# Cuál es la ciudad con más inmuebles publicados?\n",
        "most_rooms_city = df.groupby(['neighbourhood group']).agg({'id': 'count'})\n",
        "most_rooms_city.rename(columns={'id': 'count'}, inplace=True)\n",
        "most_rooms_city = most_rooms_city.sort_values('count', ascending=False).head(10)\n",
        "most_rooms_city.sort_values('count', ascending=True, inplace=True)\n",
        "\n",
        "most_rooms_city['count'].plot(kind='barh', colormap='jet', title='Top 10 de ciudades con más inmuebles')\n",
        "plt.xlabel('Cantidad de inmuebles')\n",
        "plt.ylabel('Ciudad')\n",
        "plt.show()"
      ],
      "metadata": {
        "colab": {
          "base_uri": "https://localhost:8080/",
          "height": 295
        },
        "id": "nt-3vPzW7YK7",
        "outputId": "0d4dc464-277d-48f7-8b5b-70268b3fc49d"
      },
      "execution_count": 32,
      "outputs": [
        {
          "output_type": "display_data",
          "data": {
            "text/plain": [
              "<Figure size 432x288 with 1 Axes>"
            ],
            "image/png": "[encoded data removed]"
          },
          "metadata": {
            "needs_background": "light"
          }
        }
      ]
    },
    {
      "cell_type": "markdown",
      "source": [
        "Aquí se puede observar que:\n",
        "1. La ciudad con más publicación de inmuebles es Manhattan. Muy seguramente por que es una de las ciudades más pobladas del mundo.\n",
        "2. Staten Island está muy por debajo de Manhattan, lo que quiere decir que aunque estamos en New York no es un sitio donde se preste mucho para rentar inmuebles."
      ],
      "metadata": {
        "id": "_5mANqzj3lpQ"
      }
    },
    {
      "cell_type": "code",
      "source": [
        "# Cuál es la ciudad con la media de precio más alta?\n",
        "most_expensive_city = df.groupby(['neighbourhood group']).agg({'price': 'mean'})\n",
        "most_expensive_city.reset_index(inplace=True)\n",
        "most_expensive_city.columns = ['city', 'price_mean']\n",
        "most_expensive_city = most_expensive_city.sort_values('price_mean', ascending=True)\n",
        "\n",
        "plt.figure(figsize = (10,8))\n",
        "ax = sns.barplot(x = most_expensive_city['city'], y = most_expensive_city['price_mean'])\n",
        "ax.set_xticklabels(ax.get_xticklabels(), rotation = 0)\n",
        "ax.set_xlabel('Ciudad')\n",
        "ax.set_ylabel('Precio')\n",
        "ax.set_title('Media del precio')\n",
        "plt.show()"
      ],
      "metadata": {
        "colab": {
          "base_uri": "https://localhost:8080/",
          "height": 513
        },
        "id": "OsykNouA8TNi",
        "outputId": "b4a2969a-6e67-4426-8ee6-cd1c6d7c9a96"
      },
      "execution_count": 33,
      "outputs": [
        {
          "output_type": "display_data",
          "data": {
            "text/plain": [
              "<Figure size 720x576 with 1 Axes>"
            ],
            "image/png": "[encoded data removed]"
          },
          "metadata": {
            "needs_background": "light"
          }
        }
      ]
    },
    {
      "cell_type": "markdown",
      "source": [
        "Aunque es la ciudad con la menor cantidad de inmuebles Staten Island tiene la media más alta en precios.\n",
        "\n",
        "La media de los precios es similar en todas las ciudades, ronda los $ 400."
      ],
      "metadata": {
        "id": "mQcnHRUX99zb"
      }
    },
    {
      "cell_type": "code",
      "source": [
        "# Busco la correlación entre el precio, service fee y el número de reviews\n",
        "df[['price', 'service fee', 'number of reviews']].corr()"
      ],
      "metadata": {
        "colab": {
          "base_uri": "https://localhost:8080/",
          "height": 143
        },
        "id": "Vwp93V9l99XM",
        "outputId": "f3271c94-4a2c-496e-b01b-875a62096f13"
      },
      "execution_count": 34,
      "outputs": [
        {
          "output_type": "execute_result",
          "data": {
            "text/plain": [
              "                      price  service fee  number of reviews\n",
              "price              1.000000     0.173027           0.001686\n",
              "service fee        0.173027     1.000000           0.005415\n",
              "number of reviews  0.001686     0.005415           1.000000"
            ],
            "text/html": [
              "\n",
              "  <div id=\"df-9a408d3f-2a9f-4677-84ae-7e8f4bf01787\">\n",
              "    <div class=\"colab-df-container\">\n",
              "      <div>\n",
              "<style scoped>\n",
              "    .dataframe tbody tr th:only-of-type {\n",
              "        vertical-align: middle;\n",
              "    }\n",
              "\n",
              "    .dataframe tbody tr th {\n",
              "        vertical-align: top;\n",
              "    }\n",
              "\n",
              "    .dataframe thead th {\n",
              "        text-align: right;\n",
              "    }\n",
              "</style>\n",
              "<table border=\"1\" class=\"dataframe\">\n",
              "  <thead>\n",
              "    <tr style=\"text-align: right;\">\n",
              "      <th></th>\n",
              "      <th>price</th>\n",
              "      <th>service fee</th>\n",
              "      <th>number of reviews</th>\n",
              "    </tr>\n",
              "  </thead>\n",
              "  <tbody>\n",
              "    <tr>\n",
              "      <th>price</th>\n",
              "      <td>1.000000</td>\n",
              "      <td>0.173027</td>\n",
              "      <td>0.001686</td>\n",
              "    </tr>\n",
              "    <tr>\n",
              "      <th>service fee</th>\n",
              "      <td>0.173027</td>\n",
              "      <td>1.000000</td>\n",
              "      <td>0.005415</td>\n",
              "    </tr>\n",
              "    <tr>\n",
              "      <th>number of reviews</th>\n",
              "      <td>0.001686</td>\n",
              "      <td>0.005415</td>\n",
              "      <td>1.000000</td>\n",
              "    </tr>\n",
              "  </tbody>\n",
              "</table>\n",
              "</div>\n",
              "      <button class=\"colab-df-convert\" onclick=\"convertToInteractive('df-9a408d3f-2a9f-4677-84ae-7e8f4bf01787')\"\n",
              "              title=\"Convert this dataframe to an interactive table.\"\n",
              "              style=\"display:none;\">\n",
              "        \n",
              "  <svg xmlns=\"http://www.w3.org/2000/svg\" height=\"24px\"viewBox=\"0 0 24 24\"\n",
              "       width=\"24px\">\n",
              "    <path d=\"M0 0h24v24H0V0z\" fill=\"none\"/>\n",
              "    <path d=\"M18.56 5.44l.94 2.06.94-2.06 2.06-.94-2.06-.94-.94-2.06-.94 2.06-2.06.94zm-11 1L8.5 8.5l.94-2.06 2.06-.94-2.06-.94L8.5 2.5l-.94 2.06-2.06.94zm10 10l.94 2.06.94-2.06 2.06-.94-2.06-.94-.94-2.06-.94 2.06-2.06.94z\"/><path d=\"M17.41 7.96l-1.37-1.37c-.4-.4-.92-.59-1.43-.59-.52 0-1.04.2-1.43.59L10.3 9.45l-7.72 7.72c-.78.78-.78 2.05 0 2.83L4 21.41c.39.39.9.59 1.41.59.51 0 1.02-.2 1.41-.59l7.78-7.78 2.81-2.81c.8-.78.8-2.07 0-2.86zM5.41 20L4 18.59l7.72-7.72 1.47 1.35L5.41 20z\"/>\n",
              "  </svg>\n",
              "      </button>\n",
              "      \n",
              "  <style>\n",
              "    .colab-df-container {\n",
              "      display:flex;\n",
              "      flex-wrap:wrap;\n",
              "      gap: 12px;\n",
              "    }\n",
              "\n",
              "    .colab-df-convert {\n",
              "      background-color: #E8F0FE;\n",
              "      border: none;\n",
              "      border-radius: 50%;\n",
              "      cursor: pointer;\n",
              "      display: none;\n",
              "      fill: #1967D2;\n",
              "      height: 32px;\n",
              "      padding: 0 0 0 0;\n",
              "      width: 32px;\n",
              "    }\n",
              "\n",
              "    .colab-df-convert:hover {\n",
              "      background-color: #E2EBFA;\n",
              "      box-shadow: 0px 1px 2px rgba(60, 64, 67, 0.3), 0px 1px 3px 1px rgba(60, 64, 67, 0.15);\n",
              "      fill: #174EA6;\n",
              "    }\n",
              "\n",
              "    [theme=dark] .colab-df-convert {\n",
              "      background-color: #3B4455;\n",
              "      fill: #D2E3FC;\n",
              "    }\n",
              "\n",
              "    [theme=dark] .colab-df-convert:hover {\n",
              "      background-color: #434B5C;\n",
              "      box-shadow: 0px 1px 3px 1px rgba(0, 0, 0, 0.15);\n",
              "      filter: drop-shadow(0px 1px 2px rgba(0, 0, 0, 0.3));\n",
              "      fill: #FFFFFF;\n",
              "    }\n",
              "  </style>\n",
              "\n",
              "      <script>\n",
              "        const buttonEl =\n",
              "          document.querySelector('#df-9a408d3f-2a9f-4677-84ae-7e8f4bf01787 button.colab-df-convert');\n",
              "        buttonEl.style.display =\n",
              "          google.colab.kernel.accessAllowed ? 'block' : 'none';\n",
              "\n",
              "        async function convertToInteractive(key) {\n",
              "          const element = document.querySelector('#df-9a408d3f-2a9f-4677-84ae-7e8f4bf01787');\n",
              "          const dataTable =\n",
              "            await google.colab.kernel.invokeFunction('convertToInteractive',\n",
              "                                                     [key], {});\n",
              "          if (!dataTable) return;\n",
              "\n",
              "          const docLinkHtml = 'Like what you see? Visit the ' +\n",
              "            '<a target=\"_blank\" href=https://colab.research.google.com/notebooks/data_table.ipynb>data table notebook</a>'\n",
              "            + ' to learn more about interactive tables.';\n",
              "          element.innerHTML = '';\n",
              "          dataTable['output_type'] = 'display_data';\n",
              "          await google.colab.output.renderOutput(dataTable, element);\n",
              "          const docLink = document.createElement('div');\n",
              "          docLink.innerHTML = docLinkHtml;\n",
              "          element.appendChild(docLink);\n",
              "        }\n",
              "      </script>\n",
              "    </div>\n",
              "  </div>\n",
              "  "
            ]
          },
          "metadata": {},
          "execution_count": 34
        }
      ]
    },
    {
      "cell_type": "markdown",
      "source": [
        "Se puede observar que no hay mucha relación entre el precio, el service fee ni el número de reviews lo cuál quiere decir que las personas colocan reviews de sus estancias sin necesidad de preguntarse cuanto pagaron por estas."
      ],
      "metadata": {
        "id": "ITpwtH6B-qsA"
      }
    },
    {
      "cell_type": "markdown",
      "source": [
        "# Última limpieza y prepración de los datos"
      ],
      "metadata": {
        "id": "BGPV_LN_7EtJ"
      }
    },
    {
      "cell_type": "markdown",
      "source": [
        "Aún es necesario ejecutar los últimos pasos de limpieza:"
      ],
      "metadata": {
        "id": "ce0sbMSC8O7-"
      }
    },
    {
      "cell_type": "code",
      "source": [
        "# 1. El \"id\" del inmueble no aporta nada a la definición del modelo, esa columna se puede eliminar\n",
        "df.drop('id', axis=1, inplace=True)\n",
        "df_new_tmp.drop('id', axis=1, inplace=True)\n",
        "\n",
        "# Verifico la cantidad de columnas, deberían ser 13 ahora\n",
        "df.shape"
      ],
      "metadata": {
        "colab": {
          "base_uri": "https://localhost:8080/"
        },
        "id": "Wd5ofdw-sCfL",
        "outputId": "3cca6414-e1b9-446d-f933-47917af29fc7"
      },
      "execution_count": 35,
      "outputs": [
        {
          "output_type": "execute_result",
          "data": {
            "text/plain": [
              "(101547, 13)"
            ]
          },
          "metadata": {},
          "execution_count": 35
        }
      ]
    },
    {
      "cell_type": "code",
      "source": [
        "# 2. Eliminar todas las filas que contengan valores nulos\n",
        "df.dropna(axis=0, inplace=True)\n",
        "df_new_tmp.dropna(axis=0, inplace=True)\n",
        "\n",
        "# Ya no debe haber valores nulos\n",
        "df.isnull().sum()"
      ],
      "metadata": {
        "colab": {
          "base_uri": "https://localhost:8080/"
        },
        "id": "QKs_CKohklOw",
        "outputId": "573cd774-2462-4ce7-8cd2-00ded6203b67"
      },
      "execution_count": 36,
      "outputs": [
        {
          "output_type": "execute_result",
          "data": {
            "text/plain": [
              "neighbourhood group    0\n",
              "neighbourhood          0\n",
              "lat                    0\n",
              "long                   0\n",
              "instant_bookable       0\n",
              "cancellation_policy    0\n",
              "room type              0\n",
              "construction year      0\n",
              "price                  0\n",
              "service fee            0\n",
              "minimum nights         0\n",
              "availability 365       0\n",
              "number of reviews      0\n",
              "dtype: int64"
            ]
          },
          "metadata": {},
          "execution_count": 36
        }
      ]
    },
    {
      "cell_type": "code",
      "source": [
        "# Cómo está distribuida la variable dependiente (target) en el dataset history?\n",
        "df['number of reviews'].describe(percentiles = [.25, .5, .75, .95, .99, .999, .9999, .99999])"
      ],
      "metadata": {
        "colab": {
          "base_uri": "https://localhost:8080/"
        },
        "id": "8EASpFwgorQw",
        "outputId": "5ff708b6-f587-4f37-89dd-801e4f6ab26a"
      },
      "execution_count": 37,
      "outputs": [
        {
          "output_type": "execute_result",
          "data": {
            "text/plain": [
              "count      100460.000000\n",
              "mean            2.670706\n",
              "std             4.821695\n",
              "min             0.000000\n",
              "25%             0.097656\n",
              "50%             0.683594\n",
              "75%             2.929688\n",
              "95%            12.109375\n",
              "99%            22.558594\n",
              "99.9%          40.775488\n",
              "99.99%         63.236426\n",
              "99.999%        98.613090\n",
              "max           100.000000\n",
              "Name: number of reviews, dtype: float64"
            ]
          },
          "metadata": {},
          "execution_count": 37
        }
      ]
    },
    {
      "cell_type": "code",
      "source": [
        "plt.figure(figsize = (28, 3))\n",
        "plt.boxplot(df['number of reviews'], vert = False)\n",
        "plt.show()"
      ],
      "metadata": {
        "colab": {
          "base_uri": "https://localhost:8080/",
          "height": 197
        },
        "id": "JUhFjh-nw7OW",
        "outputId": "14bdcb24-9739-42c8-cf7c-5ecff96dade8"
      },
      "execution_count": 38,
      "outputs": [
        {
          "output_type": "display_data",
          "data": {
            "text/plain": [
              "<Figure size 2016x216 with 1 Axes>"
            ],
            "image/png": "[encoded data removed]"
          },
          "metadata": {
            "needs_background": "light"
          }
        }
      ]
    },
    {
      "cell_type": "markdown",
      "source": [
        "La mayoría de datos están igual o debajo del percentil 99."
      ],
      "metadata": {
        "id": "X--v1O5tohSJ"
      }
    },
    {
      "cell_type": "code",
      "source": [
        "# 3. Dejar por fuera a los outliers\n",
        "df = df.loc[df['number of reviews'] <= df['number of reviews'].quantile(.99)]\n",
        "\n",
        "# Reviso nuevamente la distribución de la variable dependiente (target)\n",
        "df['number of reviews'].describe(percentiles = [.25, .5, .75, .95, .99, .999, .9999, .99999])"
      ],
      "metadata": {
        "colab": {
          "base_uri": "https://localhost:8080/"
        },
        "id": "u1Tl5pyYsz7X",
        "outputId": "9fc37114-bf4d-4945-a96e-0c56024c5b85"
      },
      "execution_count": 39,
      "outputs": [
        {
          "output_type": "execute_result",
          "data": {
            "text/plain": [
              "count      99465.000000\n",
              "mean           2.390942\n",
              "std            3.839166\n",
              "min            0.000000\n",
              "25%            0.097656\n",
              "50%            0.683594\n",
              "75%            2.832031\n",
              "95%           11.132812\n",
              "99%           18.164062\n",
              "99.9%         22.070312\n",
              "99.99%        22.558594\n",
              "99.999%       22.558594\n",
              "max           22.558594\n",
              "Name: number of reviews, dtype: float64"
            ]
          },
          "metadata": {},
          "execution_count": 39
        }
      ]
    },
    {
      "cell_type": "code",
      "source": [
        "plt.figure(figsize = (28, 3))\n",
        "plt.boxplot(df['number of reviews'], vert = False)\n",
        "plt.show()"
      ],
      "metadata": {
        "colab": {
          "base_uri": "https://localhost:8080/",
          "height": 197
        },
        "id": "eax_8urFxD-E",
        "outputId": "a2d09fee-46ce-4b66-c011-ac966f7ce0f2"
      },
      "execution_count": 40,
      "outputs": [
        {
          "output_type": "display_data",
          "data": {
            "text/plain": [
              "<Figure size 2016x216 with 1 Axes>"
            ],
            "image/png": "[encoded data removed]"
          },
          "metadata": {
            "needs_background": "light"
          }
        }
      ]
    },
    {
      "cell_type": "markdown",
      "source": [
        "# Separación de variable dependiente y variables independientes"
      ],
      "metadata": {
        "id": "EjyxzEOb3Oxw"
      }
    },
    {
      "cell_type": "code",
      "source": [
        "# Aplico OrdinalEncoder sobre los features categóricos para volverlos cuantitativos\n",
        "from sklearn.compose import ColumnTransformer\n",
        "from sklearn.preprocessing import OrdinalEncoder\n",
        "\n",
        "new_columns = ['neighbourhood_group',\n",
        "               'neighbourhood',\n",
        "               'cancellation_policy',\n",
        "               'room_type',\n",
        "               'lat',\n",
        "               'long',\n",
        "               'instant_bookable',\n",
        "               'construction_year',\n",
        "               'price',\n",
        "               'service_fee',\n",
        "               'minimum_nights',\n",
        "               'availability_365']\n",
        "\n",
        "ct = ColumnTransformer(transformers =[('OrdinalEncoder', OrdinalEncoder(dtype=np.int16),\n",
        "                                       ['neighbourhood group', 'neighbourhood', 'cancellation_policy', 'room type'])],\n",
        "                       remainder ='passthrough')\n",
        "df_history = ct.fit_transform(df)\n",
        "df_history = pd.DataFrame(data=df_history, columns=new_columns + ['number_of_reviews'])\n",
        "\n",
        "df_new = ct.fit_transform(df_new_tmp)\n",
        "df_new = pd.DataFrame(data=df_new, columns=new_columns)"
      ],
      "metadata": {
        "id": "CPm8kRb0HD77"
      },
      "execution_count": 41,
      "outputs": []
    },
    {
      "cell_type": "code",
      "source": [
        "# Imprimo el dataset history actualizado con las mejoras\n",
        "df_history.head(5)"
      ],
      "metadata": {
        "colab": {
          "base_uri": "https://localhost:8080/",
          "height": 270
        },
        "id": "mmmE19NF1KKm",
        "outputId": "c3756c34-728f-43ab-85ac-21804d337828"
      },
      "execution_count": 42,
      "outputs": [
        {
          "output_type": "execute_result",
          "data": {
            "text/plain": [
              "   neighbourhood_group  neighbourhood  cancellation_policy  room_type  \\\n",
              "0                  2.0           98.0                  2.0        0.0   \n",
              "1                  2.0          130.0                  0.0        1.0   \n",
              "2                  2.0          205.0                  0.0        2.0   \n",
              "3                  2.0           74.0                  2.0        2.0   \n",
              "4                  2.0          122.0                  1.0        0.0   \n",
              "\n",
              "        lat      long  instant_bookable  construction_year  price  \\\n",
              "0  40.76212 -73.98820               1.0             2011.0  851.0   \n",
              "1  40.74623 -73.98499               1.0             2021.0  466.0   \n",
              "2  40.78859 -73.97568               0.0             2004.0  874.0   \n",
              "3  40.70817 -74.00511               0.0             2012.0  813.0   \n",
              "4  40.72130 -73.98900               1.0             2007.0  326.0   \n",
              "\n",
              "   service_fee  minimum_nights  availability_365  number_of_reviews  \n",
              "0        170.0             4.0             199.0          10.937500  \n",
              "1         93.0             1.0             161.0           1.269531  \n",
              "2        175.0            14.0               0.0           0.097656  \n",
              "3        163.0             1.0               0.0           0.488281  \n",
              "4         65.0             4.0             301.0           0.878906  "
            ],
            "text/html": [
              "\n",
              "  <div id=\"df-17e119fa-8767-4e75-a4de-96d14ef9ce54\">\n",
              "    <div class=\"colab-df-container\">\n",
              "      <div>\n",
              "<style scoped>\n",
              "    .dataframe tbody tr th:only-of-type {\n",
              "        vertical-align: middle;\n",
              "    }\n",
              "\n",
              "    .dataframe tbody tr th {\n",
              "        vertical-align: top;\n",
              "    }\n",
              "\n",
              "    .dataframe thead th {\n",
              "        text-align: right;\n",
              "    }\n",
              "</style>\n",
              "<table border=\"1\" class=\"dataframe\">\n",
              "  <thead>\n",
              "    <tr style=\"text-align: right;\">\n",
              "      <th></th>\n",
              "      <th>neighbourhood_group</th>\n",
              "      <th>neighbourhood</th>\n",
              "      <th>cancellation_policy</th>\n",
              "      <th>room_type</th>\n",
              "      <th>lat</th>\n",
              "      <th>long</th>\n",
              "      <th>instant_bookable</th>\n",
              "      <th>construction_year</th>\n",
              "      <th>price</th>\n",
              "      <th>service_fee</th>\n",
              "      <th>minimum_nights</th>\n",
              "      <th>availability_365</th>\n",
              "      <th>number_of_reviews</th>\n",
              "    </tr>\n",
              "  </thead>\n",
              "  <tbody>\n",
              "    <tr>\n",
              "      <th>0</th>\n",
              "      <td>2.0</td>\n",
              "      <td>98.0</td>\n",
              "      <td>2.0</td>\n",
              "      <td>0.0</td>\n",
              "      <td>40.76212</td>\n",
              "      <td>-73.98820</td>\n",
              "      <td>1.0</td>\n",
              "      <td>2011.0</td>\n",
              "      <td>851.0</td>\n",
              "      <td>170.0</td>\n",
              "      <td>4.0</td>\n",
              "      <td>199.0</td>\n",
              "      <td>10.937500</td>\n",
              "    </tr>\n",
              "    <tr>\n",
              "      <th>1</th>\n",
              "      <td>2.0</td>\n",
              "      <td>130.0</td>\n",
              "      <td>0.0</td>\n",
              "      <td>1.0</td>\n",
              "      <td>40.74623</td>\n",
              "      <td>-73.98499</td>\n",
              "      <td>1.0</td>\n",
              "      <td>2021.0</td>\n",
              "      <td>466.0</td>\n",
              "      <td>93.0</td>\n",
              "      <td>1.0</td>\n",
              "      <td>161.0</td>\n",
              "      <td>1.269531</td>\n",
              "    </tr>\n",
              "    <tr>\n",
              "      <th>2</th>\n",
              "      <td>2.0</td>\n",
              "      <td>205.0</td>\n",
              "      <td>0.0</td>\n",
              "      <td>2.0</td>\n",
              "      <td>40.78859</td>\n",
              "      <td>-73.97568</td>\n",
              "      <td>0.0</td>\n",
              "      <td>2004.0</td>\n",
              "      <td>874.0</td>\n",
              "      <td>175.0</td>\n",
              "      <td>14.0</td>\n",
              "      <td>0.0</td>\n",
              "      <td>0.097656</td>\n",
              "    </tr>\n",
              "    <tr>\n",
              "      <th>3</th>\n",
              "      <td>2.0</td>\n",
              "      <td>74.0</td>\n",
              "      <td>2.0</td>\n",
              "      <td>2.0</td>\n",
              "      <td>40.70817</td>\n",
              "      <td>-74.00511</td>\n",
              "      <td>0.0</td>\n",
              "      <td>2012.0</td>\n",
              "      <td>813.0</td>\n",
              "      <td>163.0</td>\n",
              "      <td>1.0</td>\n",
              "      <td>0.0</td>\n",
              "      <td>0.488281</td>\n",
              "    </tr>\n",
              "    <tr>\n",
              "      <th>4</th>\n",
              "      <td>2.0</td>\n",
              "      <td>122.0</td>\n",
              "      <td>1.0</td>\n",
              "      <td>0.0</td>\n",
              "      <td>40.72130</td>\n",
              "      <td>-73.98900</td>\n",
              "      <td>1.0</td>\n",
              "      <td>2007.0</td>\n",
              "      <td>326.0</td>\n",
              "      <td>65.0</td>\n",
              "      <td>4.0</td>\n",
              "      <td>301.0</td>\n",
              "      <td>0.878906</td>\n",
              "    </tr>\n",
              "  </tbody>\n",
              "</table>\n",
              "</div>\n",
              "      <button class=\"colab-df-convert\" onclick=\"convertToInteractive('df-17e119fa-8767-4e75-a4de-96d14ef9ce54')\"\n",
              "              title=\"Convert this dataframe to an interactive table.\"\n",
              "              style=\"display:none;\">\n",
              "        \n",
              "  <svg xmlns=\"http://www.w3.org/2000/svg\" height=\"24px\"viewBox=\"0 0 24 24\"\n",
              "       width=\"24px\">\n",
              "    <path d=\"M0 0h24v24H0V0z\" fill=\"none\"/>\n",
              "    <path d=\"M18.56 5.44l.94 2.06.94-2.06 2.06-.94-2.06-.94-.94-2.06-.94 2.06-2.06.94zm-11 1L8.5 8.5l.94-2.06 2.06-.94-2.06-.94L8.5 2.5l-.94 2.06-2.06.94zm10 10l.94 2.06.94-2.06 2.06-.94-2.06-.94-.94-2.06-.94 2.06-2.06.94z\"/><path d=\"M17.41 7.96l-1.37-1.37c-.4-.4-.92-.59-1.43-.59-.52 0-1.04.2-1.43.59L10.3 9.45l-7.72 7.72c-.78.78-.78 2.05 0 2.83L4 21.41c.39.39.9.59 1.41.59.51 0 1.02-.2 1.41-.59l7.78-7.78 2.81-2.81c.8-.78.8-2.07 0-2.86zM5.41 20L4 18.59l7.72-7.72 1.47 1.35L5.41 20z\"/>\n",
              "  </svg>\n",
              "      </button>\n",
              "      \n",
              "  <style>\n",
              "    .colab-df-container {\n",
              "      display:flex;\n",
              "      flex-wrap:wrap;\n",
              "      gap: 12px;\n",
              "    }\n",
              "\n",
              "    .colab-df-convert {\n",
              "      background-color: #E8F0FE;\n",
              "      border: none;\n",
              "      border-radius: 50%;\n",
              "      cursor: pointer;\n",
              "      display: none;\n",
              "      fill: #1967D2;\n",
              "      height: 32px;\n",
              "      padding: 0 0 0 0;\n",
              "      width: 32px;\n",
              "    }\n",
              "\n",
              "    .colab-df-convert:hover {\n",
              "      background-color: #E2EBFA;\n",
              "      box-shadow: 0px 1px 2px rgba(60, 64, 67, 0.3), 0px 1px 3px 1px rgba(60, 64, 67, 0.15);\n",
              "      fill: #174EA6;\n",
              "    }\n",
              "\n",
              "    [theme=dark] .colab-df-convert {\n",
              "      background-color: #3B4455;\n",
              "      fill: #D2E3FC;\n",
              "    }\n",
              "\n",
              "    [theme=dark] .colab-df-convert:hover {\n",
              "      background-color: #434B5C;\n",
              "      box-shadow: 0px 1px 3px 1px rgba(0, 0, 0, 0.15);\n",
              "      filter: drop-shadow(0px 1px 2px rgba(0, 0, 0, 0.3));\n",
              "      fill: #FFFFFF;\n",
              "    }\n",
              "  </style>\n",
              "\n",
              "      <script>\n",
              "        const buttonEl =\n",
              "          document.querySelector('#df-17e119fa-8767-4e75-a4de-96d14ef9ce54 button.colab-df-convert');\n",
              "        buttonEl.style.display =\n",
              "          google.colab.kernel.accessAllowed ? 'block' : 'none';\n",
              "\n",
              "        async function convertToInteractive(key) {\n",
              "          const element = document.querySelector('#df-17e119fa-8767-4e75-a4de-96d14ef9ce54');\n",
              "          const dataTable =\n",
              "            await google.colab.kernel.invokeFunction('convertToInteractive',\n",
              "                                                     [key], {});\n",
              "          if (!dataTable) return;\n",
              "\n",
              "          const docLinkHtml = 'Like what you see? Visit the ' +\n",
              "            '<a target=\"_blank\" href=https://colab.research.google.com/notebooks/data_table.ipynb>data table notebook</a>'\n",
              "            + ' to learn more about interactive tables.';\n",
              "          element.innerHTML = '';\n",
              "          dataTable['output_type'] = 'display_data';\n",
              "          await google.colab.output.renderOutput(dataTable, element);\n",
              "          const docLink = document.createElement('div');\n",
              "          docLink.innerHTML = docLinkHtml;\n",
              "          element.appendChild(docLink);\n",
              "        }\n",
              "      </script>\n",
              "    </div>\n",
              "  </div>\n",
              "  "
            ]
          },
          "metadata": {},
          "execution_count": 42
        }
      ]
    },
    {
      "cell_type": "code",
      "source": [
        "# Imprimo la cantidad de registros y filas que quedaron en history\n",
        "df_history.shape"
      ],
      "metadata": {
        "colab": {
          "base_uri": "https://localhost:8080/"
        },
        "id": "wTjRFKHbknQn",
        "outputId": "e0ee49c8-b110-4377-c47b-04d62e99af40"
      },
      "execution_count": 43,
      "outputs": [
        {
          "output_type": "execute_result",
          "data": {
            "text/plain": [
              "(99465, 13)"
            ]
          },
          "metadata": {},
          "execution_count": 43
        }
      ]
    },
    {
      "cell_type": "markdown",
      "source": [
        "Me dispongo a preparar los datos, tener listos los datasets de la variable dependiente y las variables independientes:"
      ],
      "metadata": {
        "id": "qEGqqpdlLI-z"
      }
    },
    {
      "cell_type": "code",
      "source": [
        "# La variable dependiente sera 'number_of_reviews', las demas serán independientes\n",
        "x = df_history.drop('number_of_reviews', axis=1)\n",
        "y = df_history['number_of_reviews']"
      ],
      "metadata": {
        "id": "4KFYTc2nLNQO"
      },
      "execution_count": 44,
      "outputs": []
    },
    {
      "cell_type": "code",
      "source": [
        "# Se divide el dataset en entrenamiento y prueba, donde entrenamiento tendrá el 80% de los datos\n",
        "from sklearn.model_selection import train_test_split\n",
        "\n",
        "x_train, x_test, y_train, y_test = train_test_split(x, y, test_size=0.20, random_state=1)\n",
        "\n",
        "print(f'Train: {x_train.shape}')\n",
        "print(f'Test: {x_test.shape}')\n",
        "\n",
        "# Se estandariza el dataset usando 'StandarScaler'\n",
        "name_columns = x_train.columns\n",
        "\n",
        "from sklearn.preprocessing import StandardScaler\n",
        "\n",
        "sc = StandardScaler()\n",
        "x_train = sc.fit_transform(x_train.values) # Solo para datos de entrenamiento se utiliza \"fit_transform\"\n",
        "x_test = sc.transform(x_test.values)\n",
        "\n",
        "# Los datos se transforman a dataframes para mayor comodidad\n",
        "x_train = pd.DataFrame(data=x_train, columns=name_columns)\n",
        "x_test = pd.DataFrame(data=x_test, columns=name_columns)"
      ],
      "metadata": {
        "colab": {
          "base_uri": "https://localhost:8080/"
        },
        "id": "awIk5QPxLUCw",
        "outputId": "e7953d81-f5ba-431e-d44d-1102681211b3"
      },
      "execution_count": 45,
      "outputs": [
        {
          "output_type": "stream",
          "name": "stdout",
          "text": [
            "Train: (79572, 12)\n",
            "Test: (19893, 12)\n"
          ]
        }
      ]
    },
    {
      "cell_type": "markdown",
      "source": [
        "# Entrenamientos de modelos"
      ],
      "metadata": {
        "id": "lnS6xOOAttq5"
      }
    },
    {
      "cell_type": "markdown",
      "source": [
        "## Regresión lineal simple"
      ],
      "metadata": {
        "id": "M6Z7l5n1K1e0"
      }
    },
    {
      "cell_type": "code",
      "source": [
        "# Se realiza el entrenamiento del modelo\n",
        "from sklearn.linear_model import LinearRegression\n",
        "\n",
        "simple_linear_regression = LinearRegression()\n",
        "simple_linear_regression.fit(x_train, y_train)\n",
        "\n",
        "# Se predicen los datos\n",
        "y_pred_lr_train = simple_linear_regression.predict(x_train)\n",
        "y_pred_lr_test = simple_linear_regression.predict(x_test)\n",
        "\n",
        "# Se imprimen los 3 valores de los coeficientes que tengan la magnitud más\n",
        "# grande, estos son los que influyen más en la desición de la predicción\n",
        "coef_df = pd.concat([pd.Series(simple_linear_regression.feature_names_in_), pd.Series(simple_linear_regression.coef_)], axis=1)\n",
        "coef_df.columns = ['feature', 'coef']\n",
        "\n",
        "coef_df['coef'] = coef_df['coef'].apply(lambda x: abs(x))\n",
        "coef_df = coef_df.sort_values('coef', ascending=False)\n",
        "coef_df.head(3)"
      ],
      "metadata": {
        "colab": {
          "base_uri": "https://localhost:8080/",
          "height": 143
        },
        "id": "GujKaTldLfkS",
        "outputId": "d005a44d-36d7-4b2b-e380-b3b749fb60b5"
      },
      "execution_count": 46,
      "outputs": [
        {
          "output_type": "execute_result",
          "data": {
            "text/plain": [
              "             feature      coef\n",
              "11  availability_365  0.375595\n",
              "10    minimum_nights  0.220675\n",
              "5               long  0.212817"
            ],
            "text/html": [
              "\n",
              "  <div id=\"df-a474f71a-9598-40b1-9eba-bbf59ba39de5\">\n",
              "    <div class=\"colab-df-container\">\n",
              "      <div>\n",
              "<style scoped>\n",
              "    .dataframe tbody tr th:only-of-type {\n",
              "        vertical-align: middle;\n",
              "    }\n",
              "\n",
              "    .dataframe tbody tr th {\n",
              "        vertical-align: top;\n",
              "    }\n",
              "\n",
              "    .dataframe thead th {\n",
              "        text-align: right;\n",
              "    }\n",
              "</style>\n",
              "<table border=\"1\" class=\"dataframe\">\n",
              "  <thead>\n",
              "    <tr style=\"text-align: right;\">\n",
              "      <th></th>\n",
              "      <th>feature</th>\n",
              "      <th>coef</th>\n",
              "    </tr>\n",
              "  </thead>\n",
              "  <tbody>\n",
              "    <tr>\n",
              "      <th>11</th>\n",
              "      <td>availability_365</td>\n",
              "      <td>0.375595</td>\n",
              "    </tr>\n",
              "    <tr>\n",
              "      <th>10</th>\n",
              "      <td>minimum_nights</td>\n",
              "      <td>0.220675</td>\n",
              "    </tr>\n",
              "    <tr>\n",
              "      <th>5</th>\n",
              "      <td>long</td>\n",
              "      <td>0.212817</td>\n",
              "    </tr>\n",
              "  </tbody>\n",
              "</table>\n",
              "</div>\n",
              "      <button class=\"colab-df-convert\" onclick=\"convertToInteractive('df-a474f71a-9598-40b1-9eba-bbf59ba39de5')\"\n",
              "              title=\"Convert this dataframe to an interactive table.\"\n",
              "              style=\"display:none;\">\n",
              "        \n",
              "  <svg xmlns=\"http://www.w3.org/2000/svg\" height=\"24px\"viewBox=\"0 0 24 24\"\n",
              "       width=\"24px\">\n",
              "    <path d=\"M0 0h24v24H0V0z\" fill=\"none\"/>\n",
              "    <path d=\"M18.56 5.44l.94 2.06.94-2.06 2.06-.94-2.06-.94-.94-2.06-.94 2.06-2.06.94zm-11 1L8.5 8.5l.94-2.06 2.06-.94-2.06-.94L8.5 2.5l-.94 2.06-2.06.94zm10 10l.94 2.06.94-2.06 2.06-.94-2.06-.94-.94-2.06-.94 2.06-2.06.94z\"/><path d=\"M17.41 7.96l-1.37-1.37c-.4-.4-.92-.59-1.43-.59-.52 0-1.04.2-1.43.59L10.3 9.45l-7.72 7.72c-.78.78-.78 2.05 0 2.83L4 21.41c.39.39.9.59 1.41.59.51 0 1.02-.2 1.41-.59l7.78-7.78 2.81-2.81c.8-.78.8-2.07 0-2.86zM5.41 20L4 18.59l7.72-7.72 1.47 1.35L5.41 20z\"/>\n",
              "  </svg>\n",
              "      </button>\n",
              "      \n",
              "  <style>\n",
              "    .colab-df-container {\n",
              "      display:flex;\n",
              "      flex-wrap:wrap;\n",
              "      gap: 12px;\n",
              "    }\n",
              "\n",
              "    .colab-df-convert {\n",
              "      background-color: #E8F0FE;\n",
              "      border: none;\n",
              "      border-radius: 50%;\n",
              "      cursor: pointer;\n",
              "      display: none;\n",
              "      fill: #1967D2;\n",
              "      height: 32px;\n",
              "      padding: 0 0 0 0;\n",
              "      width: 32px;\n",
              "    }\n",
              "\n",
              "    .colab-df-convert:hover {\n",
              "      background-color: #E2EBFA;\n",
              "      box-shadow: 0px 1px 2px rgba(60, 64, 67, 0.3), 0px 1px 3px 1px rgba(60, 64, 67, 0.15);\n",
              "      fill: #174EA6;\n",
              "    }\n",
              "\n",
              "    [theme=dark] .colab-df-convert {\n",
              "      background-color: #3B4455;\n",
              "      fill: #D2E3FC;\n",
              "    }\n",
              "\n",
              "    [theme=dark] .colab-df-convert:hover {\n",
              "      background-color: #434B5C;\n",
              "      box-shadow: 0px 1px 3px 1px rgba(0, 0, 0, 0.15);\n",
              "      filter: drop-shadow(0px 1px 2px rgba(0, 0, 0, 0.3));\n",
              "      fill: #FFFFFF;\n",
              "    }\n",
              "  </style>\n",
              "\n",
              "      <script>\n",
              "        const buttonEl =\n",
              "          document.querySelector('#df-a474f71a-9598-40b1-9eba-bbf59ba39de5 button.colab-df-convert');\n",
              "        buttonEl.style.display =\n",
              "          google.colab.kernel.accessAllowed ? 'block' : 'none';\n",
              "\n",
              "        async function convertToInteractive(key) {\n",
              "          const element = document.querySelector('#df-a474f71a-9598-40b1-9eba-bbf59ba39de5');\n",
              "          const dataTable =\n",
              "            await google.colab.kernel.invokeFunction('convertToInteractive',\n",
              "                                                     [key], {});\n",
              "          if (!dataTable) return;\n",
              "\n",
              "          const docLinkHtml = 'Like what you see? Visit the ' +\n",
              "            '<a target=\"_blank\" href=https://colab.research.google.com/notebooks/data_table.ipynb>data table notebook</a>'\n",
              "            + ' to learn more about interactive tables.';\n",
              "          element.innerHTML = '';\n",
              "          dataTable['output_type'] = 'display_data';\n",
              "          await google.colab.output.renderOutput(dataTable, element);\n",
              "          const docLink = document.createElement('div');\n",
              "          docLink.innerHTML = docLinkHtml;\n",
              "          element.appendChild(docLink);\n",
              "        }\n",
              "      </script>\n",
              "    </div>\n",
              "  </div>\n",
              "  "
            ]
          },
          "metadata": {},
          "execution_count": 46
        }
      ]
    },
    {
      "cell_type": "markdown",
      "source": [
        "Los coeficientes con valores más grandes, y que influyen más en la predicción, corresponden a los features 'availability_365', 'minimum_nigths' y 'long'."
      ],
      "metadata": {
        "id": "YICU4S5XLq66"
      }
    },
    {
      "cell_type": "code",
      "source": [
        "# Encuentro la raíz del error cuadrático medio (RMSE) para datos de train y de test\n",
        "from sklearn.metrics import mean_squared_error\n",
        "\n",
        "lr_train_rmse = np.sqrt(mean_squared_error(y_train, y_pred_lr_train))\n",
        "lr_test_rmse = np.sqrt(mean_squared_error(y_test, y_pred_lr_test))\n",
        "print(f'LinearRegression train RMSE: {lr_train_rmse}')\n",
        "print(f'LinearRegression test RMSE: {lr_test_rmse}')"
      ],
      "metadata": {
        "colab": {
          "base_uri": "https://localhost:8080/"
        },
        "id": "yN1paJ30MBtv",
        "outputId": "3344c8ad-9ca0-4361-a1da-9227eab2ba11"
      },
      "execution_count": 47,
      "outputs": [
        {
          "output_type": "stream",
          "name": "stdout",
          "text": [
            "LinearRegression train RMSE: 3.805812902828032\n",
            "LinearRegression test RMSE: 3.7879342098315165\n"
          ]
        }
      ]
    },
    {
      "cell_type": "markdown",
      "source": [
        "### Conclusiones de regresión lineal simple"
      ],
      "metadata": {
        "id": "JZxyyfpMtMAL"
      }
    },
    {
      "cell_type": "markdown",
      "source": [
        "1. El feature que más tiene peso en la predicción es \"availability_365\".\n",
        "2. La unidad de medida de \"number_of_reviews\" quedó en téminos de porcentaje y el RMSE está en un 3.80% aproximadamente. Mientras tanto la media de \"number_of_reviews\" es de 2.39% ... esto quiere decir que el modelo no es muy bueno ni tampoco es malo. La diferencia porcentual es de solo 1.41%, sin embargo el error casi que duplica a la media de \"number_of_reviews\".\n",
        "3. No hay overfitting, pero puede haber un poco de underfitting.\n",
        "4. Procedo a evaluar más modelos con gradiente descendente, funciones de regulariación y transformación polinomial pero lo más seguro es que el RMSE aumente."
      ],
      "metadata": {
        "id": "IwTuSYjCtKYP"
      }
    },
    {
      "cell_type": "markdown",
      "source": [
        "## Gradiente descendente"
      ],
      "metadata": {
        "id": "Ev5da8antrGf"
      }
    },
    {
      "cell_type": "code",
      "source": [
        "# Se realiza el entrenamiento del modelo sin penalidad\n",
        "from sklearn.linear_model import SGDRegressor\n",
        "\n",
        "sgd_regressor = SGDRegressor(penalty=None)\n",
        "sgd_regressor.fit(x_train, y_train)\n",
        "\n",
        "# Se predicen los datos\n",
        "y_pred_sgd_train = sgd_regressor.predict(x_train)\n",
        "y_pred_sgd_test = sgd_regressor.predict(x_test)\n",
        "\n",
        "# Encuentro la raíz del error cuadrático medio (RMSE) para datos de train y de test\n",
        "sgd_train_rmse = np.sqrt(mean_squared_error(y_train, y_pred_sgd_train))\n",
        "sgd_test_rmse = np.sqrt(mean_squared_error(y_test, y_pred_sgd_test))\n",
        "print(f'SGDRegressor train RMSE: {sgd_train_rmse}')\n",
        "print(f'SGDRegressor test RMSE: {sgd_test_rmse}')"
      ],
      "metadata": {
        "colab": {
          "base_uri": "https://localhost:8080/"
        },
        "id": "kUFXDjgstqOj",
        "outputId": "aaafc46a-5fd0-4392-b076-c70268fa2729"
      },
      "execution_count": 48,
      "outputs": [
        {
          "output_type": "stream",
          "name": "stdout",
          "text": [
            "SGDRegressor train RMSE: 3.8106422055148506\n",
            "SGDRegressor test RMSE: 3.7948420071120084\n"
          ]
        }
      ]
    },
    {
      "cell_type": "markdown",
      "source": [
        "El error es muy grande, voy a aplicar una función de regularización para ver que sucede."
      ],
      "metadata": {
        "id": "A4IN0ia8uSmt"
      }
    },
    {
      "cell_type": "code",
      "source": [
        "# Se realiza el entrenamiento del modelo con penalidad l1\n",
        "sgd_regressor_l1 = SGDRegressor(penalty='l1')\n",
        "sgd_regressor_l1.fit(x_train, y_train)\n",
        "\n",
        "# Se predicen los datos\n",
        "y_pred_sgd_l1_train = sgd_regressor_l1.predict(x_train)\n",
        "y_pred_sgd_l1_test = sgd_regressor_l1.predict(x_test)\n",
        "\n",
        "# Encuentro la raíz del error cuadrático medio (RMSE) para datos de train y de test\n",
        "sgd_l1_train_rmse = np.sqrt(mean_squared_error(y_train, y_pred_sgd_l1_train))\n",
        "sgd_l1_test_rmse = np.sqrt(mean_squared_error(y_test, y_pred_sgd_l1_test))\n",
        "print(f'SGDRegressor L1 train RMSE: {sgd_l1_train_rmse}')\n",
        "print(f'SGDRegressor L1 test RMSE: {sgd_l1_test_rmse}')"
      ],
      "metadata": {
        "colab": {
          "base_uri": "https://localhost:8080/"
        },
        "id": "iHe8yHMMuZc2",
        "outputId": "7ae6f263-af11-4d2d-a249-759c8f84cea2"
      },
      "execution_count": 49,
      "outputs": [
        {
          "output_type": "stream",
          "name": "stdout",
          "text": [
            "SGDRegressor L1 train RMSE: 6.506491180474639\n",
            "SGDRegressor L1 test RMSE: 6.196079192426692\n"
          ]
        }
      ]
    },
    {
      "cell_type": "markdown",
      "source": [
        "Aún aplicando la función de regularización L1 se ve que el error RMSE es muy grande. Voy con función de regularización L2."
      ],
      "metadata": {
        "id": "3BWkRhJNu0BD"
      }
    },
    {
      "cell_type": "code",
      "source": [
        "# Se realiza el entrenamiento del modelo con penalidad l1\n",
        "sgd_regressor_l2 = SGDRegressor(penalty='l2')\n",
        "sgd_regressor_l2.fit(x_train, y_train)\n",
        "\n",
        "# Se predicen los datos\n",
        "y_pred_sgd_l2_train = sgd_regressor_l2.predict(x_train)\n",
        "y_pred_sgd_l2_test = sgd_regressor_l2.predict(x_test)\n",
        "\n",
        "# Encuentro la raíz del error cuadrático medio (RMSE) para datos de train y de test\n",
        "sgd_l2_train_rmse = np.sqrt(mean_squared_error(y_train, y_pred_sgd_l2_train))\n",
        "sgd_l2_test_rmse = np.sqrt(mean_squared_error(y_test, y_pred_sgd_l2_test))\n",
        "print(f'SGDRegressor L2 train RMSE: {sgd_l2_train_rmse}')\n",
        "print(f'SGDRegressor L2 test RMSE: {sgd_l2_test_rmse}')"
      ],
      "metadata": {
        "colab": {
          "base_uri": "https://localhost:8080/"
        },
        "id": "pTPrFPH4vdxL",
        "outputId": "325b203b-1771-454f-fd44-e86cb3a94f1e"
      },
      "execution_count": 50,
      "outputs": [
        {
          "output_type": "stream",
          "name": "stdout",
          "text": [
            "SGDRegressor L2 train RMSE: 3.819696345655724\n",
            "SGDRegressor L2 test RMSE: 3.798353328708896\n"
          ]
        }
      ]
    },
    {
      "cell_type": "markdown",
      "source": [
        "### Conclusiones de gradiente descendente"
      ],
      "metadata": {
        "id": "z4-BROgjvkA1"
      }
    },
    {
      "cell_type": "markdown",
      "source": [
        "1. El error RMSE fue mucho más grande que el encontrado con la regresión lineal.\n",
        "2. Inclusive aplicando funciones de regularación se observa que el error no mejora.\n",
        "3. Las funciones de regularización se aplican para mejorar un modelo con underfitting, pero como este no era el caso por eso obtenemos errores muy grandes."
      ],
      "metadata": {
        "id": "-ZTVe5YdvqPK"
      }
    },
    {
      "cell_type": "markdown",
      "source": [
        "## Transformación polinomial"
      ],
      "metadata": {
        "id": "2DjCnnjsMbBt"
      }
    },
    {
      "cell_type": "code",
      "source": [
        "# Polinomio con 2 grados\n",
        "from sklearn.preprocessing import PolynomialFeatures\n",
        "\n",
        "poly_features = PolynomialFeatures(degree=2, include_bias=False)\n",
        "x_poly = poly_features.fit_transform(x)"
      ],
      "metadata": {
        "id": "b9wVpIGIMhN8"
      },
      "execution_count": 51,
      "outputs": []
    },
    {
      "cell_type": "code",
      "source": [
        "# Obtener variable dependiente y variables independientes\n",
        "x_train, x_test, y_train, y_test = train_test_split(x_poly, y, test_size=0.20, random_state=1)\n",
        "\n",
        "print(f'Train: {x_train.shape}')\n",
        "print(f'Test: {x_test.shape}')\n",
        "\n",
        "# Se estandariza el dataset usando 'StandarScaler'\n",
        "sc = StandardScaler()\n",
        "x_train = sc.fit_transform(x_train) # Solo para datos de entrenamiento se utiliza \"fit_transform\"\n",
        "x_test = sc.transform(x_test)"
      ],
      "metadata": {
        "colab": {
          "base_uri": "https://localhost:8080/"
        },
        "id": "K5IJThVjMkNh",
        "outputId": "8d076957-8d7c-4806-a8a4-28fea743c7c7"
      },
      "execution_count": 52,
      "outputs": [
        {
          "output_type": "stream",
          "name": "stdout",
          "text": [
            "Train: (79572, 90)\n",
            "Test: (19893, 90)\n"
          ]
        }
      ]
    },
    {
      "cell_type": "markdown",
      "source": [
        "El número de columnas aumentó a 90."
      ],
      "metadata": {
        "id": "sHdRrm8Hxnwz"
      }
    },
    {
      "cell_type": "markdown",
      "source": [
        "### Gradiente descendente y transformación polynomial 2"
      ],
      "metadata": {
        "id": "gL24rvmwMyNZ"
      }
    },
    {
      "cell_type": "code",
      "source": [
        "# Se realiza el entrenamiento del modelo con penalty=None\n",
        "sgd_regressor_poly2 = SGDRegressor(penalty=None)\n",
        "sgd_regressor_poly2.fit(x_train, y_train)\n",
        "\n",
        "# Se predicen los datos\n",
        "y_pred_poly2_train = sgd_regressor_poly2.predict(x_train)\n",
        "y_pred_poly2_test = sgd_regressor_poly2.predict(x_test)\n",
        "\n",
        "# Encuentro la raíz del error cuadrático medio (RMSE) para datos de train y de test\n",
        "sgd_poly2_train_rmse = np.sqrt(mean_squared_error(y_train, y_pred_poly2_train))\n",
        "sgd_poly2_test_rmse = np.sqrt(mean_squared_error(y_test, y_pred_poly2_test))\n",
        "print(f'SGDRegressor Poly2 train RMSE: {sgd_poly2_train_rmse}')\n",
        "print(f'SGDRegressor Poly2 test RMSE: {sgd_poly2_test_rmse}')"
      ],
      "metadata": {
        "colab": {
          "base_uri": "https://localhost:8080/"
        },
        "id": "wDsnmTPUM24x",
        "outputId": "b6ccb9b6-58c5-4a2f-9e22-d91db2c9ee98"
      },
      "execution_count": 53,
      "outputs": [
        {
          "output_type": "stream",
          "name": "stdout",
          "text": [
            "SGDRegressor Poly2 train RMSE: 120687873180.47685\n",
            "SGDRegressor Poly2 test RMSE: 37491841668.35758\n"
          ]
        }
      ]
    },
    {
      "cell_type": "markdown",
      "source": [
        "El error es muy alto, intento con regularización L1."
      ],
      "metadata": {
        "id": "8GUqfZS-wfSI"
      }
    },
    {
      "cell_type": "code",
      "source": [
        "# Se realiza el entrenamiento del modelo con penalty='l1'\n",
        "sgd_regressor_poly2_l1 = SGDRegressor(penalty='l1')\n",
        "sgd_regressor_poly2_l1.fit(x_train, y_train)\n",
        "\n",
        "# Se predicen los datos\n",
        "y_pred_poly2_l1_train = sgd_regressor_poly2_l1.predict(x_train)\n",
        "y_pred_poly2_l1_test = sgd_regressor_poly2_l1.predict(x_test)\n",
        "\n",
        "# Encuentro la raíz del error cuadrático medio (RMSE) para datos de train y de test\n",
        "sgd_poly2_l1_train_rmse = np.sqrt(mean_squared_error(y_train, y_pred_poly2_l1_train))\n",
        "sgd_poly2_l1_test_rmse = np.sqrt(mean_squared_error(y_test, y_pred_poly2_l1_test))\n",
        "print(f'SGDRegressor Poly2 L1 train RMSE: {sgd_poly2_l1_train_rmse}')\n",
        "print(f'SGDRegressor Poly2 L1 test RMSE: {sgd_poly2_l1_test_rmse}')"
      ],
      "metadata": {
        "colab": {
          "base_uri": "https://localhost:8080/"
        },
        "id": "taIIHrqmwjLk",
        "outputId": "8e129473-6233-4c82-bf7a-1704a29d891d"
      },
      "execution_count": 54,
      "outputs": [
        {
          "output_type": "stream",
          "name": "stdout",
          "text": [
            "SGDRegressor Poly2 L1 train RMSE: 90800303681.67638\n",
            "SGDRegressor Poly2 L1 test RMSE: 33239352986.495705\n"
          ]
        }
      ]
    },
    {
      "cell_type": "markdown",
      "source": [
        "El error sigue siendo alto, intento con regularización L2."
      ],
      "metadata": {
        "id": "AZXut7EVw2bS"
      }
    },
    {
      "cell_type": "code",
      "source": [
        "# Se realiza el entrenamiento del modelo con penalty='l2'\n",
        "sgd_regressor_poly2_l2 = SGDRegressor(penalty='l2')\n",
        "sgd_regressor_poly2_l2.fit(x_train, y_train)\n",
        "\n",
        "# Se predicen los datos\n",
        "y_pred_poly2_l2_train = sgd_regressor_poly2_l2.predict(x_train)\n",
        "y_pred_poly2_l2_test = sgd_regressor_poly2_l2.predict(x_test)\n",
        "\n",
        "# Encuentro la raíz del error cuadrático medio (RMSE) para datos de train y de test\n",
        "sgd_poly2_l2_train_rmse = np.sqrt(mean_squared_error(y_train, y_pred_poly2_l2_train))\n",
        "sgd_poly2_l2_test_rmse = np.sqrt(mean_squared_error(y_test, y_pred_poly2_l2_test))\n",
        "print(f'SGDRegressor Poly2 L2 train RMSE: {sgd_poly2_l2_train_rmse}')\n",
        "print(f'SGDRegressor Poly2 L2 test RMSE: {sgd_poly2_l2_test_rmse}')"
      ],
      "metadata": {
        "colab": {
          "base_uri": "https://localhost:8080/"
        },
        "id": "Y6hWKYUDw6Ro",
        "outputId": "1813d2e8-f036-4c6e-e982-96ac7705f22c"
      },
      "execution_count": 55,
      "outputs": [
        {
          "output_type": "stream",
          "name": "stdout",
          "text": [
            "SGDRegressor Poly2 L2 train RMSE: 67651732492.7369\n",
            "SGDRegressor Poly2 L2 test RMSE: 28606141440.629864\n"
          ]
        }
      ]
    },
    {
      "cell_type": "markdown",
      "source": [
        "Igual, el error es muy alto.\n",
        "\n",
        "Hago el mismo proceso aumentando el número de polinomios."
      ],
      "metadata": {
        "id": "TC7pxUQsxA36"
      }
    },
    {
      "cell_type": "code",
      "source": [
        "# Polinomio con 4 grados\n",
        "poly_features = PolynomialFeatures(degree=4, include_bias=False)\n",
        "x_poly = poly_features.fit_transform(x)"
      ],
      "metadata": {
        "id": "oYkZVeVmxdTD"
      },
      "execution_count": 56,
      "outputs": []
    },
    {
      "cell_type": "code",
      "source": [
        "# Obtener variable dependiente y variables independientes\n",
        "x_train, x_test, y_train, y_test = train_test_split(x_poly, y, test_size=0.20, random_state=1)\n",
        "\n",
        "print(f'Train: {x_train.shape}')\n",
        "print(f'Test: {x_test.shape}')\n",
        "\n",
        "# Se estandariza el dataset usando 'StandarScaler'\n",
        "sc = StandardScaler()\n",
        "x_train = sc.fit_transform(x_train) # Solo para datos de entrenamiento se utiliza \"fit_transform\"\n",
        "x_test = sc.transform(x_test)"
      ],
      "metadata": {
        "colab": {
          "base_uri": "https://localhost:8080/"
        },
        "id": "HibAWp_Hxk0q",
        "outputId": "1b7bc5e8-2e61-4613-bd80-b060479f265c"
      },
      "execution_count": 57,
      "outputs": [
        {
          "output_type": "stream",
          "name": "stdout",
          "text": [
            "Train: (79572, 1819)\n",
            "Test: (19893, 1819)\n"
          ]
        }
      ]
    },
    {
      "cell_type": "markdown",
      "source": [
        "El número de columnas aumentó a 1819."
      ],
      "metadata": {
        "id": "vLyX8jiExrpS"
      }
    },
    {
      "cell_type": "markdown",
      "source": [
        "### Gradiente descendente y transformación polynomial 4"
      ],
      "metadata": {
        "id": "QFLbKfutxzIW"
      }
    },
    {
      "cell_type": "code",
      "source": [
        "# Se realiza el entrenamiento del modelo con penalty=None\n",
        "sgd_regressor_poly5 = SGDRegressor(penalty=None)\n",
        "sgd_regressor_poly5.fit(x_train, y_train)\n",
        "\n",
        "# Se predicen los datos\n",
        "y_pred_poly5_train = sgd_regressor_poly5.predict(x_train)\n",
        "y_pred_poly5_test = sgd_regressor_poly5.predict(x_test)\n",
        "\n",
        "# Encuentro la raíz del error cuadrático medio (RMSE) para datos de train y de test\n",
        "sgd_poly5_train_rmse = np.sqrt(mean_squared_error(y_train, y_pred_poly5_train))\n",
        "sgd_poly5_test_rmse = np.sqrt(mean_squared_error(y_test, y_pred_poly5_test))\n",
        "print(f'SGDRegressor Poly5 train RMSE: {sgd_poly5_train_rmse}')\n",
        "print(f'SGDRegressor Poly5 test RMSE: {sgd_poly5_test_rmse}')"
      ],
      "metadata": {
        "colab": {
          "base_uri": "https://localhost:8080/"
        },
        "id": "sua2NzITx4G1",
        "outputId": "5cfb7274-3f11-48a4-e53a-9116d7e050bb"
      },
      "execution_count": 58,
      "outputs": [
        {
          "output_type": "stream",
          "name": "stdout",
          "text": [
            "SGDRegressor Poly5 train RMSE: 2577741920898.03\n",
            "SGDRegressor Poly5 test RMSE: 558462077576.7395\n"
          ]
        }
      ]
    },
    {
      "cell_type": "markdown",
      "source": [
        "### Conclusiones de transformación polinomial con gradiente descendente"
      ],
      "metadata": {
        "id": "miNXuLBGxDhz"
      }
    },
    {
      "cell_type": "markdown",
      "source": [
        "1. Se confirma que en un modelo que no tiene overfitting no vale la pena aplicar funciones de reglarización ni transformación polinomial ya que el error RMSE no mejora.\n",
        "2. Al aumentar los grados del polinomio el error empeoraba."
      ],
      "metadata": {
        "id": "kp0PkJ3XxLR_"
      }
    },
    {
      "cell_type": "markdown",
      "source": [
        "# Trabajar con el dataset new"
      ],
      "metadata": {
        "id": "JLA-F4osAqPO"
      }
    },
    {
      "cell_type": "markdown",
      "source": [
        "El mejor modelo es el construido con LinearRegression, ahora procedo a predecir con el dataset `df_new`."
      ],
      "metadata": {
        "id": "W2BRgn24Atc7"
      }
    },
    {
      "cell_type": "code",
      "source": [
        "# Se predicen los datos\n",
        "y_pred_lr_train_new = simple_linear_regression.predict(df_new)\n",
        "\n",
        "# Estos son los resultados\n",
        "results = pd.DataFrame(data={'number_of_reviews_pred': y_pred_lr_train_new})\n",
        "results"
      ],
      "metadata": {
        "colab": {
          "base_uri": "https://localhost:8080/",
          "height": 424
        },
        "id": "5-T0_oCOBLab",
        "outputId": "128796d4-5eb9-48c6-a62c-d03ad57d7361"
      },
      "execution_count": 59,
      "outputs": [
        {
          "output_type": "execute_result",
          "data": {
            "text/plain": [
              "     number_of_reviews_pred\n",
              "0                 75.686705\n",
              "1                 50.329731\n",
              "2                 33.386957\n",
              "3                 25.679675\n",
              "4                163.531788\n",
              "..                      ...\n",
              "507               27.565709\n",
              "508               35.393154\n",
              "509              136.001592\n",
              "510               41.036533\n",
              "511               81.026956\n",
              "\n",
              "[512 rows x 1 columns]"
            ],
            "text/html": [
              "\n",
              "  <div id=\"df-cb2cf1f5-868b-43d6-823d-20863bde3c43\">\n",
              "    <div class=\"colab-df-container\">\n",
              "      <div>\n",
              "<style scoped>\n",
              "    .dataframe tbody tr th:only-of-type {\n",
              "        vertical-align: middle;\n",
              "    }\n",
              "\n",
              "    .dataframe tbody tr th {\n",
              "        vertical-align: top;\n",
              "    }\n",
              "\n",
              "    .dataframe thead th {\n",
              "        text-align: right;\n",
              "    }\n",
              "</style>\n",
              "<table border=\"1\" class=\"dataframe\">\n",
              "  <thead>\n",
              "    <tr style=\"text-align: right;\">\n",
              "      <th></th>\n",
              "      <th>number_of_reviews_pred</th>\n",
              "    </tr>\n",
              "  </thead>\n",
              "  <tbody>\n",
              "    <tr>\n",
              "      <th>0</th>\n",
              "      <td>75.686705</td>\n",
              "    </tr>\n",
              "    <tr>\n",
              "      <th>1</th>\n",
              "      <td>50.329731</td>\n",
              "    </tr>\n",
              "    <tr>\n",
              "      <th>2</th>\n",
              "      <td>33.386957</td>\n",
              "    </tr>\n",
              "    <tr>\n",
              "      <th>3</th>\n",
              "      <td>25.679675</td>\n",
              "    </tr>\n",
              "    <tr>\n",
              "      <th>4</th>\n",
              "      <td>163.531788</td>\n",
              "    </tr>\n",
              "    <tr>\n",
              "      <th>...</th>\n",
              "      <td>...</td>\n",
              "    </tr>\n",
              "    <tr>\n",
              "      <th>507</th>\n",
              "      <td>27.565709</td>\n",
              "    </tr>\n",
              "    <tr>\n",
              "      <th>508</th>\n",
              "      <td>35.393154</td>\n",
              "    </tr>\n",
              "    <tr>\n",
              "      <th>509</th>\n",
              "      <td>136.001592</td>\n",
              "    </tr>\n",
              "    <tr>\n",
              "      <th>510</th>\n",
              "      <td>41.036533</td>\n",
              "    </tr>\n",
              "    <tr>\n",
              "      <th>511</th>\n",
              "      <td>81.026956</td>\n",
              "    </tr>\n",
              "  </tbody>\n",
              "</table>\n",
              "<p>512 rows × 1 columns</p>\n",
              "</div>\n",
              "      <button class=\"colab-df-convert\" onclick=\"convertToInteractive('df-cb2cf1f5-868b-43d6-823d-20863bde3c43')\"\n",
              "              title=\"Convert this dataframe to an interactive table.\"\n",
              "              style=\"display:none;\">\n",
              "        \n",
              "  <svg xmlns=\"http://www.w3.org/2000/svg\" height=\"24px\"viewBox=\"0 0 24 24\"\n",
              "       width=\"24px\">\n",
              "    <path d=\"M0 0h24v24H0V0z\" fill=\"none\"/>\n",
              "    <path d=\"M18.56 5.44l.94 2.06.94-2.06 2.06-.94-2.06-.94-.94-2.06-.94 2.06-2.06.94zm-11 1L8.5 8.5l.94-2.06 2.06-.94-2.06-.94L8.5 2.5l-.94 2.06-2.06.94zm10 10l.94 2.06.94-2.06 2.06-.94-2.06-.94-.94-2.06-.94 2.06-2.06.94z\"/><path d=\"M17.41 7.96l-1.37-1.37c-.4-.4-.92-.59-1.43-.59-.52 0-1.04.2-1.43.59L10.3 9.45l-7.72 7.72c-.78.78-.78 2.05 0 2.83L4 21.41c.39.39.9.59 1.41.59.51 0 1.02-.2 1.41-.59l7.78-7.78 2.81-2.81c.8-.78.8-2.07 0-2.86zM5.41 20L4 18.59l7.72-7.72 1.47 1.35L5.41 20z\"/>\n",
              "  </svg>\n",
              "      </button>\n",
              "      \n",
              "  <style>\n",
              "    .colab-df-container {\n",
              "      display:flex;\n",
              "      flex-wrap:wrap;\n",
              "      gap: 12px;\n",
              "    }\n",
              "\n",
              "    .colab-df-convert {\n",
              "      background-color: #E8F0FE;\n",
              "      border: none;\n",
              "      border-radius: 50%;\n",
              "      cursor: pointer;\n",
              "      display: none;\n",
              "      fill: #1967D2;\n",
              "      height: 32px;\n",
              "      padding: 0 0 0 0;\n",
              "      width: 32px;\n",
              "    }\n",
              "\n",
              "    .colab-df-convert:hover {\n",
              "      background-color: #E2EBFA;\n",
              "      box-shadow: 0px 1px 2px rgba(60, 64, 67, 0.3), 0px 1px 3px 1px rgba(60, 64, 67, 0.15);\n",
              "      fill: #174EA6;\n",
              "    }\n",
              "\n",
              "    [theme=dark] .colab-df-convert {\n",
              "      background-color: #3B4455;\n",
              "      fill: #D2E3FC;\n",
              "    }\n",
              "\n",
              "    [theme=dark] .colab-df-convert:hover {\n",
              "      background-color: #434B5C;\n",
              "      box-shadow: 0px 1px 3px 1px rgba(0, 0, 0, 0.15);\n",
              "      filter: drop-shadow(0px 1px 2px rgba(0, 0, 0, 0.3));\n",
              "      fill: #FFFFFF;\n",
              "    }\n",
              "  </style>\n",
              "\n",
              "      <script>\n",
              "        const buttonEl =\n",
              "          document.querySelector('#df-cb2cf1f5-868b-43d6-823d-20863bde3c43 button.colab-df-convert');\n",
              "        buttonEl.style.display =\n",
              "          google.colab.kernel.accessAllowed ? 'block' : 'none';\n",
              "\n",
              "        async function convertToInteractive(key) {\n",
              "          const element = document.querySelector('#df-cb2cf1f5-868b-43d6-823d-20863bde3c43');\n",
              "          const dataTable =\n",
              "            await google.colab.kernel.invokeFunction('convertToInteractive',\n",
              "                                                     [key], {});\n",
              "          if (!dataTable) return;\n",
              "\n",
              "          const docLinkHtml = 'Like what you see? Visit the ' +\n",
              "            '<a target=\"_blank\" href=https://colab.research.google.com/notebooks/data_table.ipynb>data table notebook</a>'\n",
              "            + ' to learn more about interactive tables.';\n",
              "          element.innerHTML = '';\n",
              "          dataTable['output_type'] = 'display_data';\n",
              "          await google.colab.output.renderOutput(dataTable, element);\n",
              "          const docLink = document.createElement('div');\n",
              "          docLink.innerHTML = docLinkHtml;\n",
              "          element.appendChild(docLink);\n",
              "        }\n",
              "      </script>\n",
              "    </div>\n",
              "  </div>\n",
              "  "
            ]
          },
          "metadata": {},
          "execution_count": 59
        }
      ]
    },
    {
      "cell_type": "markdown",
      "source": [
        "Reviso las gráficas de distribución para \"y_pred_lr_train\" (Predicho con los datos de entrenamiento) y para \"y_pred_lr_train_new\" (Predicho con el dataset nuevo)."
      ],
      "metadata": {
        "id": "D5jQM0f_48Yc"
      }
    },
    {
      "cell_type": "code",
      "source": [
        "# Reviso la distribución de los datos predichos en train\n",
        "results_train = pd.DataFrame(data={'number_of_reviews_pred': y_pred_lr_train})\n",
        "results_train['number_of_reviews_pred'].describe(percentiles = [.25, .5, .75, .95, .99])"
      ],
      "metadata": {
        "colab": {
          "base_uri": "https://localhost:8080/"
        },
        "id": "usLcnySZ08hy",
        "outputId": "87b8d6b7-4945-473d-b4a9-7c91d007ae44"
      },
      "execution_count": 60,
      "outputs": [
        {
          "output_type": "execute_result",
          "data": {
            "text/plain": [
              "count    79572.000000\n",
              "mean         2.393397\n",
              "std          0.529133\n",
              "min        -37.529712\n",
              "25%          2.010962\n",
              "50%          2.347329\n",
              "75%          2.731321\n",
              "95%          3.271983\n",
              "99%          3.605460\n",
              "max         11.736288\n",
              "Name: number_of_reviews_pred, dtype: float64"
            ]
          },
          "metadata": {},
          "execution_count": 60
        }
      ]
    },
    {
      "cell_type": "code",
      "source": [
        "plt.figure(figsize = (28, 3))\n",
        "plt.boxplot(results_train['number_of_reviews_pred'], vert = False)\n",
        "plt.show()"
      ],
      "metadata": {
        "colab": {
          "base_uri": "https://localhost:8080/",
          "height": 197
        },
        "id": "UY26XmBf2Ni6",
        "outputId": "d2d9e36d-4fd9-4be2-df6e-c2b431d31727"
      },
      "execution_count": 61,
      "outputs": [
        {
          "output_type": "display_data",
          "data": {
            "text/plain": [
              "<Figure size 2016x216 with 1 Axes>"
            ],
            "image/png": "[encoded data removed]"
          },
          "metadata": {
            "needs_background": "light"
          }
        }
      ]
    },
    {
      "cell_type": "code",
      "source": [
        "# Reviso la distribución de los datos predichos con el dataset new\n",
        "results['number_of_reviews_pred'].describe(percentiles = [.25, .5, .75, .95, .99])"
      ],
      "metadata": {
        "colab": {
          "base_uri": "https://localhost:8080/"
        },
        "id": "lMMF68DpvWgC",
        "outputId": "0251ae2c-be04-4c43-fad2-f3ed8a60f46f"
      },
      "execution_count": 62,
      "outputs": [
        {
          "output_type": "execute_result",
          "data": {
            "text/plain": [
              "count    512.000000\n",
              "mean      75.253061\n",
              "std       50.693726\n",
              "min      -22.953933\n",
              "25%       29.634954\n",
              "50%       58.654852\n",
              "75%      122.049306\n",
              "95%      161.888967\n",
              "99%      172.560709\n",
              "max      184.081267\n",
              "Name: number_of_reviews_pred, dtype: float64"
            ]
          },
          "metadata": {},
          "execution_count": 62
        }
      ]
    },
    {
      "cell_type": "code",
      "source": [
        "plt.figure(figsize = (28, 3))\n",
        "plt.boxplot(results['number_of_reviews_pred'], vert = False)\n",
        "plt.show()"
      ],
      "metadata": {
        "colab": {
          "base_uri": "https://localhost:8080/",
          "height": 197
        },
        "id": "woxb1nmmx3zf",
        "outputId": "cb0b826e-1595-4666-dec4-45363e61b20e"
      },
      "execution_count": 63,
      "outputs": [
        {
          "output_type": "display_data",
          "data": {
            "text/plain": [
              "<Figure size 2016x216 with 1 Axes>"
            ],
            "image/png": "[encoded data removed]"
          },
          "metadata": {
            "needs_background": "light"
          }
        }
      ]
    },
    {
      "cell_type": "markdown",
      "source": [
        "# Conclusiones"
      ],
      "metadata": {
        "id": "mIDzs2dnKdlF"
      }
    },
    {
      "cell_type": "markdown",
      "source": [
        "1. Revisando las distribuciones de los datos predichos en train y con el dataset new no son similares.\n",
        "2. El número máximo para \"number of reviews\" de nuestro modelo era el 100% y en los datos predichos tenemos números mucho más grandes, inclusive hasta se obtuvieron números negativos.\n",
        "\n",
        "Es por eso que he decidido que todos los datos predichos que estén por debajo del 100% (Serían los que estén por debajo del percentil 75) son los inmuebles menos populares."
      ],
      "metadata": {
        "id": "QLf0bowYxlol"
      }
    },
    {
      "cell_type": "code",
      "source": [
        "# Concateno los datasets para poder trabajar mejor\n",
        "df_new = pd.concat([df_new, results], axis=1)\n",
        "\n",
        "# Ahora el dataset new ya cuenta con los datos predichos\n",
        "df_new.head(5)"
      ],
      "metadata": {
        "colab": {
          "base_uri": "https://localhost:8080/",
          "height": 270
        },
        "id": "f3uZ7B9jyOw3",
        "outputId": "62638025-c405-4a23-a9c7-bef71d8dc358"
      },
      "execution_count": 64,
      "outputs": [
        {
          "output_type": "execute_result",
          "data": {
            "text/plain": [
              "   neighbourhood_group  neighbourhood  cancellation_policy  room_type  \\\n",
              "0                  3.0           63.0                  1.0        2.0   \n",
              "1                  2.0           15.0                  1.0        0.0   \n",
              "2                  3.0           24.0                  0.0        2.0   \n",
              "3                  2.0           38.0                  2.0        2.0   \n",
              "4                  2.0           85.0                  2.0        0.0   \n",
              "\n",
              "        lat      long  instant_bookable  construction_year  price  \\\n",
              "0  40.68432 -73.85862               0.0             2006.0  519.0   \n",
              "1  40.71317 -74.00654               0.0             2006.0  987.0   \n",
              "2  40.76441 -73.88943               1.0             2018.0  999.0   \n",
              "3  40.73442 -73.98383               1.0             2011.0  497.0   \n",
              "4  40.79660 -73.97154               1.0             2022.0  820.0   \n",
              "\n",
              "   service_fee  minimum_nights  availability_365  number_of_reviews_pred  \n",
              "0        104.0             1.0        141.075439               75.686705  \n",
              "1        197.0             2.0         42.000000               50.329731  \n",
              "2        200.0             2.0          0.000000               33.386957  \n",
              "3         99.0             4.0          0.000000               25.679675  \n",
              "4        164.0             4.0        376.000000              163.531788  "
            ],
            "text/html": [
              "\n",
              "  <div id=\"df-3cc6353d-7cd2-4008-afc9-c4232fe30484\">\n",
              "    <div class=\"colab-df-container\">\n",
              "      <div>\n",
              "<style scoped>\n",
              "    .dataframe tbody tr th:only-of-type {\n",
              "        vertical-align: middle;\n",
              "    }\n",
              "\n",
              "    .dataframe tbody tr th {\n",
              "        vertical-align: top;\n",
              "    }\n",
              "\n",
              "    .dataframe thead th {\n",
              "        text-align: right;\n",
              "    }\n",
              "</style>\n",
              "<table border=\"1\" class=\"dataframe\">\n",
              "  <thead>\n",
              "    <tr style=\"text-align: right;\">\n",
              "      <th></th>\n",
              "      <th>neighbourhood_group</th>\n",
              "      <th>neighbourhood</th>\n",
              "      <th>cancellation_policy</th>\n",
              "      <th>room_type</th>\n",
              "      <th>lat</th>\n",
              "      <th>long</th>\n",
              "      <th>instant_bookable</th>\n",
              "      <th>construction_year</th>\n",
              "      <th>price</th>\n",
              "      <th>service_fee</th>\n",
              "      <th>minimum_nights</th>\n",
              "      <th>availability_365</th>\n",
              "      <th>number_of_reviews_pred</th>\n",
              "    </tr>\n",
              "  </thead>\n",
              "  <tbody>\n",
              "    <tr>\n",
              "      <th>0</th>\n",
              "      <td>3.0</td>\n",
              "      <td>63.0</td>\n",
              "      <td>1.0</td>\n",
              "      <td>2.0</td>\n",
              "      <td>40.68432</td>\n",
              "      <td>-73.85862</td>\n",
              "      <td>0.0</td>\n",
              "      <td>2006.0</td>\n",
              "      <td>519.0</td>\n",
              "      <td>104.0</td>\n",
              "      <td>1.0</td>\n",
              "      <td>141.075439</td>\n",
              "      <td>75.686705</td>\n",
              "    </tr>\n",
              "    <tr>\n",
              "      <th>1</th>\n",
              "      <td>2.0</td>\n",
              "      <td>15.0</td>\n",
              "      <td>1.0</td>\n",
              "      <td>0.0</td>\n",
              "      <td>40.71317</td>\n",
              "      <td>-74.00654</td>\n",
              "      <td>0.0</td>\n",
              "      <td>2006.0</td>\n",
              "      <td>987.0</td>\n",
              "      <td>197.0</td>\n",
              "      <td>2.0</td>\n",
              "      <td>42.000000</td>\n",
              "      <td>50.329731</td>\n",
              "    </tr>\n",
              "    <tr>\n",
              "      <th>2</th>\n",
              "      <td>3.0</td>\n",
              "      <td>24.0</td>\n",
              "      <td>0.0</td>\n",
              "      <td>2.0</td>\n",
              "      <td>40.76441</td>\n",
              "      <td>-73.88943</td>\n",
              "      <td>1.0</td>\n",
              "      <td>2018.0</td>\n",
              "      <td>999.0</td>\n",
              "      <td>200.0</td>\n",
              "      <td>2.0</td>\n",
              "      <td>0.000000</td>\n",
              "      <td>33.386957</td>\n",
              "    </tr>\n",
              "    <tr>\n",
              "      <th>3</th>\n",
              "      <td>2.0</td>\n",
              "      <td>38.0</td>\n",
              "      <td>2.0</td>\n",
              "      <td>2.0</td>\n",
              "      <td>40.73442</td>\n",
              "      <td>-73.98383</td>\n",
              "      <td>1.0</td>\n",
              "      <td>2011.0</td>\n",
              "      <td>497.0</td>\n",
              "      <td>99.0</td>\n",
              "      <td>4.0</td>\n",
              "      <td>0.000000</td>\n",
              "      <td>25.679675</td>\n",
              "    </tr>\n",
              "    <tr>\n",
              "      <th>4</th>\n",
              "      <td>2.0</td>\n",
              "      <td>85.0</td>\n",
              "      <td>2.0</td>\n",
              "      <td>0.0</td>\n",
              "      <td>40.79660</td>\n",
              "      <td>-73.97154</td>\n",
              "      <td>1.0</td>\n",
              "      <td>2022.0</td>\n",
              "      <td>820.0</td>\n",
              "      <td>164.0</td>\n",
              "      <td>4.0</td>\n",
              "      <td>376.000000</td>\n",
              "      <td>163.531788</td>\n",
              "    </tr>\n",
              "  </tbody>\n",
              "</table>\n",
              "</div>\n",
              "      <button class=\"colab-df-convert\" onclick=\"convertToInteractive('df-3cc6353d-7cd2-4008-afc9-c4232fe30484')\"\n",
              "              title=\"Convert this dataframe to an interactive table.\"\n",
              "              style=\"display:none;\">\n",
              "        \n",
              "  <svg xmlns=\"http://www.w3.org/2000/svg\" height=\"24px\"viewBox=\"0 0 24 24\"\n",
              "       width=\"24px\">\n",
              "    <path d=\"M0 0h24v24H0V0z\" fill=\"none\"/>\n",
              "    <path d=\"M18.56 5.44l.94 2.06.94-2.06 2.06-.94-2.06-.94-.94-2.06-.94 2.06-2.06.94zm-11 1L8.5 8.5l.94-2.06 2.06-.94-2.06-.94L8.5 2.5l-.94 2.06-2.06.94zm10 10l.94 2.06.94-2.06 2.06-.94-2.06-.94-.94-2.06-.94 2.06-2.06.94z\"/><path d=\"M17.41 7.96l-1.37-1.37c-.4-.4-.92-.59-1.43-.59-.52 0-1.04.2-1.43.59L10.3 9.45l-7.72 7.72c-.78.78-.78 2.05 0 2.83L4 21.41c.39.39.9.59 1.41.59.51 0 1.02-.2 1.41-.59l7.78-7.78 2.81-2.81c.8-.78.8-2.07 0-2.86zM5.41 20L4 18.59l7.72-7.72 1.47 1.35L5.41 20z\"/>\n",
              "  </svg>\n",
              "      </button>\n",
              "      \n",
              "  <style>\n",
              "    .colab-df-container {\n",
              "      display:flex;\n",
              "      flex-wrap:wrap;\n",
              "      gap: 12px;\n",
              "    }\n",
              "\n",
              "    .colab-df-convert {\n",
              "      background-color: #E8F0FE;\n",
              "      border: none;\n",
              "      border-radius: 50%;\n",
              "      cursor: pointer;\n",
              "      display: none;\n",
              "      fill: #1967D2;\n",
              "      height: 32px;\n",
              "      padding: 0 0 0 0;\n",
              "      width: 32px;\n",
              "    }\n",
              "\n",
              "    .colab-df-convert:hover {\n",
              "      background-color: #E2EBFA;\n",
              "      box-shadow: 0px 1px 2px rgba(60, 64, 67, 0.3), 0px 1px 3px 1px rgba(60, 64, 67, 0.15);\n",
              "      fill: #174EA6;\n",
              "    }\n",
              "\n",
              "    [theme=dark] .colab-df-convert {\n",
              "      background-color: #3B4455;\n",
              "      fill: #D2E3FC;\n",
              "    }\n",
              "\n",
              "    [theme=dark] .colab-df-convert:hover {\n",
              "      background-color: #434B5C;\n",
              "      box-shadow: 0px 1px 3px 1px rgba(0, 0, 0, 0.15);\n",
              "      filter: drop-shadow(0px 1px 2px rgba(0, 0, 0, 0.3));\n",
              "      fill: #FFFFFF;\n",
              "    }\n",
              "  </style>\n",
              "\n",
              "      <script>\n",
              "        const buttonEl =\n",
              "          document.querySelector('#df-3cc6353d-7cd2-4008-afc9-c4232fe30484 button.colab-df-convert');\n",
              "        buttonEl.style.display =\n",
              "          google.colab.kernel.accessAllowed ? 'block' : 'none';\n",
              "\n",
              "        async function convertToInteractive(key) {\n",
              "          const element = document.querySelector('#df-3cc6353d-7cd2-4008-afc9-c4232fe30484');\n",
              "          const dataTable =\n",
              "            await google.colab.kernel.invokeFunction('convertToInteractive',\n",
              "                                                     [key], {});\n",
              "          if (!dataTable) return;\n",
              "\n",
              "          const docLinkHtml = 'Like what you see? Visit the ' +\n",
              "            '<a target=\"_blank\" href=https://colab.research.google.com/notebooks/data_table.ipynb>data table notebook</a>'\n",
              "            + ' to learn more about interactive tables.';\n",
              "          element.innerHTML = '';\n",
              "          dataTable['output_type'] = 'display_data';\n",
              "          await google.colab.output.renderOutput(dataTable, element);\n",
              "          const docLink = document.createElement('div');\n",
              "          docLink.innerHTML = docLinkHtml;\n",
              "          element.appendChild(docLink);\n",
              "        }\n",
              "      </script>\n",
              "    </div>\n",
              "  </div>\n",
              "  "
            ]
          },
          "metadata": {},
          "execution_count": 64
        }
      ]
    },
    {
      "cell_type": "code",
      "source": [
        "# Calculo el presupuesto basado en el precio de los inmuebles\n",
        "less_popular_df = df_new.loc[df_new['number_of_reviews_pred'] <= df_new['number_of_reviews_pred'].quantile(.75)]\n",
        "\n",
        "budget = less_popular_df['price'].sum() * 0.02\n",
        "print(f'Presupuesto necesario: $ {budget}')\n",
        "\n",
        "# Calculo el total de inmuebles a promocionar\n",
        "property_count = len(less_popular_df)\n",
        "print(f'Total de inmuebles a promocionar: {property_count}')"
      ],
      "metadata": {
        "colab": {
          "base_uri": "https://localhost:8080/"
        },
        "id": "MhIDNc2OzUKt",
        "outputId": "cb2bb42d-e8d9-46bf-c1d9-b1d747aa5093"
      },
      "execution_count": 65,
      "outputs": [
        {
          "output_type": "stream",
          "name": "stdout",
          "text": [
            "Presupuesto necesario: $ 3206.6795999999995\n",
            "Total de inmuebles a promocionar: 384\n"
          ]
        }
      ]
    }
  ]
}